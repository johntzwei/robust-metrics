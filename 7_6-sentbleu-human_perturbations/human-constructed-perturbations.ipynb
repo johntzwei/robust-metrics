{
 "cells": [
  {
   "cell_type": "code",
   "execution_count": 1,
   "metadata": {},
   "outputs": [],
   "source": [
    "import nltk\n",
    "from nltk import bigrams\n",
    "from nltk.translate.bleu_score import sentence_bleu\n",
    "from nltk.tokenize import word_tokenize\n",
    "from nltk.corpus import stopwords\n",
    "from nltk.tokenize.treebank import TreebankWordTokenizer, TreebankWordDetokenizer\n",
    "from nltk.corpus import wordnet as wn\n",
    "\n",
    "import re\n",
    "import itertools\n",
    "import random\n",
    "import pickle\n",
    "import pandas as pd\n",
    "from tqdm import tqdm"
   ]
  },
  {
   "cell_type": "markdown",
   "metadata": {},
   "source": [
    "# WMT16 and WMT17 segment-level data "
   ]
  },
  {
   "cell_type": "code",
   "execution_count": 2,
   "metadata": {},
   "outputs": [],
   "source": [
    "wmt16 = pickle.load(open('../wmt16-19-metrics-shared-task/data/pickles/wmt16-seg_level-agg.pkl', 'rb'))\n",
    "wmt16['year'] = len(wmt16)*[2016]\n",
    "\n",
    "wmt17 = pickle.load(open('../wmt16-19-metrics-shared-task/data/pickles/wmt17-seg_level-agg.pkl', 'rb'))\n",
    "wmt17['year'] = len(wmt17)*[2017]\n",
    "\n",
    "wmt_mst_seg = pd.concat([wmt16, wmt17])\n",
    "wmt_mst_seg_toen = wmt_mst_seg[wmt_mst_seg.lp.str.endswith('de-en') & (wmt_mst_seg.year == 2016)].copy()"
   ]
  },
  {
   "cell_type": "code",
   "execution_count": 3,
   "metadata": {
    "scrolled": true
   },
   "outputs": [
    {
     "data": {
      "text/html": [
       "<div>\n",
       "<style scoped>\n",
       "    .dataframe tbody tr th:only-of-type {\n",
       "        vertical-align: middle;\n",
       "    }\n",
       "\n",
       "    .dataframe tbody tr th {\n",
       "        vertical-align: top;\n",
       "    }\n",
       "\n",
       "    .dataframe thead th {\n",
       "        text-align: right;\n",
       "    }\n",
       "</style>\n",
       "<table border=\"1\" class=\"dataframe\">\n",
       "  <thead>\n",
       "    <tr style=\"text-align: right;\">\n",
       "      <th></th>\n",
       "      <th>lp</th>\n",
       "      <th>system</th>\n",
       "      <th>sid</th>\n",
       "      <th>sentBLEU</th>\n",
       "      <th>score</th>\n",
       "      <th>output</th>\n",
       "      <th>reference</th>\n",
       "      <th>source</th>\n",
       "      <th>year</th>\n",
       "    </tr>\n",
       "  </thead>\n",
       "  <tbody>\n",
       "    <tr>\n",
       "      <th>0</th>\n",
       "      <td>en-ru</td>\n",
       "      <td>jhu-pbmt</td>\n",
       "      <td>1092</td>\n",
       "      <td>0.273012</td>\n",
       "      <td>0.363122</td>\n",
       "      <td>43 закусочных нарушил требования к организации...</td>\n",
       "      <td>43 закусочных нарушили требования к устройству...</td>\n",
       "      <td>43 eateries violated requirements for the orga...</td>\n",
       "      <td>2016</td>\n",
       "    </tr>\n",
       "    <tr>\n",
       "      <th>1</th>\n",
       "      <td>en-ru</td>\n",
       "      <td>online-G</td>\n",
       "      <td>750</td>\n",
       "      <td>0.076668</td>\n",
       "      <td>-0.450232</td>\n",
       "      <td>Учитывая, что он представляет собой сугубо пра...</td>\n",
       "      <td>Кажется маловероятным, что Кэмерон, будучи, по...</td>\n",
       "      <td>Given he is an avowedly hands-on parent, it se...</td>\n",
       "      <td>2016</td>\n",
       "    </tr>\n",
       "    <tr>\n",
       "      <th>2</th>\n",
       "      <td>en-ru</td>\n",
       "      <td>AFRL-MITLL-phrase-based</td>\n",
       "      <td>2786</td>\n",
       "      <td>0.252464</td>\n",
       "      <td>0.113451</td>\n",
       "      <td>Печать процессы глобализации должны помогли ум...</td>\n",
       "      <td>Распечатать Процессы глобализации должны были ...</td>\n",
       "      <td>Printing the Processes of Globalisation should...</td>\n",
       "      <td>2016</td>\n",
       "    </tr>\n",
       "    <tr>\n",
       "      <th>3</th>\n",
       "      <td>en-ru</td>\n",
       "      <td>LIMSI</td>\n",
       "      <td>250</td>\n",
       "      <td>0.531697</td>\n",
       "      <td>-0.257524</td>\n",
       "      <td>Это нечто значительное, странное или необычное...</td>\n",
       "      <td>Что-то важное, странное или необычное происход...</td>\n",
       "      <td>Is something significant, bizarre or unusual h...</td>\n",
       "      <td>2016</td>\n",
       "    </tr>\n",
       "    <tr>\n",
       "      <th>4</th>\n",
       "      <td>en-ru</td>\n",
       "      <td>AFRL-MITLL-phrase-based</td>\n",
       "      <td>88</td>\n",
       "      <td>0.097414</td>\n",
       "      <td>-0.695001</td>\n",
       "      <td>В то время как сами праздничные дни месяца, в ...</td>\n",
       "      <td>Хотя до праздников еще несколько месяцев, сезо...</td>\n",
       "      <td>While the holidays themselves are months away,...</td>\n",
       "      <td>2016</td>\n",
       "    </tr>\n",
       "  </tbody>\n",
       "</table>\n",
       "</div>"
      ],
      "text/plain": [
       "      lp                   system   sid  sentBLEU     score  \\\n",
       "0  en-ru                 jhu-pbmt  1092  0.273012  0.363122   \n",
       "1  en-ru                 online-G   750  0.076668 -0.450232   \n",
       "2  en-ru  AFRL-MITLL-phrase-based  2786  0.252464  0.113451   \n",
       "3  en-ru                    LIMSI   250  0.531697 -0.257524   \n",
       "4  en-ru  AFRL-MITLL-phrase-based    88  0.097414 -0.695001   \n",
       "\n",
       "                                              output  \\\n",
       "0  43 закусочных нарушил требования к организации...   \n",
       "1  Учитывая, что он представляет собой сугубо пра...   \n",
       "2  Печать процессы глобализации должны помогли ум...   \n",
       "3  Это нечто значительное, странное или необычное...   \n",
       "4  В то время как сами праздничные дни месяца, в ...   \n",
       "\n",
       "                                           reference  \\\n",
       "0  43 закусочных нарушили требования к устройству...   \n",
       "1  Кажется маловероятным, что Кэмерон, будучи, по...   \n",
       "2  Распечатать Процессы глобализации должны были ...   \n",
       "3  Что-то важное, странное или необычное происход...   \n",
       "4  Хотя до праздников еще несколько месяцев, сезо...   \n",
       "\n",
       "                                              source  year  \n",
       "0  43 eateries violated requirements for the orga...  2016  \n",
       "1  Given he is an avowedly hands-on parent, it se...  2016  \n",
       "2  Printing the Processes of Globalisation should...  2016  \n",
       "3  Is something significant, bizarre or unusual h...  2016  \n",
       "4  While the holidays themselves are months away,...  2016  "
      ]
     },
     "execution_count": 3,
     "metadata": {},
     "output_type": "execute_result"
    }
   ],
   "source": [
    "wmt_mst_seg.head(5)"
   ]
  },
  {
   "cell_type": "code",
   "execution_count": 4,
   "metadata": {
    "scrolled": true
   },
   "outputs": [
    {
     "name": "stdout",
     "output_type": "stream",
     "text": [
      "through minor borders on the Austrian side, says a spokesperson for the Federal police.\n",
      "Out on the Austrian side, a spokesman for the federal police said.\n"
     ]
    }
   ],
   "source": [
    "reference = wmt_mst_seg[wmt_mst_seg.lp == 'de-en'].iloc[8]['reference'].strip()\n",
    "hypothesis = wmt_mst_seg[wmt_mst_seg.lp == 'de-en'].iloc[8]['output'].strip()\n",
    "print(reference.strip())\n",
    "print(hypothesis)"
   ]
  },
  {
   "cell_type": "markdown",
   "metadata": {},
   "source": [
    "# Level sets"
   ]
  },
  {
   "cell_type": "markdown",
   "metadata": {},
   "source": [
    "### Reference response"
   ]
  },
  {
   "cell_type": "code",
   "execution_count": 5,
   "metadata": {},
   "outputs": [],
   "source": [
    "def identity(hypothesis):\n",
    "    return hypothesis"
   ]
  },
  {
   "cell_type": "markdown",
   "metadata": {},
   "source": [
    "### Removing punctuation"
   ]
  },
  {
   "cell_type": "code",
   "execution_count": 6,
   "metadata": {
    "scrolled": false
   },
   "outputs": [
    {
     "data": {
      "text/plain": [
       "'Out on the Austrian side a spokesman for the federal police said'"
      ]
     },
     "execution_count": 6,
     "metadata": {},
     "output_type": "execute_result"
    }
   ],
   "source": [
    "def remove_punct(hypothesis):\n",
    "    return re.sub(r'[^\\w\\s]', '', hypothesis)\n",
    "\n",
    "remove_punct(hypothesis)"
   ]
  },
  {
   "cell_type": "markdown",
   "metadata": {},
   "source": [
    "### Simplifying response"
   ]
  },
  {
   "cell_type": "code",
   "execution_count": 7,
   "metadata": {},
   "outputs": [
    {
     "name": "stderr",
     "output_type": "stream",
     "text": [
      "[nltk_data] Downloading package averaged_perceptron_tagger to\n",
      "[nltk_data]     /nas/home/jwei/nltk_data...\n",
      "[nltk_data]   Package averaged_perceptron_tagger is already up-to-\n",
      "[nltk_data]       date!\n",
      "[nltk_data] Downloading package stopwords to\n",
      "[nltk_data]     /nas/home/jwei/nltk_data...\n",
      "[nltk_data]   Package stopwords is already up-to-date!\n"
     ]
    }
   ],
   "source": [
    "nltk.download('averaged_perceptron_tagger')\n",
    "nltk.download('stopwords')\n",
    "d = TreebankWordDetokenizer()"
   ]
  },
  {
   "cell_type": "code",
   "execution_count": 8,
   "metadata": {},
   "outputs": [
    {
     "data": {
      "text/plain": [
       "'Out on the side, a spokesman for the police said.'"
      ]
     },
     "execution_count": 8,
     "metadata": {},
     "output_type": "execute_result"
    }
   ],
   "source": [
    "def get_pos(hypothesis):\n",
    "    return nltk.pos_tag(word_tokenize(hypothesis))\n",
    "\n",
    "def remove_all_modifiers(hypothesis):\n",
    "    tags = get_pos(hypothesis)\n",
    "    bad_tags = ['JJ', 'PRP$', 'RB']\n",
    "    retained = [ word for word, tag in tags if tag not in bad_tags]\n",
    "    return d.detokenize(retained)\n",
    "\n",
    "remove_all_modifiers(hypothesis)"
   ]
  },
  {
   "cell_type": "markdown",
   "metadata": {},
   "source": [
    "### Synonyms"
   ]
  },
  {
   "cell_type": "code",
   "execution_count": 9,
   "metadata": {},
   "outputs": [
    {
     "name": "stderr",
     "output_type": "stream",
     "text": [
      "[nltk_data] Downloading package wordnet to /nas/home/jwei/nltk_data...\n",
      "[nltk_data]   Package wordnet is already up-to-date!\n"
     ]
    },
    {
     "data": {
      "text/plain": [
       "'Out on the Austrian side, a spokesman for the federal police said.'"
      ]
     },
     "execution_count": 9,
     "metadata": {},
     "output_type": "execute_result"
    }
   ],
   "source": [
    "nltk.download('wordnet')\n",
    "\n",
    "def replace_synonyms(hypothesis):\n",
    "    tags = get_pos(hypothesis)\n",
    "    \n",
    "    adv_hypothesis = word_tokenize(hypothesis).copy()\n",
    "    for i, (tok, tag) in enumerate(tags):\n",
    "        if tag == 'JJ': \n",
    "            pos = wn.ADJ\n",
    "        elif tag == 'RB':\n",
    "            pos = wn.ADV\n",
    "        elif tag == 'N':\n",
    "            pos = wn.NOUN\n",
    "        else:\n",
    "            continue\n",
    "            \n",
    "        synset = wn.synsets(tok, pos=pos)\n",
    "        if len(synset) > 0:\n",
    "            lemmas = [ i.lemma_names() for i in synset ]\n",
    "            adv_hypothesis[i] = random.choice(random.choice(lemmas))\n",
    "            \n",
    "    return d.detokenize(adv_hypothesis)\n",
    "\n",
    "replace_synonyms(hypothesis)"
   ]
  },
  {
   "cell_type": "markdown",
   "metadata": {},
   "source": [
    "# Attacks"
   ]
  },
  {
   "cell_type": "markdown",
   "metadata": {},
   "source": [
    "### Removing NLTK stopwords"
   ]
  },
  {
   "cell_type": "code",
   "execution_count": 10,
   "metadata": {},
   "outputs": [
    {
     "name": "stderr",
     "output_type": "stream",
     "text": [
      "[nltk_data] Downloading package stopwords to\n",
      "[nltk_data]     /nas/home/jwei/nltk_data...\n",
      "[nltk_data]   Package stopwords is already up-to-date!\n"
     ]
    }
   ],
   "source": [
    "nltk.download('stopwords')\n",
    "sw = set(stopwords.words(\"english\"))\n",
    "sw_25 = set(stopwords.words(\"english\")[:25])"
   ]
  },
  {
   "cell_type": "code",
   "execution_count": 11,
   "metadata": {},
   "outputs": [
    {
     "name": "stdout",
     "output_type": "stream",
     "text": [
      "through minor borders on the Austrian side, says a spokesperson for the Federal police.\n",
      "minor borders Austrian side, says spokesperson Federal police.\n"
     ]
    }
   ],
   "source": [
    "def remove_all_stopwords(hypothesis):\n",
    "    toks = word_tokenize(hypothesis)\n",
    "    return d.detokenize([ i for i in toks if i.lower() not in sw ])\n",
    "\n",
    "print(reference)\n",
    "print(remove_all_stopwords(reference))"
   ]
  },
  {
   "cell_type": "code",
   "execution_count": 12,
   "metadata": {},
   "outputs": [
    {
     "name": "stdout",
     "output_type": "stream",
     "text": [
      "through minor borders on the Austrian side, says a spokesperson for the Federal police.\n",
      "minor borders Austrian side, says spokesperson Federal police.\n"
     ]
    }
   ],
   "source": [
    "def remove_top25_stopwords(hypothesis):\n",
    "    toks = word_tokenize(hypothesis)\n",
    "    return d.detokenize([ i for i in toks if i.lower() not in sw_25 ])\n",
    "\n",
    "print(reference)\n",
    "print(remove_all_stopwords(reference))"
   ]
  },
  {
   "cell_type": "markdown",
   "metadata": {},
   "source": [
    "### Order perturbation"
   ]
  },
  {
   "cell_type": "code",
   "execution_count": 13,
   "metadata": {},
   "outputs": [
    {
     "data": {
      "text/plain": [
       "'said Austrian . the on a spokesman, police for federal the Out side'"
      ]
     },
     "execution_count": 13,
     "metadata": {},
     "output_type": "execute_result"
    }
   ],
   "source": [
    "def jumble(hypothesis):\n",
    "    adv_hypothesis = word_tokenize(hypothesis).copy()\n",
    "    random.shuffle(adv_hypothesis)\n",
    "    return d.detokenize(adv_hypothesis)\n",
    "\n",
    "jumble(hypothesis)"
   ]
  },
  {
   "cell_type": "code",
   "execution_count": 14,
   "metadata": {},
   "outputs": [
    {
     "data": {
      "text/plain": [
       "'. said police federal the for spokesman a, side Austrian the on Out'"
      ]
     },
     "execution_count": 14,
     "metadata": {},
     "output_type": "execute_result"
    }
   ],
   "source": [
    "def reverse(hypothesis):\n",
    "    adv_hypothesis = word_tokenize(hypothesis)\n",
    "    return d.detokenize(adv_hypothesis[::-1])\n",
    "\n",
    "reverse(hypothesis)"
   ]
  },
  {
   "cell_type": "markdown",
   "metadata": {},
   "source": [
    "# Output"
   ]
  },
  {
   "cell_type": "code",
   "execution_count": 15,
   "metadata": {},
   "outputs": [
    {
     "name": "stderr",
     "output_type": "stream",
     "text": [
      "100%|██████████| 4/4 [00:05<00:00,  1.26s/it]\n"
     ]
    }
   ],
   "source": [
    "level_sets = ['identity', 'remove_punct', 'remove_all_modifiers', 'replace_synonyms']\n",
    "\n",
    "for func_name in tqdm(level_sets):\n",
    "    func = globals()[func_name]\n",
    "    wmt_mst_seg_toen['level_ref:%s' % func_name] = wmt_mst_seg_toen.reference.apply(lambda x: func(x))\n",
    "    wmt_mst_seg_toen['level_out:%s' % func_name] = wmt_mst_seg_toen.output.apply(lambda x: func(x))"
   ]
  },
  {
   "cell_type": "code",
   "execution_count": 16,
   "metadata": {},
   "outputs": [
    {
     "name": "stderr",
     "output_type": "stream",
     "text": [
      "100%|██████████| 4/4 [00:01<00:00,  2.30it/s]\n"
     ]
    }
   ],
   "source": [
    "attacks = ['remove_all_stopwords', 'remove_top25_stopwords', 'jumble', 'reverse']\n",
    "\n",
    "for func_name in tqdm(attacks):\n",
    "    func = globals()[func_name]\n",
    "    wmt_mst_seg_toen['attack_ref:%s' % func_name] = wmt_mst_seg_toen.reference.apply(lambda x: func(x))\n",
    "    wmt_mst_seg_toen['attack_out:%s' % func_name] = wmt_mst_seg_toen.output.apply(lambda x: func(x))"
   ]
  },
  {
   "cell_type": "code",
   "execution_count": 17,
   "metadata": {},
   "outputs": [
    {
     "data": {
      "text/html": [
       "<div>\n",
       "<style scoped>\n",
       "    .dataframe tbody tr th:only-of-type {\n",
       "        vertical-align: middle;\n",
       "    }\n",
       "\n",
       "    .dataframe tbody tr th {\n",
       "        vertical-align: top;\n",
       "    }\n",
       "\n",
       "    .dataframe thead th {\n",
       "        text-align: right;\n",
       "    }\n",
       "</style>\n",
       "<table border=\"1\" class=\"dataframe\">\n",
       "  <thead>\n",
       "    <tr style=\"text-align: right;\">\n",
       "      <th></th>\n",
       "      <th>lp</th>\n",
       "      <th>system</th>\n",
       "      <th>sid</th>\n",
       "      <th>sentBLEU</th>\n",
       "      <th>score</th>\n",
       "      <th>output</th>\n",
       "      <th>reference</th>\n",
       "      <th>source</th>\n",
       "      <th>year</th>\n",
       "      <th>level_ref:identity</th>\n",
       "      <th>...</th>\n",
       "      <th>level_ref:replace_synonyms</th>\n",
       "      <th>level_out:replace_synonyms</th>\n",
       "      <th>attack_ref:remove_all_stopwords</th>\n",
       "      <th>attack_out:remove_all_stopwords</th>\n",
       "      <th>attack_ref:remove_top25_stopwords</th>\n",
       "      <th>attack_out:remove_top25_stopwords</th>\n",
       "      <th>attack_ref:jumble</th>\n",
       "      <th>attack_out:jumble</th>\n",
       "      <th>attack_ref:reverse</th>\n",
       "      <th>attack_out:reverse</th>\n",
       "    </tr>\n",
       "  </thead>\n",
       "  <tbody>\n",
       "    <tr>\n",
       "      <th>3360</th>\n",
       "      <td>de-en</td>\n",
       "      <td>jhu-syntax</td>\n",
       "      <td>677</td>\n",
       "      <td>0.158512</td>\n",
       "      <td>0.691142</td>\n",
       "      <td>At the moment the men predominate among the st...</td>\n",
       "      <td>Currently the majority of staff are men.\\n</td>\n",
       "      <td>Im Augenblick überwiegen bei den Mitarbeitern ...</td>\n",
       "      <td>2016</td>\n",
       "      <td>Currently the majority of staff are men.\\n</td>\n",
       "      <td>...</td>\n",
       "      <td>presently the majority of staff are men.</td>\n",
       "      <td>At the moment the men predominate among the st...</td>\n",
       "      <td>Currently majority staff men.</td>\n",
       "      <td>moment men predominate among staff.</td>\n",
       "      <td>Currently the majority of staff are men.</td>\n",
       "      <td>At the moment the men predominate among the st...</td>\n",
       "      <td>the are Currently men majority staff of.</td>\n",
       "      <td>men moment the the . among predominate At staf...</td>\n",
       "      <td>. men are staff of majority the Currently</td>\n",
       "      <td>. staff the among predominate men the moment t...</td>\n",
       "    </tr>\n",
       "    <tr>\n",
       "      <th>3361</th>\n",
       "      <td>de-en</td>\n",
       "      <td>jhu-pbmt</td>\n",
       "      <td>1092</td>\n",
       "      <td>0.421134</td>\n",
       "      <td>-0.762188</td>\n",
       "      <td>A good prank is funny, but it takes only momen...</td>\n",
       "      <td>A good prank is funny, but takes moments to re...</td>\n",
       "      <td>Ein guter Streich ist lustig, aber es dauert n...</td>\n",
       "      <td>2016</td>\n",
       "      <td>A good prank is funny, but takes moments to re...</td>\n",
       "      <td>...</td>\n",
       "      <td>A estimable prank is queer, but takes moments ...</td>\n",
       "      <td>A good prank is fishy, but it takes solely mom...</td>\n",
       "      <td>good prank funny, takes moments reverse.</td>\n",
       "      <td>good prank funny, takes moments becomes boomer...</td>\n",
       "      <td>A good prank is funny, but takes moments to re...</td>\n",
       "      <td>A good prank is funny, but it takes only momen...</td>\n",
       "      <td>takes, is good . A to reverse moments but pran...</td>\n",
       "      <td>becomes moments before A funny is, takes it a ...</td>\n",
       "      <td>. reverse to moments takes but, funny is prank...</td>\n",
       "      <td>. boomerang a becomes he before moments only t...</td>\n",
       "    </tr>\n",
       "    <tr>\n",
       "      <th>3362</th>\n",
       "      <td>de-en</td>\n",
       "      <td>online-B</td>\n",
       "      <td>1375</td>\n",
       "      <td>0.505926</td>\n",
       "      <td>-0.599309</td>\n",
       "      <td>Threatening is above them at one end of the or...</td>\n",
       "      <td>Looming over them at one end of the central ba...</td>\n",
       "      <td>Drohend über ihnen an einem Ende des verzierte...</td>\n",
       "      <td>2016</td>\n",
       "      <td>Looming over them at one end of the central ba...</td>\n",
       "      <td>...</td>\n",
       "      <td>Looming over them at one end of the fundamenta...</td>\n",
       "      <td>Threatening is above them at one end of the or...</td>\n",
       "      <td>Looming one end central bank's ornate, two-sto...</td>\n",
       "      <td>Threatening one end ornate, two-story courtroo...</td>\n",
       "      <td>Looming over them at one end of the central ba...</td>\n",
       "      <td>Threatening is above them at one end of the or...</td>\n",
       "      <td>Looming mural's of boardroom ornate over one b...</td>\n",
       "      <td>. at is a two-story end, United the one States...</td>\n",
       "      <td>. States United the of mural a be will boardro...</td>\n",
       "      <td>. States United the of mural a courtroom two-s...</td>\n",
       "    </tr>\n",
       "    <tr>\n",
       "      <th>3363</th>\n",
       "      <td>de-en</td>\n",
       "      <td>online-G</td>\n",
       "      <td>616</td>\n",
       "      <td>0.178942</td>\n",
       "      <td>-0.305292</td>\n",
       "      <td>You see, why this program is not often discuss...</td>\n",
       "      <td>Can you see why that programme is often discus...</td>\n",
       "      <td>Sehen Sie ein, warum dieses Programm oft disku...</td>\n",
       "      <td>2016</td>\n",
       "      <td>Can you see why that programme is often discus...</td>\n",
       "      <td>...</td>\n",
       "      <td>Can you see why that programme is often discus...</td>\n",
       "      <td>You see, why this program is non ofttimes disc...</td>\n",
       "      <td>see programme often discussed original particu...</td>\n",
       "      <td>see, program often discussed, original, partic...</td>\n",
       "      <td>Can see why that programme is often discussed ...</td>\n",
       "      <td>see, why this program is not often discussed, ...</td>\n",
       "      <td>? Can original discussed because is it is is s...</td>\n",
       "      <td>not original ,? program, and why it is, not is...</td>\n",
       "      <td>? distinctive particularly not is it and origi...</td>\n",
       "      <td>? striking particularly not and, original is i...</td>\n",
       "    </tr>\n",
       "    <tr>\n",
       "      <th>3364</th>\n",
       "      <td>de-en</td>\n",
       "      <td>jhu-syntax</td>\n",
       "      <td>679</td>\n",
       "      <td>0.547704</td>\n",
       "      <td>0.362249</td>\n",
       "      <td>Mrs Laury said: \"It is still a majority of men...</td>\n",
       "      <td>Mrs Laury said: \"We still have a majority of m...</td>\n",
       "      <td>Mrs Laury sagte: \"Es arbeitet immer noch eine ...</td>\n",
       "      <td>2016</td>\n",
       "      <td>Mrs Laury said: \"We still have a majority of m...</td>\n",
       "      <td>...</td>\n",
       "      <td>Mrs Laury said:``We still have a majority of m...</td>\n",
       "      <td>Mrs Laury said:``It is nonetheless a majority ...</td>\n",
       "      <td>Mrs Laury said:``still majority men working st...</td>\n",
       "      <td>Mrs Laury said:``still majority men stores.</td>\n",
       "      <td>Mrs Laury said:``still have a majority of men ...</td>\n",
       "      <td>Mrs Laury said:``It is still a majority of men...</td>\n",
       "      <td>Laury of working our We a have said majority``...</td>\n",
       "      <td>Laury of still It is stores in: our a majority...</td>\n",
       "      <td>. stores our in working men of majority a have...</td>\n",
       "      <td>. stores our in men of majority a still is It ...</td>\n",
       "    </tr>\n",
       "    <tr>\n",
       "      <th>...</th>\n",
       "      <td>...</td>\n",
       "      <td>...</td>\n",
       "      <td>...</td>\n",
       "      <td>...</td>\n",
       "      <td>...</td>\n",
       "      <td>...</td>\n",
       "      <td>...</td>\n",
       "      <td>...</td>\n",
       "      <td>...</td>\n",
       "      <td>...</td>\n",
       "      <td>...</td>\n",
       "      <td>...</td>\n",
       "      <td>...</td>\n",
       "      <td>...</td>\n",
       "      <td>...</td>\n",
       "      <td>...</td>\n",
       "      <td>...</td>\n",
       "      <td>...</td>\n",
       "      <td>...</td>\n",
       "      <td>...</td>\n",
       "      <td>...</td>\n",
       "    </tr>\n",
       "    <tr>\n",
       "      <th>3915</th>\n",
       "      <td>de-en</td>\n",
       "      <td>uedin-syntax</td>\n",
       "      <td>2921</td>\n",
       "      <td>0.316149</td>\n",
       "      <td>-0.893829</td>\n",
       "      <td>It is fashionable for the first, tentative ste...</td>\n",
       "      <td>He represents the designer's first, tentative ...</td>\n",
       "      <td>Er steht für die ersten, zaghaften modischen G...</td>\n",
       "      <td>2016</td>\n",
       "      <td>He represents the designer's first, tentative ...</td>\n",
       "      <td>...</td>\n",
       "      <td>He represents the designer's beginning, tentat...</td>\n",
       "      <td>It is fashionable for the first, doubtful step...</td>\n",
       "      <td>represents designer's first, tentative steps f...</td>\n",
       "      <td>fashionable first, tentative steps designer.</td>\n",
       "      <td>represents the designer's first, tentative ste...</td>\n",
       "      <td>It is fashionable for the first, tentative ste...</td>\n",
       "      <td>the designer represents steps's first, He tent...</td>\n",
       "      <td>of It for tentative fashionable the designer f...</td>\n",
       "      <td>. fashion at steps tentative, first's designer...</td>\n",
       "      <td>. designer the of steps tentative, first the f...</td>\n",
       "    </tr>\n",
       "    <tr>\n",
       "      <th>3916</th>\n",
       "      <td>de-en</td>\n",
       "      <td>KIT</td>\n",
       "      <td>2090</td>\n",
       "      <td>0.772290</td>\n",
       "      <td>1.019740</td>\n",
       "      <td>If you want to know more about the case, pleas...</td>\n",
       "      <td>If you want to know more about the case, pleas...</td>\n",
       "      <td>Wenn Sie mehr über den Fall wissen wollen, hör...</td>\n",
       "      <td>2016</td>\n",
       "      <td>If you want to know more about the case, pleas...</td>\n",
       "      <td>...</td>\n",
       "      <td>If you want to know more about the case, pleas...</td>\n",
       "      <td>If you want to know more about the case, pleas...</td>\n",
       "      <td>want know case, please listen series podcasts'...</td>\n",
       "      <td>want know case, please listen series podcasts,...</td>\n",
       "      <td>If want to know more about the case, please li...</td>\n",
       "      <td>If want to know more about the case, please li...</td>\n",
       "      <td>If the series . the podcasts to made about've ...</td>\n",
       "      <td>have want the I of you, know listen If case . ...</td>\n",
       "      <td>. made've I podcasts of series the to listen p...</td>\n",
       "      <td>. made have I which, podcasts of series the to...</td>\n",
       "    </tr>\n",
       "    <tr>\n",
       "      <th>3917</th>\n",
       "      <td>de-en</td>\n",
       "      <td>KIT</td>\n",
       "      <td>2158</td>\n",
       "      <td>0.526244</td>\n",
       "      <td>0.934524</td>\n",
       "      <td>The cyclist, a 40-year-old man from Cobram, re...</td>\n",
       "      <td>The cyclist, a 40-year-old Cobram man, remains...</td>\n",
       "      <td>Der Radfahrer, ein 40-jähriger Mann aus Cobram...</td>\n",
       "      <td>2016</td>\n",
       "      <td>The cyclist, a 40-year-old Cobram man, remains...</td>\n",
       "      <td>...</td>\n",
       "      <td>The cyclist, a 40-year-old Cobram man, remains...</td>\n",
       "      <td>The cyclist, a 40-year-old man from Cobram, re...</td>\n",
       "      <td>cyclist , 40-year-old Cobram man, remains hosp...</td>\n",
       "      <td>cyclist , 40-year-old man Cobram, remains hosp...</td>\n",
       "      <td>The cyclist, a 40-year-old Cobram man, remains...</td>\n",
       "      <td>The cyclist, a 40-year-old man from Cobram, re...</td>\n",
       "      <td>. The a, remains hospital in in condition cycl...</td>\n",
       "      <td>condition stable remains in Cobram he and a in...</td>\n",
       "      <td>. condition stable a in hospital in remains, m...</td>\n",
       "      <td>. condition stable a in is he and hospital in ...</td>\n",
       "    </tr>\n",
       "    <tr>\n",
       "      <th>3918</th>\n",
       "      <td>de-en</td>\n",
       "      <td>KIT</td>\n",
       "      <td>2097</td>\n",
       "      <td>0.292517</td>\n",
       "      <td>0.867003</td>\n",
       "      <td>And from this perspective, I will see him die.\\n</td>\n",
       "      <td>And it's from this perspective that I will wat...</td>\n",
       "      <td>Und aus dieser Perspektive werde ich ihn sterb...</td>\n",
       "      <td>2016</td>\n",
       "      <td>And it's from this perspective that I will wat...</td>\n",
       "      <td>...</td>\n",
       "      <td>And it's from this perspective that I will wat...</td>\n",
       "      <td>And from this perspective, I will see him die.</td>\n",
       "      <td>'s perspective watch die.</td>\n",
       "      <td>perspective, see die.</td>\n",
       "      <td>And it's from this perspective that will watch...</td>\n",
       "      <td>And from this perspective, will see die.</td>\n",
       "      <td>from I that it him die's . perspective will An...</td>\n",
       "      <td>perspective him this I die And, will from see.</td>\n",
       "      <td>. die him watch will I that perspective this f...</td>\n",
       "      <td>. die him see will I, perspective this from And</td>\n",
       "    </tr>\n",
       "    <tr>\n",
       "      <th>3919</th>\n",
       "      <td>de-en</td>\n",
       "      <td>uedin-pbmt</td>\n",
       "      <td>1326</td>\n",
       "      <td>0.099947</td>\n",
       "      <td>-0.616444</td>\n",
       "      <td>People do their errands, sometimes fast, somet...</td>\n",
       "      <td>People carry out their errands, some of them w...</td>\n",
       "      <td>Die Menschen erledigen ihre Besorgungen, teilw...</td>\n",
       "      <td>2016</td>\n",
       "      <td>People carry out their errands, some of them w...</td>\n",
       "      <td>...</td>\n",
       "      <td>People carry out their errands, some of them w...</td>\n",
       "      <td>People do their errands, sometimes fast, somet...</td>\n",
       "      <td>People carry errands, walking briskly, strolli...</td>\n",
       "      <td>People errands, sometimes fast, sometimes breath.</td>\n",
       "      <td>People carry out their errands, some of them w...</td>\n",
       "      <td>People do their errands, sometimes fast, somet...</td>\n",
       "      <td>out of carry fashion a walking briskly, leisur...</td>\n",
       "      <td>sometimes sometimes breath People a, . do fast...</td>\n",
       "      <td>. fashion leisurely a in along strolling them ...</td>\n",
       "      <td>. breath a sometimes, fast sometimes, errands ...</td>\n",
       "    </tr>\n",
       "  </tbody>\n",
       "</table>\n",
       "<p>560 rows × 25 columns</p>\n",
       "</div>"
      ],
      "text/plain": [
       "         lp        system   sid  sentBLEU     score  \\\n",
       "3360  de-en    jhu-syntax   677  0.158512  0.691142   \n",
       "3361  de-en      jhu-pbmt  1092  0.421134 -0.762188   \n",
       "3362  de-en      online-B  1375  0.505926 -0.599309   \n",
       "3363  de-en      online-G   616  0.178942 -0.305292   \n",
       "3364  de-en    jhu-syntax   679  0.547704  0.362249   \n",
       "...     ...           ...   ...       ...       ...   \n",
       "3915  de-en  uedin-syntax  2921  0.316149 -0.893829   \n",
       "3916  de-en           KIT  2090  0.772290  1.019740   \n",
       "3917  de-en           KIT  2158  0.526244  0.934524   \n",
       "3918  de-en           KIT  2097  0.292517  0.867003   \n",
       "3919  de-en    uedin-pbmt  1326  0.099947 -0.616444   \n",
       "\n",
       "                                                 output  \\\n",
       "3360  At the moment the men predominate among the st...   \n",
       "3361  A good prank is funny, but it takes only momen...   \n",
       "3362  Threatening is above them at one end of the or...   \n",
       "3363  You see, why this program is not often discuss...   \n",
       "3364  Mrs Laury said: \"It is still a majority of men...   \n",
       "...                                                 ...   \n",
       "3915  It is fashionable for the first, tentative ste...   \n",
       "3916  If you want to know more about the case, pleas...   \n",
       "3917  The cyclist, a 40-year-old man from Cobram, re...   \n",
       "3918   And from this perspective, I will see him die.\\n   \n",
       "3919  People do their errands, sometimes fast, somet...   \n",
       "\n",
       "                                              reference  \\\n",
       "3360         Currently the majority of staff are men.\\n   \n",
       "3361  A good prank is funny, but takes moments to re...   \n",
       "3362  Looming over them at one end of the central ba...   \n",
       "3363  Can you see why that programme is often discus...   \n",
       "3364  Mrs Laury said: \"We still have a majority of m...   \n",
       "...                                                 ...   \n",
       "3915  He represents the designer's first, tentative ...   \n",
       "3916  If you want to know more about the case, pleas...   \n",
       "3917  The cyclist, a 40-year-old Cobram man, remains...   \n",
       "3918  And it's from this perspective that I will wat...   \n",
       "3919  People carry out their errands, some of them w...   \n",
       "\n",
       "                                                 source  year  \\\n",
       "3360  Im Augenblick überwiegen bei den Mitarbeitern ...  2016   \n",
       "3361  Ein guter Streich ist lustig, aber es dauert n...  2016   \n",
       "3362  Drohend über ihnen an einem Ende des verzierte...  2016   \n",
       "3363  Sehen Sie ein, warum dieses Programm oft disku...  2016   \n",
       "3364  Mrs Laury sagte: \"Es arbeitet immer noch eine ...  2016   \n",
       "...                                                 ...   ...   \n",
       "3915  Er steht für die ersten, zaghaften modischen G...  2016   \n",
       "3916  Wenn Sie mehr über den Fall wissen wollen, hör...  2016   \n",
       "3917  Der Radfahrer, ein 40-jähriger Mann aus Cobram...  2016   \n",
       "3918  Und aus dieser Perspektive werde ich ihn sterb...  2016   \n",
       "3919  Die Menschen erledigen ihre Besorgungen, teilw...  2016   \n",
       "\n",
       "                                     level_ref:identity  ...  \\\n",
       "3360         Currently the majority of staff are men.\\n  ...   \n",
       "3361  A good prank is funny, but takes moments to re...  ...   \n",
       "3362  Looming over them at one end of the central ba...  ...   \n",
       "3363  Can you see why that programme is often discus...  ...   \n",
       "3364  Mrs Laury said: \"We still have a majority of m...  ...   \n",
       "...                                                 ...  ...   \n",
       "3915  He represents the designer's first, tentative ...  ...   \n",
       "3916  If you want to know more about the case, pleas...  ...   \n",
       "3917  The cyclist, a 40-year-old Cobram man, remains...  ...   \n",
       "3918  And it's from this perspective that I will wat...  ...   \n",
       "3919  People carry out their errands, some of them w...  ...   \n",
       "\n",
       "                             level_ref:replace_synonyms  \\\n",
       "3360           presently the majority of staff are men.   \n",
       "3361  A estimable prank is queer, but takes moments ...   \n",
       "3362  Looming over them at one end of the fundamenta...   \n",
       "3363  Can you see why that programme is often discus...   \n",
       "3364  Mrs Laury said:``We still have a majority of m...   \n",
       "...                                                 ...   \n",
       "3915  He represents the designer's beginning, tentat...   \n",
       "3916  If you want to know more about the case, pleas...   \n",
       "3917  The cyclist, a 40-year-old Cobram man, remains...   \n",
       "3918  And it's from this perspective that I will wat...   \n",
       "3919  People carry out their errands, some of them w...   \n",
       "\n",
       "                             level_out:replace_synonyms  \\\n",
       "3360  At the moment the men predominate among the st...   \n",
       "3361  A good prank is fishy, but it takes solely mom...   \n",
       "3362  Threatening is above them at one end of the or...   \n",
       "3363  You see, why this program is non ofttimes disc...   \n",
       "3364  Mrs Laury said:``It is nonetheless a majority ...   \n",
       "...                                                 ...   \n",
       "3915  It is fashionable for the first, doubtful step...   \n",
       "3916  If you want to know more about the case, pleas...   \n",
       "3917  The cyclist, a 40-year-old man from Cobram, re...   \n",
       "3918     And from this perspective, I will see him die.   \n",
       "3919  People do their errands, sometimes fast, somet...   \n",
       "\n",
       "                        attack_ref:remove_all_stopwords  \\\n",
       "3360                      Currently majority staff men.   \n",
       "3361           good prank funny, takes moments reverse.   \n",
       "3362  Looming one end central bank's ornate, two-sto...   \n",
       "3363  see programme often discussed original particu...   \n",
       "3364  Mrs Laury said:``still majority men working st...   \n",
       "...                                                 ...   \n",
       "3915  represents designer's first, tentative steps f...   \n",
       "3916  want know case, please listen series podcasts'...   \n",
       "3917  cyclist , 40-year-old Cobram man, remains hosp...   \n",
       "3918                          's perspective watch die.   \n",
       "3919  People carry errands, walking briskly, strolli...   \n",
       "\n",
       "                        attack_out:remove_all_stopwords  \\\n",
       "3360                moment men predominate among staff.   \n",
       "3361  good prank funny, takes moments becomes boomer...   \n",
       "3362  Threatening one end ornate, two-story courtroo...   \n",
       "3363  see, program often discussed, original, partic...   \n",
       "3364        Mrs Laury said:``still majority men stores.   \n",
       "...                                                 ...   \n",
       "3915       fashionable first, tentative steps designer.   \n",
       "3916  want know case, please listen series podcasts,...   \n",
       "3917  cyclist , 40-year-old man Cobram, remains hosp...   \n",
       "3918                              perspective, see die.   \n",
       "3919  People errands, sometimes fast, sometimes breath.   \n",
       "\n",
       "                      attack_ref:remove_top25_stopwords  \\\n",
       "3360           Currently the majority of staff are men.   \n",
       "3361  A good prank is funny, but takes moments to re...   \n",
       "3362  Looming over them at one end of the central ba...   \n",
       "3363  Can see why that programme is often discussed ...   \n",
       "3364  Mrs Laury said:``still have a majority of men ...   \n",
       "...                                                 ...   \n",
       "3915  represents the designer's first, tentative ste...   \n",
       "3916  If want to know more about the case, please li...   \n",
       "3917  The cyclist, a 40-year-old Cobram man, remains...   \n",
       "3918  And it's from this perspective that will watch...   \n",
       "3919  People carry out their errands, some of them w...   \n",
       "\n",
       "                      attack_out:remove_top25_stopwords  \\\n",
       "3360  At the moment the men predominate among the st...   \n",
       "3361  A good prank is funny, but it takes only momen...   \n",
       "3362  Threatening is above them at one end of the or...   \n",
       "3363  see, why this program is not often discussed, ...   \n",
       "3364  Mrs Laury said:``It is still a majority of men...   \n",
       "...                                                 ...   \n",
       "3915  It is fashionable for the first, tentative ste...   \n",
       "3916  If want to know more about the case, please li...   \n",
       "3917  The cyclist, a 40-year-old man from Cobram, re...   \n",
       "3918           And from this perspective, will see die.   \n",
       "3919  People do their errands, sometimes fast, somet...   \n",
       "\n",
       "                                      attack_ref:jumble  \\\n",
       "3360           the are Currently men majority staff of.   \n",
       "3361  takes, is good . A to reverse moments but pran...   \n",
       "3362  Looming mural's of boardroom ornate over one b...   \n",
       "3363  ? Can original discussed because is it is is s...   \n",
       "3364  Laury of working our We a have said majority``...   \n",
       "...                                                 ...   \n",
       "3915  the designer represents steps's first, He tent...   \n",
       "3916  If the series . the podcasts to made about've ...   \n",
       "3917  . The a, remains hospital in in condition cycl...   \n",
       "3918  from I that it him die's . perspective will An...   \n",
       "3919  out of carry fashion a walking briskly, leisur...   \n",
       "\n",
       "                                      attack_out:jumble  \\\n",
       "3360  men moment the the . among predominate At staf...   \n",
       "3361  becomes moments before A funny is, takes it a ...   \n",
       "3362  . at is a two-story end, United the one States...   \n",
       "3363  not original ,? program, and why it is, not is...   \n",
       "3364  Laury of still It is stores in: our a majority...   \n",
       "...                                                 ...   \n",
       "3915  of It for tentative fashionable the designer f...   \n",
       "3916  have want the I of you, know listen If case . ...   \n",
       "3917  condition stable remains in Cobram he and a in...   \n",
       "3918     perspective him this I die And, will from see.   \n",
       "3919  sometimes sometimes breath People a, . do fast...   \n",
       "\n",
       "                                     attack_ref:reverse  \\\n",
       "3360          . men are staff of majority the Currently   \n",
       "3361  . reverse to moments takes but, funny is prank...   \n",
       "3362  . States United the of mural a be will boardro...   \n",
       "3363  ? distinctive particularly not is it and origi...   \n",
       "3364  . stores our in working men of majority a have...   \n",
       "...                                                 ...   \n",
       "3915  . fashion at steps tentative, first's designer...   \n",
       "3916  . made've I podcasts of series the to listen p...   \n",
       "3917  . condition stable a in hospital in remains, m...   \n",
       "3918  . die him watch will I that perspective this f...   \n",
       "3919  . fashion leisurely a in along strolling them ...   \n",
       "\n",
       "                                     attack_out:reverse  \n",
       "3360  . staff the among predominate men the moment t...  \n",
       "3361  . boomerang a becomes he before moments only t...  \n",
       "3362  . States United the of mural a courtroom two-s...  \n",
       "3363  ? striking particularly not and, original is i...  \n",
       "3364  . stores our in men of majority a still is It ...  \n",
       "...                                                 ...  \n",
       "3915  . designer the of steps tentative, first the f...  \n",
       "3916  . made have I which, podcasts of series the to...  \n",
       "3917  . condition stable a in is he and hospital in ...  \n",
       "3918    . die him see will I, perspective this from And  \n",
       "3919  . breath a sometimes, fast sometimes, errands ...  \n",
       "\n",
       "[560 rows x 25 columns]"
      ]
     },
     "execution_count": 17,
     "metadata": {},
     "output_type": "execute_result"
    }
   ],
   "source": [
    "wmt_mst_seg_toen"
   ]
  },
  {
   "cell_type": "code",
   "execution_count": 18,
   "metadata": {},
   "outputs": [],
   "source": [
    "pickle.dump(wmt_mst_seg_toen, open('wmt_mst_seg_toen.pkl', 'wb'))"
   ]
  }
 ],
 "metadata": {
  "kernelspec": {
   "display_name": "Python 3",
   "language": "python",
   "name": "python3"
  },
  "language_info": {
   "codemirror_mode": {
    "name": "ipython",
    "version": 3
   },
   "file_extension": ".py",
   "mimetype": "text/x-python",
   "name": "python",
   "nbconvert_exporter": "python",
   "pygments_lexer": "ipython3",
   "version": "3.8.1"
  }
 },
 "nbformat": 4,
 "nbformat_minor": 4
}
