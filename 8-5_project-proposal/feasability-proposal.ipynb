{
 "cells": [
  {
   "cell_type": "code",
   "execution_count": 1,
   "metadata": {},
   "outputs": [],
   "source": [
    "import pickle\n",
    "import pandas as pd\n",
    "import seaborn as sns\n",
    "import numpy as np\n",
    "import itertools\n",
    "import random\n",
    "from tqdm import tqdm\n",
    "sns.set()\n",
    "import matplotlib.pyplot as plt"
   ]
  },
  {
   "cell_type": "markdown",
   "metadata": {},
   "source": [
    "# Data"
   ]
  },
  {
   "cell_type": "code",
   "execution_count": 2,
   "metadata": {},
   "outputs": [
    {
     "data": {
      "text/html": [
       "<div>\n",
       "<style scoped>\n",
       "    .dataframe tbody tr th:only-of-type {\n",
       "        vertical-align: middle;\n",
       "    }\n",
       "\n",
       "    .dataframe tbody tr th {\n",
       "        vertical-align: top;\n",
       "    }\n",
       "\n",
       "    .dataframe thead th {\n",
       "        text-align: right;\n",
       "    }\n",
       "</style>\n",
       "<table border=\"1\" class=\"dataframe\">\n",
       "  <thead>\n",
       "    <tr style=\"text-align: right;\">\n",
       "      <th></th>\n",
       "      <th>system</th>\n",
       "      <th>sid</th>\n",
       "      <th>raw_score</th>\n",
       "      <th>score</th>\n",
       "      <th>N</th>\n",
       "      <th>lp</th>\n",
       "      <th>reference</th>\n",
       "      <th>source</th>\n",
       "      <th>output</th>\n",
       "      <th>year</th>\n",
       "      <th>system_full</th>\n",
       "      <th>bleurt</th>\n",
       "    </tr>\n",
       "  </thead>\n",
       "  <tbody>\n",
       "    <tr>\n",
       "      <th>0</th>\n",
       "      <td>online-B</td>\n",
       "      <td>1673</td>\n",
       "      <td>63.0</td>\n",
       "      <td>-0.00167</td>\n",
       "      <td>2</td>\n",
       "      <td>cs-en</td>\n",
       "      <td>Ten statements by Albert Einstein that enriche...</td>\n",
       "      <td>Desatero výroků Alberta Einsteina, které oboha...</td>\n",
       "      <td>Ten Commandments statements of Albert Einstein...</td>\n",
       "      <td>2016</td>\n",
       "      <td>NaN</td>\n",
       "      <td>-0.167327</td>\n",
       "    </tr>\n",
       "  </tbody>\n",
       "</table>\n",
       "</div>"
      ],
      "text/plain": [
       "     system   sid  raw_score    score  N     lp  \\\n",
       "0  online-B  1673       63.0 -0.00167  2  cs-en   \n",
       "\n",
       "                                           reference  \\\n",
       "0  Ten statements by Albert Einstein that enriche...   \n",
       "\n",
       "                                              source  \\\n",
       "0  Desatero výroků Alberta Einsteina, které oboha...   \n",
       "\n",
       "                                              output  year system_full  \\\n",
       "0  Ten Commandments statements of Albert Einstein...  2016         NaN   \n",
       "\n",
       "     bleurt  \n",
       "0 -0.167327  "
      ]
     },
     "execution_count": 2,
     "metadata": {},
     "output_type": "execute_result"
    }
   ],
   "source": [
    "wmt_toen = pickle.load(open('./wmt_toen_bleurt.pkl', 'rb'))\n",
    "wmt_toen.head(1)"
   ]
  },
  {
   "cell_type": "markdown",
   "metadata": {},
   "source": [
    "# Validation"
   ]
  },
  {
   "cell_type": "markdown",
   "metadata": {},
   "source": [
    "Official BLEURT segment-level results:\n",
    "https://github.com/google-research/bleurt/blob/master/README.md#overview"
   ]
  },
  {
   "cell_type": "code",
   "execution_count": 3,
   "metadata": {},
   "outputs": [
    {
     "data": {
      "text/html": [
       "<div>\n",
       "<style scoped>\n",
       "    .dataframe tbody tr th:only-of-type {\n",
       "        vertical-align: middle;\n",
       "    }\n",
       "\n",
       "    .dataframe tbody tr th {\n",
       "        vertical-align: top;\n",
       "    }\n",
       "\n",
       "    .dataframe thead tr th {\n",
       "        text-align: left;\n",
       "    }\n",
       "</style>\n",
       "<table border=\"1\" class=\"dataframe\">\n",
       "  <thead>\n",
       "    <tr>\n",
       "      <th>lp</th>\n",
       "      <th>fi-en</th>\n",
       "      <th>gu-en</th>\n",
       "      <th>kk-en</th>\n",
       "      <th>lt-en</th>\n",
       "      <th>ru-en</th>\n",
       "    </tr>\n",
       "    <tr>\n",
       "      <th></th>\n",
       "      <th>score</th>\n",
       "      <th>score</th>\n",
       "      <th>score</th>\n",
       "      <th>score</th>\n",
       "      <th>score</th>\n",
       "    </tr>\n",
       "  </thead>\n",
       "  <tbody>\n",
       "    <tr>\n",
       "      <th>bleurt</th>\n",
       "      <td>0.31354</td>\n",
       "      <td>0.281363</td>\n",
       "      <td>0.395622</td>\n",
       "      <td>0.353805</td>\n",
       "      <td>0.283788</td>\n",
       "    </tr>\n",
       "  </tbody>\n",
       "</table>\n",
       "</div>"
      ],
      "text/plain": [
       "lp        fi-en     gu-en     kk-en     lt-en     ru-en\n",
       "          score     score     score     score     score\n",
       "bleurt  0.31354  0.281363  0.395622  0.353805  0.283788"
      ]
     },
     "execution_count": 3,
     "metadata": {},
     "output_type": "execute_result"
    }
   ],
   "source": [
    "wmt_toen[wmt_toen.year == 2019].groupby('lp')[['bleurt', 'score']].corr('kendall')[['bleurt']][1::2].T"
   ]
  },
  {
   "cell_type": "markdown",
   "metadata": {},
   "source": [
    "# Plots"
   ]
  },
  {
   "cell_type": "markdown",
   "metadata": {},
   "source": [
    "### Raw correlations"
   ]
  },
  {
   "cell_type": "markdown",
   "metadata": {},
   "source": [
    "##### Test set"
   ]
  },
  {
   "cell_type": "code",
   "execution_count": 4,
   "metadata": {},
   "outputs": [
    {
     "data": {
      "image/png": "[encoded data removed]",
      "text/plain": [
       "<Figure size 576x576 with 9 Axes>"
      ]
     },
     "metadata": {},
     "output_type": "display_data"
    }
   ],
   "source": [
    "f, axes = plt.subplots(3, 3, figsize=(8,8), sharex=True, sharey=True)\n",
    "wmt2019_toen = wmt_toen[wmt_toen.year == 2019]\n",
    "f.suptitle('2019')\n",
    "\n",
    "for coord, (i, group) in zip(itertools.product([0,1,2], [0,1,2]), wmt2019_toen.groupby('lp')):\n",
    "    system_level = group.groupby('system').mean()\n",
    "    r = system_level.corr('pearson')['bleurt']['score']\n",
    "    tau = system_level.corr('kendall')['bleurt']['score']\n",
    "    \n",
    "    ax = axes[coord]\n",
    "    ax.set_title(i)\n",
    "    ax.text(0.1, 0.9, '$r=%.3f$' % r, fontsize=12, transform=ax.transAxes)\n",
    "    ax.text(0.1, 0.8, '$\\\\tau=%.3f$' % tau, fontsize=12, transform=ax.transAxes)\n",
    "    sns.scatterplot(data=system_level, x='score', y='bleurt', ax=ax)"
   ]
  },
  {
   "cell_type": "markdown",
   "metadata": {},
   "source": [
    "##### Train set"
   ]
  },
  {
   "cell_type": "code",
   "execution_count": 5,
   "metadata": {
    "scrolled": true
   },
   "outputs": [
    {
     "data": {
      "image/png": "[encoded data removed]",
      "text/plain": [
       "<Figure size 576x576 with 9 Axes>"
      ]
     },
     "metadata": {},
     "output_type": "display_data"
    },
    {
     "data": {
      "image/png": "[encoded data removed]",
      "text/plain": [
       "<Figure size 576x576 with 9 Axes>"
      ]
     },
     "metadata": {},
     "output_type": "display_data"
    },
    {
     "data": {
      "image/png": "[encoded data removed]",
      "text/plain": [
       "<Figure size 576x576 with 9 Axes>"
      ]
     },
     "metadata": {},
     "output_type": "display_data"
    }
   ],
   "source": [
    "for year, group in wmt_toen.groupby('year'):\n",
    "    if year == 2019:\n",
    "        continue\n",
    "        \n",
    "    f, axes = plt.subplots(3, 3, figsize=(8,8), sharex=True, sharey=True)\n",
    "    toen = wmt_toen[wmt_toen.year == year]\n",
    "    f.suptitle(str(year))\n",
    "\n",
    "    for coord, (i, group) in zip(itertools.product([0,1,2], [0,1,2]), toen.groupby('lp')):\n",
    "        system_level = group.groupby('system').mean()\n",
    "        r = system_level.corr('pearson')['bleurt']['score']\n",
    "        tau = system_level.corr('kendall')['bleurt']['score']\n",
    "\n",
    "        ax = axes[coord]\n",
    "        ax.set_title(i)\n",
    "        ax.text(0.1, 0.9, '$r=%.3f$' % r, fontsize=12, transform=ax.transAxes)\n",
    "        ax.text(0.1, 0.8, '$\\\\tau=%.3f$' % tau, fontsize=12, transform=ax.transAxes)\n",
    "        sns.scatterplot(data=system_level, x='score', y='bleurt', ax=ax)"
   ]
  },
  {
   "cell_type": "markdown",
   "metadata": {},
   "source": [
    "### Considering statistical significance"
   ]
  },
  {
   "cell_type": "code",
   "execution_count": 8,
   "metadata": {},
   "outputs": [],
   "source": [
    "import multiprocessing\n",
    "pool = multiprocessing.Pool(8)\n",
    "\n",
    "def f(i):\n",
    "    subset, s1, s2, human_statistic, metric_statistic = i\n",
    "    \n",
    "    subset['labels'] = random.sample(subset['system'].tolist(), len(subset))\n",
    "    ra_scores = subset.groupby('labels').mean()\n",
    "    \n",
    "    return (np.abs(ra_scores['score'][s1] - ra_scores['score'][s2]) > np.abs(human_statistic), \\\n",
    "            np.abs(ra_scores['bleurt'][s1] - ra_scores['bleurt'][s2]) > np.abs(metric_statistic))"
   ]
  },
  {
   "cell_type": "code",
   "execution_count": 9,
   "metadata": {},
   "outputs": [
    {
     "name": "stderr",
     "output_type": "stream",
     "text": [
      "\r",
      "  0%|          | 0/15 [00:00<?, ?it/s]"
     ]
    },
    {
     "name": "stdout",
     "output_type": "stream",
     "text": [
      "2016 cs-en\n"
     ]
    },
    {
     "name": "stderr",
     "output_type": "stream",
     "text": [
      "100%|██████████| 15/15 [00:20<00:00,  1.36s/it]\n",
      "  0%|          | 0/45 [00:00<?, ?it/s]"
     ]
    },
    {
     "name": "stdout",
     "output_type": "stream",
     "text": [
      "2016 de-en\n"
     ]
    },
    {
     "name": "stderr",
     "output_type": "stream",
     "text": [
      "100%|██████████| 45/45 [01:06<00:00,  1.48s/it]\n",
      "  0%|          | 0/36 [00:00<?, ?it/s]"
     ]
    },
    {
     "name": "stdout",
     "output_type": "stream",
     "text": [
      "2016 fi-en\n"
     ]
    },
    {
     "name": "stderr",
     "output_type": "stream",
     "text": [
      "100%|██████████| 36/36 [00:53<00:00,  1.49s/it]\n",
      "  0%|          | 0/21 [00:00<?, ?it/s]"
     ]
    },
    {
     "name": "stdout",
     "output_type": "stream",
     "text": [
      "2016 ro-en\n"
     ]
    },
    {
     "name": "stderr",
     "output_type": "stream",
     "text": [
      "100%|██████████| 21/21 [00:25<00:00,  1.21s/it]\n",
      "  0%|          | 0/45 [00:00<?, ?it/s]"
     ]
    },
    {
     "name": "stdout",
     "output_type": "stream",
     "text": [
      "2016 ru-en\n"
     ]
    },
    {
     "name": "stderr",
     "output_type": "stream",
     "text": [
      "100%|██████████| 45/45 [01:08<00:00,  1.52s/it]\n",
      "  0%|          | 0/36 [00:00<?, ?it/s]"
     ]
    },
    {
     "name": "stdout",
     "output_type": "stream",
     "text": [
      "2016 tr-en\n"
     ]
    },
    {
     "name": "stderr",
     "output_type": "stream",
     "text": [
      "100%|██████████| 36/36 [00:41<00:00,  1.16s/it]\n",
      "  0%|          | 0/6 [00:00<?, ?it/s]"
     ]
    },
    {
     "name": "stdout",
     "output_type": "stream",
     "text": [
      "2017 cs-en\n"
     ]
    },
    {
     "name": "stderr",
     "output_type": "stream",
     "text": [
      "100%|██████████| 6/6 [00:09<00:00,  1.54s/it]\n",
      "  0%|          | 0/55 [00:00<?, ?it/s]"
     ]
    },
    {
     "name": "stdout",
     "output_type": "stream",
     "text": [
      "2017 de-en\n"
     ]
    },
    {
     "name": "stderr",
     "output_type": "stream",
     "text": [
      "100%|██████████| 55/55 [01:12<00:00,  1.33s/it]\n",
      "  0%|          | 0/15 [00:00<?, ?it/s]"
     ]
    },
    {
     "name": "stdout",
     "output_type": "stream",
     "text": [
      "2017 fi-en\n"
     ]
    },
    {
     "name": "stderr",
     "output_type": "stream",
     "text": [
      "100%|██████████| 15/15 [00:21<00:00,  1.46s/it]\n",
      "  0%|          | 0/36 [00:00<?, ?it/s]"
     ]
    },
    {
     "name": "stdout",
     "output_type": "stream",
     "text": [
      "2017 lv-en\n"
     ]
    },
    {
     "name": "stderr",
     "output_type": "stream",
     "text": [
      "100%|██████████| 36/36 [00:43<00:00,  1.22s/it]\n",
      "  0%|          | 0/36 [00:00<?, ?it/s]"
     ]
    },
    {
     "name": "stdout",
     "output_type": "stream",
     "text": [
      "2017 ru-en\n"
     ]
    },
    {
     "name": "stderr",
     "output_type": "stream",
     "text": [
      "100%|██████████| 36/36 [00:47<00:00,  1.33s/it]\n",
      "  0%|          | 0/45 [00:00<?, ?it/s]"
     ]
    },
    {
     "name": "stdout",
     "output_type": "stream",
     "text": [
      "2017 tr-en\n"
     ]
    },
    {
     "name": "stderr",
     "output_type": "stream",
     "text": [
      "100%|██████████| 45/45 [00:54<00:00,  1.22s/it]\n",
      "  0%|          | 0/120 [00:00<?, ?it/s]"
     ]
    },
    {
     "name": "stdout",
     "output_type": "stream",
     "text": [
      "2017 zh-en\n"
     ]
    },
    {
     "name": "stderr",
     "output_type": "stream",
     "text": [
      "100%|██████████| 120/120 [02:20<00:00,  1.17s/it]\n",
      "  0%|          | 0/10 [00:00<?, ?it/s]"
     ]
    },
    {
     "name": "stdout",
     "output_type": "stream",
     "text": [
      "2018 cs-en\n"
     ]
    },
    {
     "name": "stderr",
     "output_type": "stream",
     "text": [
      "100%|██████████| 10/10 [00:11<00:00,  1.17s/it]\n",
      "  0%|          | 0/120 [00:00<?, ?it/s]"
     ]
    },
    {
     "name": "stdout",
     "output_type": "stream",
     "text": [
      "2018 de-en\n"
     ]
    },
    {
     "name": "stderr",
     "output_type": "stream",
     "text": [
      "100%|██████████| 120/120 [02:34<00:00,  1.29s/it]\n",
      "  0%|          | 0/91 [00:00<?, ?it/s]"
     ]
    },
    {
     "name": "stdout",
     "output_type": "stream",
     "text": [
      "2018 et-en\n"
     ]
    },
    {
     "name": "stderr",
     "output_type": "stream",
     "text": [
      "100%|██████████| 91/91 [01:41<00:00,  1.11s/it]\n",
      "  0%|          | 0/36 [00:00<?, ?it/s]"
     ]
    },
    {
     "name": "stdout",
     "output_type": "stream",
     "text": [
      "2018 fi-en\n"
     ]
    },
    {
     "name": "stderr",
     "output_type": "stream",
     "text": [
      "100%|██████████| 36/36 [00:41<00:00,  1.16s/it]\n",
      "  0%|          | 0/28 [00:00<?, ?it/s]"
     ]
    },
    {
     "name": "stdout",
     "output_type": "stream",
     "text": [
      "2018 ru-en\n"
     ]
    },
    {
     "name": "stderr",
     "output_type": "stream",
     "text": [
      "100%|██████████| 28/28 [00:32<00:00,  1.16s/it]\n",
      "  0%|          | 0/10 [00:00<?, ?it/s]"
     ]
    },
    {
     "name": "stdout",
     "output_type": "stream",
     "text": [
      "2018 tr-en\n"
     ]
    },
    {
     "name": "stderr",
     "output_type": "stream",
     "text": [
      "100%|██████████| 10/10 [00:14<00:00,  1.44s/it]\n",
      "  0%|          | 0/91 [00:00<?, ?it/s]"
     ]
    },
    {
     "name": "stdout",
     "output_type": "stream",
     "text": [
      "2018 zh-en\n"
     ]
    },
    {
     "name": "stderr",
     "output_type": "stream",
     "text": [
      "100%|██████████| 91/91 [01:55<00:00,  1.27s/it]\n",
      "  0%|          | 0/66 [00:00<?, ?it/s]"
     ]
    },
    {
     "name": "stdout",
     "output_type": "stream",
     "text": [
      "2019 fi-en\n"
     ]
    },
    {
     "name": "stderr",
     "output_type": "stream",
     "text": [
      "100%|██████████| 66/66 [01:12<00:00,  1.10s/it]\n",
      "  0%|          | 0/55 [00:00<?, ?it/s]"
     ]
    },
    {
     "name": "stdout",
     "output_type": "stream",
     "text": [
      "2019 gu-en\n"
     ]
    },
    {
     "name": "stderr",
     "output_type": "stream",
     "text": [
      "100%|██████████| 55/55 [00:49<00:00,  1.11it/s]\n",
      "  0%|          | 0/55 [00:00<?, ?it/s]"
     ]
    },
    {
     "name": "stdout",
     "output_type": "stream",
     "text": [
      "2019 kk-en\n"
     ]
    },
    {
     "name": "stderr",
     "output_type": "stream",
     "text": [
      "100%|██████████| 55/55 [00:49<00:00,  1.12it/s]\n",
      "  0%|          | 0/55 [00:00<?, ?it/s]"
     ]
    },
    {
     "name": "stdout",
     "output_type": "stream",
     "text": [
      "2019 lt-en\n"
     ]
    },
    {
     "name": "stderr",
     "output_type": "stream",
     "text": [
      "100%|██████████| 55/55 [00:49<00:00,  1.12it/s]\n",
      "  0%|          | 0/91 [00:00<?, ?it/s]"
     ]
    },
    {
     "name": "stdout",
     "output_type": "stream",
     "text": [
      "2019 ru-en\n"
     ]
    },
    {
     "name": "stderr",
     "output_type": "stream",
     "text": [
      "100%|██████████| 91/91 [01:43<00:00,  1.14s/it]\n"
     ]
    }
   ],
   "source": [
    "trials = 1000\n",
    "randomized_approx = []\n",
    "\n",
    "for (year, lp), group in wmt_toen.groupby(['year', 'lp']):\n",
    "    print(year, lp)\n",
    "    \n",
    "    systems = list(group.system.unique())\n",
    "    pairs = list(itertools.combinations(systems, 2))\n",
    "    \n",
    "    for s1, s2 in tqdm(pairs, total=len(pairs)):\n",
    "        if s1 == s2:\n",
    "            continue\n",
    "            \n",
    "        subset = group[(group.system == s1) | (group.system == s2)].copy()\n",
    "        scores = subset.groupby('system').mean()\n",
    "        human_statistic = scores['score'][s1] - scores['score'][s2]\n",
    "        metric_statistic = scores['bleurt'][s1] - scores['bleurt'][s2]\n",
    "        \n",
    "        # pooled randomized approximation\n",
    "        results = pool.map(f, [(subset, s1, s2, human_statistic, metric_statistic)] * trials)\n",
    "        human_c, metric_c = sum(i[0] for i in results), sum(i[1] for i in results)\n",
    "        \n",
    "        randomized_approx.append((year, lp, s1, s2, human_statistic, metric_statistic, human_c, metric_c))"
   ]
  },
  {
   "cell_type": "code",
   "execution_count": 10,
   "metadata": {},
   "outputs": [],
   "source": [
    "randomized_approx = pd.DataFrame(randomized_approx)\n",
    "randomized_approx.columns = ['year', 'lp', 's1', 's2', 'human_statistic', 'metric_statistic', 'human_c', 'metric_c']"
   ]
  },
  {
   "cell_type": "code",
   "execution_count": 11,
   "metadata": {},
   "outputs": [
    {
     "data": {
      "text/html": [
       "<div>\n",
       "<style scoped>\n",
       "    .dataframe tbody tr th:only-of-type {\n",
       "        vertical-align: middle;\n",
       "    }\n",
       "\n",
       "    .dataframe tbody tr th {\n",
       "        vertical-align: top;\n",
       "    }\n",
       "\n",
       "    .dataframe thead th {\n",
       "        text-align: right;\n",
       "    }\n",
       "</style>\n",
       "<table border=\"1\" class=\"dataframe\">\n",
       "  <thead>\n",
       "    <tr style=\"text-align: right;\">\n",
       "      <th></th>\n",
       "      <th>year</th>\n",
       "      <th>lp</th>\n",
       "      <th>s1</th>\n",
       "      <th>s2</th>\n",
       "      <th>human_statistic</th>\n",
       "      <th>metric_statistic</th>\n",
       "      <th>human_c</th>\n",
       "      <th>metric_c</th>\n",
       "      <th>human_sig</th>\n",
       "      <th>metric_sig</th>\n",
       "      <th>human_decision</th>\n",
       "      <th>metric_decision</th>\n",
       "    </tr>\n",
       "  </thead>\n",
       "  <tbody>\n",
       "    <tr>\n",
       "      <th>11</th>\n",
       "      <td>2016</td>\n",
       "      <td>cs-en</td>\n",
       "      <td>PJATK</td>\n",
       "      <td>online-A</td>\n",
       "      <td>-0.024639</td>\n",
       "      <td>0.029466</td>\n",
       "      <td>313</td>\n",
       "      <td>46</td>\n",
       "      <td>False</td>\n",
       "      <td>True</td>\n",
       "      <td>NS</td>\n",
       "      <td>gain</td>\n",
       "    </tr>\n",
       "    <tr>\n",
       "      <th>21</th>\n",
       "      <td>2016</td>\n",
       "      <td>de-en</td>\n",
       "      <td>online-G</td>\n",
       "      <td>jhu-pbmt</td>\n",
       "      <td>-0.010159</td>\n",
       "      <td>-0.021342</td>\n",
       "      <td>637</td>\n",
       "      <td>87</td>\n",
       "      <td>False</td>\n",
       "      <td>False</td>\n",
       "      <td>NS</td>\n",
       "      <td>NS</td>\n",
       "    </tr>\n",
       "    <tr>\n",
       "      <th>29</th>\n",
       "      <td>2016</td>\n",
       "      <td>de-en</td>\n",
       "      <td>uedin-pbmt</td>\n",
       "      <td>jhu-pbmt</td>\n",
       "      <td>0.022356</td>\n",
       "      <td>0.001449</td>\n",
       "      <td>324</td>\n",
       "      <td>906</td>\n",
       "      <td>False</td>\n",
       "      <td>False</td>\n",
       "      <td>NS</td>\n",
       "      <td>NS</td>\n",
       "    </tr>\n",
       "    <tr>\n",
       "      <th>31</th>\n",
       "      <td>2016</td>\n",
       "      <td>de-en</td>\n",
       "      <td>uedin-pbmt</td>\n",
       "      <td>KIT</td>\n",
       "      <td>-0.020672</td>\n",
       "      <td>-0.051980</td>\n",
       "      <td>391</td>\n",
       "      <td>0</td>\n",
       "      <td>False</td>\n",
       "      <td>True</td>\n",
       "      <td>NS</td>\n",
       "      <td>loss</td>\n",
       "    </tr>\n",
       "    <tr>\n",
       "      <th>34</th>\n",
       "      <td>2016</td>\n",
       "      <td>de-en</td>\n",
       "      <td>online-B</td>\n",
       "      <td>online-A</td>\n",
       "      <td>-0.009133</td>\n",
       "      <td>-0.024695</td>\n",
       "      <td>704</td>\n",
       "      <td>32</td>\n",
       "      <td>False</td>\n",
       "      <td>True</td>\n",
       "      <td>NS</td>\n",
       "      <td>loss</td>\n",
       "    </tr>\n",
       "  </tbody>\n",
       "</table>\n",
       "</div>"
      ],
      "text/plain": [
       "    year     lp          s1        s2  human_statistic  metric_statistic  \\\n",
       "11  2016  cs-en       PJATK  online-A        -0.024639          0.029466   \n",
       "21  2016  de-en    online-G  jhu-pbmt        -0.010159         -0.021342   \n",
       "29  2016  de-en  uedin-pbmt  jhu-pbmt         0.022356          0.001449   \n",
       "31  2016  de-en  uedin-pbmt       KIT        -0.020672         -0.051980   \n",
       "34  2016  de-en    online-B  online-A        -0.009133         -0.024695   \n",
       "\n",
       "    human_c  metric_c  human_sig  metric_sig human_decision metric_decision  \n",
       "11      313        46      False        True             NS            gain  \n",
       "21      637        87      False       False             NS              NS  \n",
       "29      324       906      False       False             NS              NS  \n",
       "31      391         0      False        True             NS            loss  \n",
       "34      704        32      False        True             NS            loss  "
      ]
     },
     "execution_count": 11,
     "metadata": {},
     "output_type": "execute_result"
    }
   ],
   "source": [
    "alpha = 0.05\n",
    "randomized_approx['human_sig'] = randomized_approx.human_c / trials < alpha\n",
    "randomized_approx['metric_sig'] = randomized_approx.metric_c / trials < alpha\n",
    "\n",
    "def f(row, s = 'human'):\n",
    "    if row['%s_sig' % s]:\n",
    "        if row['%s_statistic' % s] > 0:\n",
    "            return 'gain'\n",
    "        else:\n",
    "            return 'loss'\n",
    "    else:\n",
    "        return 'NS'\n",
    "\n",
    "randomized_approx['human_decision'] = randomized_approx.apply(lambda x: f(x, s='human'), axis=1)\n",
    "randomized_approx['metric_decision'] = randomized_approx.apply(lambda x: f(x, s='metric'), axis=1)\n",
    "\n",
    "randomized_approx[randomized_approx.human_c > 300].head(5)"
   ]
  },
  {
   "cell_type": "markdown",
   "metadata": {},
   "source": [
    "##### Test set"
   ]
  },
  {
   "cell_type": "code",
   "execution_count": 12,
   "metadata": {},
   "outputs": [],
   "source": [
    "# we have to be careful in saying NS = 0...\n",
    "ra = randomized_approx[randomized_approx.year == 2019]\n",
    "\n",
    "labels = ['loss', 'NS', 'gain']\n",
    "heatmap = []\n",
    "for i in labels:\n",
    "    heatmap.append([])\n",
    "    for j in labels:\n",
    "        count = len(ra[(ra.human_decision == i) & (ra.metric_decision == j)])\n",
    "        heatmap[-1].append(count)\n",
    "heatmap = np.array(heatmap)"
   ]
  },
  {
   "cell_type": "code",
   "execution_count": 13,
   "metadata": {},
   "outputs": [
    {
     "data": {
      "text/plain": [
       "Text(30.5, 0.5, 'human')"
      ]
     },
     "execution_count": 13,
     "metadata": {},
     "output_type": "execute_result"
    },
    {
     "data": {
      "image/png": "[encoded data removed]",
      "text/plain": [
       "<Figure size 432x288 with 2 Axes>"
      ]
     },
     "metadata": {},
     "output_type": "display_data"
    }
   ],
   "source": [
    "sns.heatmap(heatmap, cmap=\"YlGnBu\", annot=True, fmt=\"d\", xticklabels=labels, yticklabels=labels)\n",
    "plt.title('2019')\n",
    "plt.xlabel('metric')\n",
    "plt.ylabel('human')"
   ]
  },
  {
   "cell_type": "markdown",
   "metadata": {},
   "source": [
    "##### Train set"
   ]
  },
  {
   "cell_type": "code",
   "execution_count": 14,
   "metadata": {},
   "outputs": [],
   "source": [
    "# we have to be careful in saying NS = 0...\n",
    "ra = randomized_approx[randomized_approx.year != 2019]\n",
    "\n",
    "labels = ['loss', 'NS', 'gain']\n",
    "heatmap = []\n",
    "for i in labels:\n",
    "    heatmap.append([])\n",
    "    for j in labels:\n",
    "        count = len(ra[(ra.human_decision == i) & (ra.metric_decision == j)])\n",
    "        heatmap[-1].append(count)\n",
    "heatmap = np.array(heatmap)"
   ]
  },
  {
   "cell_type": "code",
   "execution_count": 16,
   "metadata": {},
   "outputs": [
    {
     "data": {
      "text/plain": [
       "Text(30.5, 0.5, 'human')"
      ]
     },
     "execution_count": 16,
     "metadata": {},
     "output_type": "execute_result"
    },
    {
     "data": {
      "image/png": "[encoded data removed]",
      "text/plain": [
       "<Figure size 432x288 with 2 Axes>"
      ]
     },
     "metadata": {},
     "output_type": "display_data"
    }
   ],
   "source": [
    "sns.heatmap(heatmap, cmap=\"YlGnBu\", annot=True, fmt=\"d\", xticklabels=labels, yticklabels=labels)\n",
    "plt.title('2016-2018')\n",
    "plt.xlabel('metric')\n",
    "plt.ylabel('human')"
   ]
  },
  {
   "cell_type": "markdown",
   "metadata": {},
   "source": [
    "### Save results"
   ]
  },
  {
   "cell_type": "code",
   "execution_count": null,
   "metadata": {},
   "outputs": [],
   "source": [
    "pickle.dump(randomized_approx, open(''))"
   ]
  }
 ],
 "metadata": {
  "kernelspec": {
   "display_name": "Python 3",
   "language": "python",
   "name": "python3"
  },
  "language_info": {
   "codemirror_mode": {
    "name": "ipython",
    "version": 3
   },
   "file_extension": ".py",
   "mimetype": "text/x-python",
   "name": "python",
   "nbconvert_exporter": "python",
   "pygments_lexer": "ipython3",
   "version": "3.8.1"
  }
 },
 "nbformat": 4,
 "nbformat_minor": 4
}
