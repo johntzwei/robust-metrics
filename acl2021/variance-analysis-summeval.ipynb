{
 "cells": [
  {
   "cell_type": "code",
   "execution_count": 1,
   "metadata": {},
   "outputs": [],
   "source": [
    "import pickle\n",
    "import pandas as pd\n",
    "from tqdm import tqdm\n",
    "import numpy as np\n",
    "import json"
   ]
  },
  {
   "cell_type": "markdown",
   "metadata": {},
   "source": [
    "### Data"
   ]
  },
  {
   "cell_type": "code",
   "execution_count": 2,
   "metadata": {},
   "outputs": [],
   "source": [
    "lines = list(open('./model_annotations.aligned.scored.jsonl', 'rt'))\n",
    "objs = [ json.loads(i) for i in lines ]"
   ]
  },
  {
   "cell_type": "code",
   "execution_count": 3,
   "metadata": {},
   "outputs": [
    {
     "data": {
      "text/plain": [
       "1700"
      ]
     },
     "execution_count": 3,
     "metadata": {},
     "output_type": "execute_result"
    }
   ],
   "source": [
    "len(objs)"
   ]
  },
  {
   "cell_type": "code",
   "execution_count": 4,
   "metadata": {},
   "outputs": [
    {
     "data": {
      "text/plain": [
       "[{'coherence': 3, 'consistency': 3, 'fluency': 4, 'relevance': 3},\n",
       " {'coherence': 3, 'consistency': 3, 'fluency': 4, 'relevance': 3},\n",
       " {'coherence': 3, 'consistency': 3, 'fluency': 4, 'relevance': 3},\n",
       " {'coherence': 3, 'consistency': 3, 'fluency': 4, 'relevance': 3},\n",
       " {'coherence': 3, 'consistency': 3, 'fluency': 4, 'relevance': 3}]"
      ]
     },
     "execution_count": 4,
     "metadata": {},
     "output_type": "execute_result"
    }
   ],
   "source": [
    "objs[0]['turker_annotations']"
   ]
  },
  {
   "cell_type": "code",
   "execution_count": 5,
   "metadata": {},
   "outputs": [
    {
     "data": {
      "text/plain": [
       "[4.25, 4.75, 2.5, 5.0, 3.75]"
      ]
     },
     "execution_count": 5,
     "metadata": {},
     "output_type": "execute_result"
    }
   ],
   "source": [
    "def expert_annotations(x, agg=lambda x: np.mean(list(x.values())), annotations='expert_annotations'):\n",
    "    scores = []\n",
    "    if annotations not in x:\n",
    "        return []\n",
    "    \n",
    "    for expert in x[annotations]:\n",
    "        scores.append(agg(expert)) \n",
    "    return scores\n",
    "\n",
    "expert_annotations(objs[9], annotations='turker_annotations')"
   ]
  },
  {
   "cell_type": "markdown",
   "metadata": {},
   "source": [
    "### Pooled variances"
   ]
  },
  {
   "cell_type": "code",
   "execution_count": 6,
   "metadata": {},
   "outputs": [],
   "source": [
    "def pooled_variance(objs, annotations):\n",
    "    stds = []\n",
    "    for obj in objs:\n",
    "        scores = annotations(obj)\n",
    "        if scores != []:\n",
    "            stds.append((len(scores), np.var(scores)))\n",
    "        \n",
    "    num = 0\n",
    "    denom = 0\n",
    "\n",
    "    print(len(stds))\n",
    "    for n, var in stds:\n",
    "        denom += (n-1)\n",
    "        num += (n-1) * var\n",
    "\n",
    "    pooled_var = num / denom\n",
    "    return pooled_var"
   ]
  },
  {
   "cell_type": "code",
   "execution_count": 7,
   "metadata": {},
   "outputs": [
    {
     "name": "stdout",
     "output_type": "stream",
     "text": [
      "1700\n"
     ]
    },
    {
     "data": {
      "text/plain": [
       "0.0859722222222225"
      ]
     },
     "execution_count": 7,
     "metadata": {},
     "output_type": "execute_result"
    }
   ],
   "source": [
    "pooled_var_expert = pooled_variance(objs, expert_annotations)\n",
    "pooled_var_expert"
   ]
  },
  {
   "cell_type": "code",
   "execution_count": 8,
   "metadata": {},
   "outputs": [
    {
     "name": "stdout",
     "output_type": "stream",
     "text": [
      "1600\n"
     ]
    },
    {
     "data": {
      "text/plain": [
       "0.22594999999999998"
      ]
     },
     "execution_count": 8,
     "metadata": {},
     "output_type": "execute_result"
    }
   ],
   "source": [
    "pooled_var_turker = pooled_variance(objs, lambda x: expert_annotations(x, annotations='turker_annotations'))\n",
    "pooled_var_turker"
   ]
  },
  {
   "cell_type": "markdown",
   "metadata": {},
   "source": [
    "### Total variances"
   ]
  },
  {
   "cell_type": "code",
   "execution_count": 9,
   "metadata": {},
   "outputs": [
    {
     "data": {
      "text/plain": [
       "0.5144329560745868"
      ]
     },
     "execution_count": 9,
     "metadata": {},
     "output_type": "execute_result"
    }
   ],
   "source": [
    "all_scores = sum([ expert_annotations(obj) for obj in objs ], [])\n",
    "total_var_expert = np.var(all_scores)\n",
    "total_var_expert"
   ]
  },
  {
   "cell_type": "code",
   "execution_count": 10,
   "metadata": {},
   "outputs": [
    {
     "data": {
      "text/plain": [
       "0.5551246093750001"
      ]
     },
     "execution_count": 10,
     "metadata": {},
     "output_type": "execute_result"
    }
   ],
   "source": [
    "all_scores = sum([ expert_annotations(obj, annotations='turker_annotations') for obj in objs ], [])\n",
    "total_var_turker = np.var(all_scores)\n",
    "total_var_turker"
   ]
  },
  {
   "cell_type": "markdown",
   "metadata": {},
   "source": [
    "# Results"
   ]
  },
  {
   "cell_type": "code",
   "execution_count": 11,
   "metadata": {},
   "outputs": [
    {
     "name": "stdout",
     "output_type": "stream",
     "text": [
      "$\\sqrt{\\Var(H(x))}$ & 0.717 & 0.745 \\\\\n",
      "$\\sqrt{\\Expect[\\Var(H(x) | x)]}$ & 0.293 & 0.475 \\\\\n",
      "$\\sqrt{\\Var(P(x))}$ & 0.655 & 0.574 \\\\\n",
      "$\\Var(H(x)) / \\Var(P(x))$ & 1.201 & 1.686 \\\\\n"
     ]
    }
   ],
   "source": [
    "l = ['%.3f' % np.sqrt(total_var_expert), '%.3f' % np.sqrt(total_var_turker)]\n",
    "l.insert(0, '$\\sqrt{\\Var(H(x))}$')\n",
    "print(' & '.join(l) + ' \\\\\\\\')\n",
    "    \n",
    "l = ['%.3f' % np.sqrt(pooled_var_expert), '%.3f' % np.sqrt(pooled_var_turker)]\n",
    "l.insert(0, '$\\sqrt{\\Expect[\\Var(H(x) | x)]}$')\n",
    "print(' & '.join(l) + ' \\\\\\\\')\n",
    "\n",
    "\n",
    "l = ['%.3f' % np.sqrt(total_var_expert - pooled_var_expert), '%.3f' % np.sqrt(total_var_turker - pooled_var_turker)]\n",
    "l.insert(0, '$\\sqrt{\\Var(P(x))}$')    \n",
    "print(' & '.join(l) + ' \\\\\\\\')\n",
    "\n",
    "l = ['%.3f' % (total_var_expert/(total_var_expert - pooled_var_expert)), '%.3f' % (total_var_turker/(total_var_turker - pooled_var_turker))]\n",
    "l.insert(0, '$\\Var(H(x)) / \\Var(P(x))$')   \n",
    "print(' & '.join(l) + ' \\\\\\\\')"
   ]
  },
  {
   "cell_type": "code",
   "execution_count": null,
   "metadata": {},
   "outputs": [],
   "source": []
  }
 ],
 "metadata": {
  "kernelspec": {
   "display_name": "Python 3",
   "language": "python",
   "name": "python3"
  },
  "language_info": {
   "codemirror_mode": {
    "name": "ipython",
    "version": 3
   },
   "file_extension": ".py",
   "mimetype": "text/x-python",
   "name": "python",
   "nbconvert_exporter": "python",
   "pygments_lexer": "ipython3",
   "version": "3.8.5"
  }
 },
 "nbformat": 4,
 "nbformat_minor": 4
}
