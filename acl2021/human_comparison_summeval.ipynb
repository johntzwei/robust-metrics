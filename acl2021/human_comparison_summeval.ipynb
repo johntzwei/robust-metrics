{
 "cells": [
  {
   "cell_type": "code",
   "execution_count": 4,
   "metadata": {},
   "outputs": [],
   "source": [
    "import pickle\n",
    "import itertools\n",
    "import numpy as np\n",
    "from tqdm.notebook import tqdm\n",
    "from multiprocessing import Pool\n",
    "import sacrebleu\n",
    "import pandas as pd\n",
    "import json\n",
    "import matplotlib.pyplot as plt\n",
    "import seaborn as sns\n",
    "sns.set_context('paper')\n",
    "sns.set_style('whitegrid', {'font.family':'serif', 'font.serif':'Times New Roman'})"
   ]
  },
  {
   "cell_type": "code",
   "execution_count": 5,
   "metadata": {},
   "outputs": [],
   "source": [
    "lines = list(open('./model_annotations.aligned.scored.jsonl', 'rt'))"
   ]
  },
  {
   "cell_type": "code",
   "execution_count": 6,
   "metadata": {},
   "outputs": [
    {
     "data": {
      "text/plain": [
       "{'id': 'dm-test-8764fb95bfad8ee849274873a92fb8d6b400eee2',\n",
       " 'decoded': \"paul merson has restarted his row with andros townsend after the tottenham midfielder was brought on with only seven minutes remaining in his team 's 0-0 draw with burnley on sunday . ' paul merson had another dig at andros townsend after his appearance for tottenham against burnley . townsend was brought on in the 83rd minute for tottenham as they drew 0-0 against burnley .\",\n",
       " 'expert_annotations': [{'coherence': 3,\n",
       "   'consistency': 5,\n",
       "   'fluency': 5,\n",
       "   'relevance': 3},\n",
       "  {'coherence': 2, 'consistency': 5, 'fluency': 4, 'relevance': 2},\n",
       "  {'coherence': 3, 'consistency': 5, 'fluency': 5, 'relevance': 4}],\n",
       " 'turker_annotations': [{'coherence': 2,\n",
       "   'consistency': 2,\n",
       "   'fluency': 2,\n",
       "   'relevance': 2},\n",
       "  {'coherence': 2, 'consistency': 2, 'fluency': 2, 'relevance': 2},\n",
       "  {'coherence': 2, 'consistency': 2, 'fluency': 2, 'relevance': 2},\n",
       "  {'coherence': 2, 'consistency': 2, 'fluency': 2, 'relevance': 2},\n",
       "  {'coherence': 2, 'consistency': 2, 'fluency': 2, 'relevance': 2}],\n",
       " 'references': [\"Andros Townsend an 83rd minute sub in Tottenham's draw with Burnley. He was unable to find a winner as the game ended without a goal. Townsend had clashed with Paul Merson last week over England call-up.\",\n",
       "  'Sports columnist Paul Merson and Andros Townsend are in the midst of a twitter feud. Merson started it when Townsend was called up and wrote something disparaging about him in his column. Since then things have gone back and forth between the two.',\n",
       "  'Merson is angered by the statement made by Townsend in his Sky Sports column. Merson threw a dig at Townsend after scoring his last game.',\n",
       "  \"Paul Merson has officially restarted his row line up with Andros Townsend. This is a result of seeing Townsend's performance in the last seven minutes of the game the previous Sunday.\",\n",
       "  'An athlete was brought in to save the game during an event against a rival team.  Although many disagreed with this decision as players have been known to get in trouble from time to time.',\n",
       "  'Paul Merson and Andros Townsend have been in a bout for a while now, Merson felt that Townsend did not deserve a place in the English team. Townsend scored for England with a crucial goal to which Merson apologized and acknowledge the performance of Townsend in that game and wished him well on his performance. The back and forth between the two men has continued regardless but it appears that now their bad feelings have subsided despite some light jest between the two.',\n",
       "  'Paul Merson restarted his fued with the former Arenal player Andros Townsend. Townsend the former Arsenal player scored a goal for England against italy. Townsend replied to Mersons remarks on Twitter by saying \"not bad for a player that should be` nowhere near the squad \\'ay\"',\n",
       "  'Paul Merson used to play for Arsenal. Andros Townsend has been criticized by Paul Merson. The goal scored against Italy was made by Townsend.',\n",
       "  'Paul Merson, former Arsenal player and Andros Townsend have restarted their bout of banter. Merson tweeted about Townsend and his poor performance making it clear he did not believe that Townsend was good enough to play for England. Townsend however scored the crucial goal for England vs Italy. Merson swallowed his criticism of Townsend and acknowledge his performance. The two are in a good place now however and any subsequent banter between the two appears to have been in good taste.',\n",
       "  'Andros Townsend used to play for arsenal. Sky sports pundit Merson criticized Andros Townsend. Andros Townsend scored a goal against Italy to a draw.',\n",
       "  'Paul Merson, the Sky Sports pundit, criticized Andros Townsend last week after his call-up to the england squad.  Merson admitted it was a mistake after Townsend scored, bringing the match against Italy to a tie on Tuesday.  Merson is a former Arsenal player himself.'],\n",
       " 'model_id': 'M2',\n",
       " 'filepath': 'cnndm/dailymail/stories/8764fb95bfad8ee849274873a92fb8d6b400eee2.story',\n",
       " 'metric_scores_1': {'cider': 5.8725741919665404e-05,\n",
       "  's3_pyr': 0.4884372856284166,\n",
       "  's3_resp': 0.5313859683147902,\n",
       "  'bleu': 4.169391721805948,\n",
       "  'rouge_we_3_p': 0.12903225806451613,\n",
       "  'rouge_we_3_r': 0.2222222222222222,\n",
       "  'rouge_we_3_f': 0.16326530612244897,\n",
       "  'mover_score': 0.18512062078694524,\n",
       "  'rouge_we_2_p': 0.15873015873015872,\n",
       "  'rouge_we_2_r': 0.2702702702702703,\n",
       "  'rouge_we_2_f': 0.2,\n",
       "  'chrf': 0.353939345118718,\n",
       "  'summaqa_avg_prob': 0.16289092340202144,\n",
       "  'summaqa_avg_fscore': 0.18653846153846151,\n",
       "  'coverage': 1.0,\n",
       "  'density': 35.02857142857143,\n",
       "  'compression': 5.4714285714285715,\n",
       "  'summary_length': 70,\n",
       "  'percentage_novel_1-gram': 0.0,\n",
       "  'percentage_repeated_1-gram_in_summ': 0.4523809523809524,\n",
       "  'percentage_novel_2-gram': 0.0,\n",
       "  'percentage_repeated_2-gram_in_summ': 0.1694915254237288,\n",
       "  'percentage_novel_3-gram': 0.015625,\n",
       "  'percentage_repeated_3-gram_in_summ': 0.0625,\n",
       "  'meteor': 0.19974445250039197,\n",
       "  'rouge': {'rouge_1_recall': 0.47368,\n",
       "   'rouge_1_recall_cb': 0.47368,\n",
       "   'rouge_1_recall_ce': 0.47368,\n",
       "   'rouge_1_precision': 0.28125,\n",
       "   'rouge_1_precision_cb': 0.28125,\n",
       "   'rouge_1_precision_ce': 0.28125,\n",
       "   'rouge_1_f_score': 0.35294,\n",
       "   'rouge_1_f_score_cb': 0.35294,\n",
       "   'rouge_1_f_score_ce': 0.35294,\n",
       "   'rouge_2_recall': 0.13514,\n",
       "   'rouge_2_recall_cb': 0.13514,\n",
       "   'rouge_2_recall_ce': 0.13514,\n",
       "   'rouge_2_precision': 0.07937,\n",
       "   'rouge_2_precision_cb': 0.07937,\n",
       "   'rouge_2_precision_ce': 0.07937,\n",
       "   'rouge_2_f_score': 0.10001,\n",
       "   'rouge_2_f_score_cb': 0.10001,\n",
       "   'rouge_2_f_score_ce': 0.10001,\n",
       "   'rouge_3_recall': 0.02778,\n",
       "   'rouge_3_recall_cb': 0.02778,\n",
       "   'rouge_3_recall_ce': 0.02778,\n",
       "   'rouge_3_precision': 0.01613,\n",
       "   'rouge_3_precision_cb': 0.01613,\n",
       "   'rouge_3_precision_ce': 0.01613,\n",
       "   'rouge_3_f_score': 0.02041,\n",
       "   'rouge_3_f_score_cb': 0.02041,\n",
       "   'rouge_3_f_score_ce': 0.02041,\n",
       "   'rouge_4_recall': 0.0,\n",
       "   'rouge_4_recall_cb': 0.0,\n",
       "   'rouge_4_recall_ce': 0.0,\n",
       "   'rouge_4_precision': 0.0,\n",
       "   'rouge_4_precision_cb': 0.0,\n",
       "   'rouge_4_precision_ce': 0.0,\n",
       "   'rouge_4_f_score': 0.0,\n",
       "   'rouge_4_f_score_cb': 0.0,\n",
       "   'rouge_4_f_score_ce': 0.0,\n",
       "   'rouge_l_recall': 0.42105,\n",
       "   'rouge_l_recall_cb': 0.42105,\n",
       "   'rouge_l_recall_ce': 0.42105,\n",
       "   'rouge_l_precision': 0.25,\n",
       "   'rouge_l_precision_cb': 0.25,\n",
       "   'rouge_l_precision_ce': 0.25,\n",
       "   'rouge_l_f_score': 0.31372,\n",
       "   'rouge_l_f_score_cb': 0.31372,\n",
       "   'rouge_l_f_score_ce': 0.31372,\n",
       "   'rouge_w_1.2_recall': 0.17986,\n",
       "   'rouge_w_1.2_recall_cb': 0.17986,\n",
       "   'rouge_w_1.2_recall_ce': 0.17986,\n",
       "   'rouge_w_1.2_precision': 0.17757,\n",
       "   'rouge_w_1.2_precision_cb': 0.17757,\n",
       "   'rouge_w_1.2_precision_ce': 0.17757,\n",
       "   'rouge_w_1.2_f_score': 0.17871,\n",
       "   'rouge_w_1.2_f_score_cb': 0.17871,\n",
       "   'rouge_w_1.2_f_score_ce': 0.17871,\n",
       "   'rouge_s*_recall': 0.17639,\n",
       "   'rouge_s*_recall_cb': 0.17639,\n",
       "   'rouge_s*_recall_ce': 0.17639,\n",
       "   'rouge_s*_precision': 0.06151,\n",
       "   'rouge_s*_precision_cb': 0.06151,\n",
       "   'rouge_s*_precision_ce': 0.06151,\n",
       "   'rouge_s*_f_score': 0.09121,\n",
       "   'rouge_s*_f_score_cb': 0.09121,\n",
       "   'rouge_s*_f_score_ce': 0.09121,\n",
       "   'rouge_su*_recall': 0.19189,\n",
       "   'rouge_su*_recall_cb': 0.19189,\n",
       "   'rouge_su*_recall_ce': 0.19189,\n",
       "   'rouge_su*_precision': 0.0683,\n",
       "   'rouge_su*_precision_cb': 0.0683,\n",
       "   'rouge_su*_precision_ce': 0.0683,\n",
       "   'rouge_su*_f_score': 0.10074,\n",
       "   'rouge_su*_f_score_cb': 0.10074,\n",
       "   'rouge_su*_f_score_ce': 0.10074},\n",
       "  'sentence_movers_glove_sms': 0.08591019667099462,\n",
       "  'bert_score_precision': 0.3796534836292267,\n",
       "  'bert_score_recall': 0.4010053277015686,\n",
       "  'bert_score_f1': 0.3919495642185211,\n",
       "  'rouge_we_1_p': 0.28125,\n",
       "  'rouge_we_1_r': 0.47368421052631576,\n",
       "  'rouge_we_1_f': 0.35294117647058826,\n",
       "  'blanc': 0.1702127659574468,\n",
       "  'supert': [0.683034871384217]},\n",
       " 'metric_scores_6': {'bert_score_precision': 0.3796534836292267,\n",
       "  'bert_score_recall': 0.47219809889793396,\n",
       "  'bert_score_f1': 0.3919495642185211,\n",
       "  'rouge_we_3_p': 0.13440860215053763,\n",
       "  'rouge_we_3_r': 0.20491803278688525,\n",
       "  'rouge_we_3_f': 0.16233766233766234,\n",
       "  'cider': 0.001094463249098906,\n",
       "  's3_pyr': 0.2824075574924696,\n",
       "  's3_resp': 0.41083090823569324,\n",
       "  'rouge': {'rouge_1_recall': 0.33594,\n",
       "   'rouge_1_recall_cb': 0.33594,\n",
       "   'rouge_1_recall_ce': 0.33594,\n",
       "   'rouge_1_precision': 0.22396,\n",
       "   'rouge_1_precision_cb': 0.22396,\n",
       "   'rouge_1_precision_ce': 0.22396,\n",
       "   'rouge_1_f_score': 0.26875,\n",
       "   'rouge_1_f_score_cb': 0.26875,\n",
       "   'rouge_1_f_score_ce': 0.26875,\n",
       "   'rouge_2_recall': 0.1,\n",
       "   'rouge_2_recall_cb': 0.1,\n",
       "   'rouge_2_recall_ce': 0.1,\n",
       "   'rouge_2_precision': 0.06614,\n",
       "   'rouge_2_precision_cb': 0.06614,\n",
       "   'rouge_2_precision_ce': 0.06614,\n",
       "   'rouge_2_f_score': 0.07962,\n",
       "   'rouge_2_f_score_cb': 0.07962,\n",
       "   'rouge_2_f_score_ce': 0.07962,\n",
       "   'rouge_3_recall': 0.01639,\n",
       "   'rouge_3_recall_cb': 0.01639,\n",
       "   'rouge_3_recall_ce': 0.01639,\n",
       "   'rouge_3_precision': 0.01075,\n",
       "   'rouge_3_precision_cb': 0.01075,\n",
       "   'rouge_3_precision_ce': 0.01075,\n",
       "   'rouge_3_f_score': 0.01298,\n",
       "   'rouge_3_f_score_cb': 0.01298,\n",
       "   'rouge_3_f_score_ce': 0.01298,\n",
       "   'rouge_4_recall': 0.0,\n",
       "   'rouge_4_recall_cb': 0.0,\n",
       "   'rouge_4_recall_ce': 0.0,\n",
       "   'rouge_4_precision': 0.0,\n",
       "   'rouge_4_precision_cb': 0.0,\n",
       "   'rouge_4_precision_ce': 0.0,\n",
       "   'rouge_4_f_score': 0.0,\n",
       "   'rouge_4_f_score_cb': 0.0,\n",
       "   'rouge_4_f_score_ce': 0.0,\n",
       "   'rouge_l_recall': 0.32031,\n",
       "   'rouge_l_recall_cb': 0.32031,\n",
       "   'rouge_l_recall_ce': 0.32031,\n",
       "   'rouge_l_precision': 0.21354,\n",
       "   'rouge_l_precision_cb': 0.21354,\n",
       "   'rouge_l_precision_ce': 0.21354,\n",
       "   'rouge_l_f_score': 0.25625,\n",
       "   'rouge_l_f_score_cb': 0.25625,\n",
       "   'rouge_l_f_score_ce': 0.25625,\n",
       "   'rouge_w_1.2_recall': 0.12599,\n",
       "   'rouge_w_1.2_recall_cb': 0.12599,\n",
       "   'rouge_w_1.2_recall_ce': 0.12599,\n",
       "   'rouge_w_1.2_precision': 0.15359,\n",
       "   'rouge_w_1.2_precision_cb': 0.15359,\n",
       "   'rouge_w_1.2_precision_ce': 0.15359,\n",
       "   'rouge_w_1.2_f_score': 0.13843,\n",
       "   'rouge_w_1.2_f_score_cb': 0.13843,\n",
       "   'rouge_w_1.2_f_score_ce': 0.13843,\n",
       "   'rouge_s*_recall': 0.08969,\n",
       "   'rouge_s*_recall_cb': 0.08969,\n",
       "   'rouge_s*_recall_ce': 0.08969,\n",
       "   'rouge_s*_precision': 0.04745,\n",
       "   'rouge_s*_precision_cb': 0.04745,\n",
       "   'rouge_s*_precision_ce': 0.04745,\n",
       "   'rouge_s*_f_score': 0.06206,\n",
       "   'rouge_s*_f_score_cb': 0.06206,\n",
       "   'rouge_s*_f_score_ce': 0.06206,\n",
       "   'rouge_su*_recall': 0.0991,\n",
       "   'rouge_su*_recall_cb': 0.0991,\n",
       "   'rouge_su*_recall_ce': 0.0991,\n",
       "   'rouge_su*_precision': 0.05283,\n",
       "   'rouge_su*_precision_cb': 0.05283,\n",
       "   'rouge_su*_precision_ce': 0.05283,\n",
       "   'rouge_su*_f_score': 0.06892,\n",
       "   'rouge_su*_f_score_cb': 0.06892,\n",
       "   'rouge_su*_f_score_ce': 0.06892},\n",
       "  'bleu': 7.150833538966827,\n",
       "  'rouge_we_2_p': 0.12962962962962962,\n",
       "  'rouge_we_2_r': 0.196,\n",
       "  'rouge_we_2_f': 0.15605095541401273,\n",
       "  'meteor': 0.22731931317280363,\n",
       "  'rouge_we_1_p': 0.22395833333333334,\n",
       "  'rouge_we_1_r': 0.3359375,\n",
       "  'rouge_we_1_f': 0.26875,\n",
       "  'mover_score': 0.18512062078694524,\n",
       "  'chrf': 0.37008869612749384,\n",
       "  'sentence_movers_glove_sms': 0.08591019667099462},\n",
       " 'metric_scores_11': {'bert_score_precision': 0.3796534836292267,\n",
       "  'bert_score_recall': 0.4910949468612671,\n",
       "  'bert_score_f1': 0.3919495642185211,\n",
       "  'rouge_we_3_p': 0.13196480938416422,\n",
       "  'rouge_we_3_r': 0.19823788546255505,\n",
       "  'rouge_we_3_f': 0.15845070422535212,\n",
       "  'cider': 0.003256913823885443,\n",
       "  's3_pyr': 0.2674179425701787,\n",
       "  's3_resp': 0.3949215801531848,\n",
       "  'rouge': {'rouge_1_recall': 0.32773,\n",
       "   'rouge_1_recall_cb': 0.32773,\n",
       "   'rouge_1_recall_ce': 0.32773,\n",
       "   'rouge_1_precision': 0.22159,\n",
       "   'rouge_1_precision_cb': 0.22159,\n",
       "   'rouge_1_precision_ce': 0.22159,\n",
       "   'rouge_1_f_score': 0.26441,\n",
       "   'rouge_1_f_score_cb': 0.26441,\n",
       "   'rouge_1_f_score_ce': 0.26441,\n",
       "   'rouge_2_recall': 0.08387,\n",
       "   'rouge_2_recall_cb': 0.08387,\n",
       "   'rouge_2_recall_ce': 0.08387,\n",
       "   'rouge_2_precision': 0.05628,\n",
       "   'rouge_2_precision_cb': 0.05628,\n",
       "   'rouge_2_precision_ce': 0.05628,\n",
       "   'rouge_2_f_score': 0.06736,\n",
       "   'rouge_2_f_score_cb': 0.06736,\n",
       "   'rouge_2_f_score_ce': 0.06736,\n",
       "   'rouge_3_recall': 0.00881,\n",
       "   'rouge_3_recall_cb': 0.00881,\n",
       "   'rouge_3_recall_ce': 0.00881,\n",
       "   'rouge_3_precision': 0.00587,\n",
       "   'rouge_3_precision_cb': 0.00587,\n",
       "   'rouge_3_precision_ce': 0.00587,\n",
       "   'rouge_3_f_score': 0.00705,\n",
       "   'rouge_3_f_score_cb': 0.00705,\n",
       "   'rouge_3_f_score_ce': 0.00705,\n",
       "   'rouge_4_recall': 0.0,\n",
       "   'rouge_4_recall_cb': 0.0,\n",
       "   'rouge_4_recall_ce': 0.0,\n",
       "   'rouge_4_precision': 0.0,\n",
       "   'rouge_4_precision_cb': 0.0,\n",
       "   'rouge_4_precision_ce': 0.0,\n",
       "   'rouge_4_f_score': 0.0,\n",
       "   'rouge_4_f_score_cb': 0.0,\n",
       "   'rouge_4_f_score_ce': 0.0,\n",
       "   'rouge_l_recall': 0.30252,\n",
       "   'rouge_l_recall_cb': 0.30252,\n",
       "   'rouge_l_recall_ce': 0.30252,\n",
       "   'rouge_l_precision': 0.20455,\n",
       "   'rouge_l_precision_cb': 0.20455,\n",
       "   'rouge_l_precision_ce': 0.20455,\n",
       "   'rouge_l_f_score': 0.24407,\n",
       "   'rouge_l_f_score_cb': 0.24407,\n",
       "   'rouge_l_f_score_ce': 0.24407,\n",
       "   'rouge_w_1.2_recall': 0.12012,\n",
       "   'rouge_w_1.2_recall_cb': 0.12012,\n",
       "   'rouge_w_1.2_recall_ce': 0.12012,\n",
       "   'rouge_w_1.2_precision': 0.14569,\n",
       "   'rouge_w_1.2_precision_cb': 0.14569,\n",
       "   'rouge_w_1.2_precision_ce': 0.14569,\n",
       "   'rouge_w_1.2_f_score': 0.13168,\n",
       "   'rouge_w_1.2_f_score_cb': 0.13168,\n",
       "   'rouge_w_1.2_f_score_ce': 0.13168,\n",
       "   'rouge_s*_recall': 0.08545,\n",
       "   'rouge_s*_recall_cb': 0.08545,\n",
       "   'rouge_s*_recall_ce': 0.08545,\n",
       "   'rouge_s*_precision': 0.04708,\n",
       "   'rouge_s*_precision_cb': 0.04708,\n",
       "   'rouge_s*_precision_ce': 0.04708,\n",
       "   'rouge_s*_f_score': 0.06071,\n",
       "   'rouge_s*_f_score_cb': 0.06071,\n",
       "   'rouge_s*_f_score_ce': 0.06071,\n",
       "   'rouge_su*_recall': 0.09439,\n",
       "   'rouge_su*_recall_cb': 0.09439,\n",
       "   'rouge_su*_recall_ce': 0.09439,\n",
       "   'rouge_su*_precision': 0.05234,\n",
       "   'rouge_su*_precision_cb': 0.05234,\n",
       "   'rouge_su*_precision_ce': 0.05234,\n",
       "   'rouge_su*_f_score': 0.06734,\n",
       "   'rouge_su*_f_score_cb': 0.06734,\n",
       "   'rouge_su*_f_score_ce': 0.06734},\n",
       "  'bleu': 7.596649860558116,\n",
       "  'rouge_we_2_p': 0.12842712842712842,\n",
       "  'rouge_we_2_r': 0.1913978494623656,\n",
       "  'rouge_we_2_f': 0.15371329879101897,\n",
       "  'meteor': 0.22731931317280363,\n",
       "  'rouge_we_1_p': 0.2215909090909091,\n",
       "  'rouge_we_1_r': 0.3277310924369748,\n",
       "  'rouge_we_1_f': 0.26440677966101694,\n",
       "  'mover_score': 0.18512062078694524,\n",
       "  'chrf': 0.37008869612749384,\n",
       "  'sentence_movers_glove_sms': 0.08647348348078367}}"
      ]
     },
     "execution_count": 6,
     "metadata": {},
     "output_type": "execute_result"
    }
   ],
   "source": [
    "obj = json.loads(lines[10])\n",
    "obj"
   ]
  },
  {
   "cell_type": "code",
   "execution_count": 7,
   "metadata": {},
   "outputs": [],
   "source": [
    "def annotations(x, annotations, agg=lambda x: np.mean(list(x.values()))):\n",
    "    scores = []\n",
    "    if annotations not in x:\n",
    "        return []\n",
    "    \n",
    "    for expert in x[annotations]:\n",
    "        scores.append(agg(expert)) \n",
    "    return scores"
   ]
  },
  {
   "cell_type": "code",
   "execution_count": 8,
   "metadata": {},
   "outputs": [
    {
     "data": {
      "text/html": [
       "<div>\n",
       "<style scoped>\n",
       "    .dataframe tbody tr th:only-of-type {\n",
       "        vertical-align: middle;\n",
       "    }\n",
       "\n",
       "    .dataframe tbody tr th {\n",
       "        vertical-align: top;\n",
       "    }\n",
       "\n",
       "    .dataframe thead th {\n",
       "        text-align: right;\n",
       "    }\n",
       "</style>\n",
       "<table border=\"1\" class=\"dataframe\">\n",
       "  <thead>\n",
       "    <tr style=\"text-align: right;\">\n",
       "      <th></th>\n",
       "      <th>id</th>\n",
       "      <th>output</th>\n",
       "      <th>reference_1</th>\n",
       "      <th>system</th>\n",
       "      <th>r11_rouge_4_f_score</th>\n",
       "      <th>r11_meteor</th>\n",
       "      <th>r11_mover_score</th>\n",
       "      <th>r11_bert_score</th>\n",
       "      <th>r1_supert</th>\n",
       "      <th>type</th>\n",
       "      <th>score</th>\n",
       "    </tr>\n",
       "  </thead>\n",
       "  <tbody>\n",
       "    <tr>\n",
       "      <th>0</th>\n",
       "      <td>dm-test-8764fb95bfad8ee849274873a92fb8d6b400eee2</td>\n",
       "      <td>paul merson was brought on with only seven min...</td>\n",
       "      <td>Andros Townsend an 83rd minute sub in Tottenha...</td>\n",
       "      <td>M11</td>\n",
       "      <td>0.00185</td>\n",
       "      <td>0.220548</td>\n",
       "      <td>0.207145</td>\n",
       "      <td>0.399867</td>\n",
       "      <td>0.508232</td>\n",
       "      <td>expert</td>\n",
       "      <td>2.25</td>\n",
       "    </tr>\n",
       "  </tbody>\n",
       "</table>\n",
       "</div>"
      ],
      "text/plain": [
       "                                                 id  \\\n",
       "0  dm-test-8764fb95bfad8ee849274873a92fb8d6b400eee2   \n",
       "\n",
       "                                              output  \\\n",
       "0  paul merson was brought on with only seven min...   \n",
       "\n",
       "                                         reference_1 system  \\\n",
       "0  Andros Townsend an 83rd minute sub in Tottenha...    M11   \n",
       "\n",
       "   r11_rouge_4_f_score  r11_meteor  r11_mover_score  r11_bert_score  \\\n",
       "0              0.00185    0.220548         0.207145        0.399867   \n",
       "\n",
       "   r1_supert    type  score  \n",
       "0   0.508232  expert   2.25  "
      ]
     },
     "execution_count": 8,
     "metadata": {},
     "output_type": "execute_result"
    }
   ],
   "source": [
    "data = []\n",
    "\n",
    "for line in lines:\n",
    "    obj = json.loads(line)\n",
    "    \n",
    "    row = []\n",
    "    row.append(obj['id'])\n",
    "    row.append(obj['decoded'])\n",
    "    row.append(obj['references'][0])\n",
    "    row.append(obj['model_id'])\n",
    "    \n",
    "    row.append(obj['metric_scores_11']['rouge']['rouge_4_f_score'])\n",
    "    row.append(obj['metric_scores_11']['meteor'])\n",
    "    row.append(obj['metric_scores_11']['mover_score'])\n",
    "    row.append(obj['metric_scores_11']['bert_score_f1'])\n",
    "    row.append(obj['metric_scores_1']['supert'][0])\n",
    "    \n",
    "    for expert_annotation in annotations(obj, 'expert_annotations'):\n",
    "        r = row.copy()\n",
    "        r.append('expert')\n",
    "        r.append(expert_annotation)\n",
    "        data.append(r)\n",
    "        \n",
    "    for expert_annotation in annotations(obj, 'turker_annotations'):\n",
    "        r = row.copy()\n",
    "        r.append('turker')\n",
    "        r.append(expert_annotation)\n",
    "        data.append(r)\n",
    "    \n",
    "df = pd.DataFrame(data)\n",
    "df.columns = ['id', 'output', 'reference_1', 'system', 'r11_rouge_4_f_score', 'r11_meteor', 'r11_mover_score', 'r11_bert_score', 'r1_supert', 'type', 'score']\n",
    "pickle.dump(df, open('summeval_flat.pkl', 'wb'))\n",
    "\n",
    "df.head(1)"
   ]
  },
  {
   "cell_type": "code",
   "execution_count": 9,
   "metadata": {},
   "outputs": [
    {
     "data": {
      "text/plain": [
       "<AxesSubplot:xlabel='score', ylabel='r1_supert'>"
      ]
     },
     "execution_count": 9,
     "metadata": {},
     "output_type": "execute_result"
    },
    {
     "data": {
      "image/png": "[encoded data removed]",
      "text/plain": [
       "<Figure size 432x288 with 1 Axes>"
      ]
     },
     "metadata": {},
     "output_type": "display_data"
    }
   ],
   "source": [
    "expert_df = df[df.type == 'expert']\n",
    "expert_means = expert_df.groupby('system')['score'].mean()\n",
    "\n",
    "metric_df = df[~df.duplicated(['id','system'])]\n",
    "metric_means = metric_df.groupby('system')['r1_supert'].mean()\n",
    "\n",
    "sns.scatterplot(x=expert_means, y=metric_means)"
   ]
  },
  {
   "cell_type": "code",
   "execution_count": 10,
   "metadata": {},
   "outputs": [
    {
     "name": "stdout",
     "output_type": "stream",
     "text": [
      "136\n",
      "('M9', 'M23_dynamicmix')\n"
     ]
    },
    {
     "data": {
      "text/plain": [
       "array([0., 0., 0., 0., 0., 0., 0., 0., 0., 0., 0., 0., 0., 0., 0., 0., 1.,\n",
       "       1., 1., 0., 0., 0., 1., 0., 1., 0., 0., 1., 1., 1., 0., 1., 1., 0.,\n",
       "       0., 0., 1., 0., 1., 0., 0., 1., 1., 1., 0., 0., 0., 0., 0., 1., 0.,\n",
       "       0., 0., 0., 1., 1., 1., 0., 0., 0., 0., 1., 0., 0., 0., 0., 1., 1.,\n",
       "       1., 0., 0., 0., 1., 0., 1., 0., 0., 1., 1., 1., 0., 0., 1., 0., 1.,\n",
       "       0., 0., 1., 1., 1., 0., 1., 0., 1., 0., 0., 1., 1., 1., 1., 0., 0.,\n",
       "       0., 0., 0., 0., 0., 0., 1., 0., 0., 1., 1., 1., 1., 0., 0., 1., 1.,\n",
       "       1., 0., 0., 1., 1., 1., 1., 1., 1., 1., 1., 1., 1., 0., 0., 0., 0.])"
      ]
     },
     "execution_count": 10,
     "metadata": {},
     "output_type": "execute_result"
    }
   ],
   "source": [
    "def pairs(x):\n",
    "    systems = x.system.unique()\n",
    "\n",
    "    for i, j in itertools.combinations(systems, 2):\n",
    "        yield i, j\n",
    "            \n",
    "all_pairs = list(pairs(df))\n",
    "print(len(all_pairs))\n",
    "print(all_pairs[-1])\n",
    "\n",
    "def get_preds(all_pairs, scores):\n",
    "    preds = np.zeros(len(all_pairs))\n",
    "    if type(scores) == type({}):\n",
    "        for ii, (i, j) in enumerate(all_pairs):\n",
    "            preds[ii] = 1 if scores[i] - scores[j] > 0 else 0\n",
    "    else:\n",
    "        for ii, (i, j) in enumerate(all_pairs):\n",
    "            preds[ii] = 1 if scores.loc[i] - scores.loc[j] > 0 else 0\n",
    "            \n",
    "    return preds\n",
    "\n",
    "true_preds = get_preds(all_pairs, expert_means)\n",
    "true_preds"
   ]
  },
  {
   "cell_type": "code",
   "execution_count": 11,
   "metadata": {},
   "outputs": [],
   "source": [
    "# adopted from https://github.com/rasbt/mlxtend/blob/master/mlxtend/evaluate/bias_variance_decomp.py\n",
    "def bias_var_noise_decomposition(metric_results, human_results, true_preds, no_bias=False):\n",
    "    main_predictions = np.apply_along_axis(lambda x:\n",
    "                                           np.argmax(np.bincount(x)),\n",
    "                                           axis=0,\n",
    "                                           arr=metric_results)\n",
    "\n",
    "    optimal_predictions = np.apply_along_axis(lambda x:\n",
    "                                       np.argmax(np.bincount(x)),\n",
    "                                       axis=0,\n",
    "                                       arr=human_results)\n",
    "    \n",
    "    if no_bias:\n",
    "        main_predictions = optimal_predictions\n",
    "    true_preds = optimal_predictions\n",
    "    \n",
    "    avg_expected_loss = (human_results != metric_results).mean()\n",
    "\n",
    "    noises = (human_results != true_preds).mean(axis=0)\n",
    "    probs = (metric_results == true_preds).mean(axis=0)\n",
    "\n",
    "    avg_noise_contrib = ((2 * probs - 1) * noises).mean()\n",
    "\n",
    "    avg_bias = (main_predictions != true_preds).mean()\n",
    "\n",
    "    signs = (main_predictions == true_preds).astype(np.int64) * 2 - 1\n",
    "    variances = (metric_results != main_predictions).mean(axis=0)\n",
    "    avg_var_contrib = (signs * variances).mean()\n",
    "\n",
    "    return avg_expected_loss, avg_bias, avg_var_contrib, avg_noise_contrib"
   ]
  },
  {
   "cell_type": "code",
   "execution_count": 50,
   "metadata": {},
   "outputs": [
    {
     "data": {
      "application/vnd.jupyter.widget-view+json": {
       "model_id": "280600b3e0b74974baeee5a17d9fb0a3",
       "version_major": 2,
       "version_minor": 0
      },
      "text/plain": [
       "HBox(children=(HTML(value=''), FloatProgress(value=0.0, max=10000.0), HTML(value='')))"
      ]
     },
     "metadata": {},
     "output_type": "display_data"
    },
    {
     "name": "stdout",
     "output_type": "stream",
     "text": [
      "\n"
     ]
    },
    {
     "data": {
      "text/plain": [
       "array([0, 0, 0, 0, 0, 0, 0, 0, 0, 0, 0, 0, 0, 0, 0, 0, 1, 1, 1, 0, 0, 0,\n",
       "       1, 0, 1, 0, 0, 1, 1, 1, 0, 1, 1, 0, 0, 0, 1, 0, 1, 0, 0, 1, 1, 1,\n",
       "       0, 0, 0, 0, 0, 1, 0, 0, 0, 0, 1, 1, 1, 0, 0, 0, 0, 1, 0, 0, 0, 0,\n",
       "       1, 1, 1, 0, 0, 0, 1, 0, 1, 0, 0, 1, 1, 1, 0, 0, 1, 0, 1, 0, 0, 1,\n",
       "       1, 1, 0, 1, 0, 1, 0, 0, 1, 1, 1, 1, 0, 0, 0, 0, 0, 0, 0, 0, 1, 0,\n",
       "       0, 1, 1, 1, 1, 0, 0, 1, 1, 1, 0, 0, 1, 1, 1, 1, 1, 1, 1, 1, 1, 1,\n",
       "       0, 0, 0, 0])"
      ]
     },
     "execution_count": 50,
     "metadata": {},
     "output_type": "execute_result"
    }
   ],
   "source": [
    "cached = [ (i, pd.DataFrame(g)) for i, g in expert_df.groupby(['system']) ]\n",
    "labels = [ i[0] for i in cached ]\n",
    "\n",
    "def f(metric):\n",
    "    groups = expert_df.groupby(['system']).apply(lambda x: x.sample(frac=1, replace=True))\n",
    "    observed_means = groups['score'].groupby(level=[0]).mean()\n",
    "\n",
    "    return get_preds(all_pairs, observed_means)\n",
    "\n",
    "WORKERS = 12\n",
    "TRIALS = 10000\n",
    "with Pool(WORKERS) as p:\n",
    "    it = tqdm(p.imap_unordered(f, [None]*TRIALS, chunksize=20), total=TRIALS)\n",
    "    output = list(it)\n",
    "    human_results = np.array([ i for i in output ], dtype=np.int64)\n",
    "    \n",
    "# optimal predictions\n",
    "optimal_predictions = np.apply_along_axis(lambda x:\n",
    "                                   np.argmax(np.bincount(x)),\n",
    "                                   axis=0,\n",
    "                                   arr=human_results)\n",
    "\n",
    "optimal_predictions"
   ]
  },
  {
   "cell_type": "code",
   "execution_count": 58,
   "metadata": {},
   "outputs": [
    {
     "data": {
      "application/vnd.jupyter.widget-view+json": {
       "model_id": "c2b688ac33444c928cf567110045ca13",
       "version_major": 2,
       "version_minor": 0
      },
      "text/plain": [
       "HBox(children=(HTML(value=''), FloatProgress(value=0.0, max=6.0), HTML(value='')))"
      ]
     },
     "metadata": {},
     "output_type": "display_data"
    },
    {
     "data": {
      "application/vnd.jupyter.widget-view+json": {
       "model_id": "9e909b75c3bd40a3907544f878342504",
       "version_major": 2,
       "version_minor": 0
      },
      "text/plain": [
       "HBox(children=(HTML(value=''), FloatProgress(value=0.0, max=10000.0), HTML(value='')))"
      ]
     },
     "metadata": {},
     "output_type": "display_data"
    },
    {
     "name": "stdout",
     "output_type": "stream",
     "text": [
      "\n"
     ]
    },
    {
     "data": {
      "application/vnd.jupyter.widget-view+json": {
       "model_id": "b064b3ccf19e4090b8b073a103d734b9",
       "version_major": 2,
       "version_minor": 0
      },
      "text/plain": [
       "HBox(children=(HTML(value=''), FloatProgress(value=0.0, max=10000.0), HTML(value='')))"
      ]
     },
     "metadata": {},
     "output_type": "display_data"
    },
    {
     "name": "stdout",
     "output_type": "stream",
     "text": [
      "\n"
     ]
    },
    {
     "data": {
      "application/vnd.jupyter.widget-view+json": {
       "model_id": "d108fec01fe44172bbfdf89b934727be",
       "version_major": 2,
       "version_minor": 0
      },
      "text/plain": [
       "HBox(children=(HTML(value=''), FloatProgress(value=0.0, max=10000.0), HTML(value='')))"
      ]
     },
     "metadata": {},
     "output_type": "display_data"
    },
    {
     "name": "stdout",
     "output_type": "stream",
     "text": [
      "\n"
     ]
    },
    {
     "data": {
      "application/vnd.jupyter.widget-view+json": {
       "model_id": "ead6fe8f44de4469bedace30e9ca45a3",
       "version_major": 2,
       "version_minor": 0
      },
      "text/plain": [
       "HBox(children=(HTML(value=''), FloatProgress(value=0.0, max=10000.0), HTML(value='')))"
      ]
     },
     "metadata": {},
     "output_type": "display_data"
    },
    {
     "name": "stdout",
     "output_type": "stream",
     "text": [
      "\n"
     ]
    },
    {
     "data": {
      "application/vnd.jupyter.widget-view+json": {
       "model_id": "25e5fbbe2c494a9e8291fac118af5dd2",
       "version_major": 2,
       "version_minor": 0
      },
      "text/plain": [
       "HBox(children=(HTML(value=''), FloatProgress(value=0.0, max=10000.0), HTML(value='')))"
      ]
     },
     "metadata": {},
     "output_type": "display_data"
    },
    {
     "name": "stdout",
     "output_type": "stream",
     "text": [
      "\n"
     ]
    },
    {
     "data": {
      "application/vnd.jupyter.widget-view+json": {
       "model_id": "cf75e84eaeea4536bb85a867ffae3357",
       "version_major": 2,
       "version_minor": 0
      },
      "text/plain": [
       "HBox(children=(HTML(value=''), FloatProgress(value=0.0, max=10000.0), HTML(value='')))"
      ]
     },
     "metadata": {},
     "output_type": "display_data"
    },
    {
     "name": "stdout",
     "output_type": "stream",
     "text": [
      "\n",
      "\n"
     ]
    }
   ],
   "source": [
    "cached = [ (i, pd.DataFrame(g)) for i, g in expert_df.groupby(['system']) ]\n",
    "labels = [ i[0] for i in cached ]\n",
    "\n",
    "def f(x):\n",
    "    (n1, n2), ratio = x\n",
    "    \n",
    "    groups = [ g.sample(frac=1, replace=True) for i, g in cached ]\n",
    "    observed_means = [ g['score'].mean() for g in groups ]\n",
    "    observed_means = { label:mean for label, mean in zip(labels, observed_means) }\n",
    "    \n",
    "    # humans\n",
    "    groups = [ g.sample(n=n1, replace=True) for i, g in cached ]\n",
    "    human_means = [ g['score'].mean() for g in groups ]\n",
    "    human_means = { label:mean for label, mean in zip(labels, human_means) }\n",
    "\n",
    "    # theoretical\n",
    "    groups = [ g.sample(n=int(n2*ratio), replace=True) for i, g in cached ]\n",
    "    pa_means = [ g['score'].mean() for g in groups ]\n",
    "    pa_means = { label:mean for label, mean in zip(labels, pa_means) }\n",
    "\n",
    "    return get_preds(all_pairs, observed_means), get_preds(all_pairs, human_means), get_preds(all_pairs, pa_means)\n",
    "\n",
    "WORKERS = 12\n",
    "NUM_TRIALS = 10000\n",
    "CHUNKSIZE = int(NUM_TRIALS / WORKERS / 10)\n",
    "metrics = list(zip(range(50, 301, 50), range(50, 301, 50)))\n",
    "results = {}\n",
    "\n",
    "with Pool(WORKERS) as p:\n",
    "    for metric in tqdm(metrics):\n",
    "        it = tqdm(p.imap_unordered(f, [(metric, 1.201)]*NUM_TRIALS, chunksize=CHUNKSIZE), total=NUM_TRIALS)\n",
    "        output = list(it)\n",
    "\n",
    "        label_results = np.array([ i[0] for i in output ], dtype=np.int64)\n",
    "        human_results = np.array([ i[1] for i in output ], dtype=np.int64)\n",
    "        pa_results = np.array([ i[2] for i in output ], dtype=np.int64)\n",
    "        \n",
    "        results[metric] = (bias_var_noise_decomposition(human_results, label_results, true_preds, no_bias=True),\n",
    "                           bias_var_noise_decomposition(pa_results, label_results, true_preds, no_bias=True))"
   ]
  },
  {
   "cell_type": "code",
   "execution_count": 61,
   "metadata": {
    "scrolled": true
   },
   "outputs": [
    {
     "name": "stdout",
     "output_type": "stream",
     "text": [
      "(300, 300)\n",
      "0.04499705882352941\n",
      "0.04518454941176472\n",
      "(250, 250)\n",
      "0.04683014705882353\n",
      "0.04710479382352941\n",
      "(200, 200)\n",
      "0.049706617647058825\n",
      "0.049700104999999994\n",
      "(150, 150)\n",
      "0.05487279411764706\n",
      "0.0546897305882353\n",
      "(100, 100)\n",
      "0.0626139705882353\n",
      "0.061707532499999995\n",
      "(50, 50)\n",
      "0.07546029411764706\n",
      "0.07594689397058824\n"
     ]
    }
   ],
   "source": [
    "for metric, (human, pa) in sorted(list(results.items()), key=lambda x: x[1][0]):\n",
    "    avg_expected_loss, avg_bias, avg_var_contrib, avg_noise_contrib = human\n",
    "    print(metric)\n",
    "    print(avg_expected_loss)\n",
    "    print(avg_noise_contrib + avg_bias + avg_var_contrib)"
   ]
  },
  {
   "cell_type": "code",
   "execution_count": 62,
   "metadata": {},
   "outputs": [
    {
     "name": "stdout",
     "output_type": "stream",
     "text": [
      "{'true_preds': [0.032175367647058827, 0.0, 0.0, 0.03217536764705882], 'human': [0.044517279411764706, 0.0, 0.032179779411764704, 0.012568363676470587], 'r11_rouge_4_f_score': [0.2802143382352941, 0.25, 0.02295477941176471, 0.009502532904411764], 'r11_meteor': [0.26605625, 0.25735294117647056, 0.0031735294117647066, 0.007101156470588237], 'r11_mover_score': [0.34414632352941177, 0.3602941176470588, -0.018124632352941178, 0.0033255085661764725], 'r11_bert_score': [0.3047919117647059, 0.29411764705882354, -0.00023161764705882087, 0.012537311617647057], 'r1_supert': [0.35058676470588235, 0.33088235294117646, 0.014080514705882353, 0.006919467610294118]}\n"
     ]
    }
   ],
   "source": [
    "bvd_results = json.load(open('bvd_results_summeval.json', 'rt'))\n",
    "print(bvd_results)"
   ]
  },
  {
   "cell_type": "code",
   "execution_count": 66,
   "metadata": {},
   "outputs": [
    {
     "data": {
      "image/png": "[encoded data removed]",
      "text/plain": [
       "<Figure size 216x144 with 1 Axes>"
      ]
     },
     "metadata": {},
     "output_type": "display_data"
    }
   ],
   "source": [
    "y = [ results[i][0][2] for i in metrics]\n",
    "y_pa = [ results[i][1][2] for i in metrics ]\n",
    "\n",
    "\n",
    "plt.figure(figsize=(3, 2.))\n",
    "ax = sns.lineplot(x=[ i[0] for i in metrics ], y=y, label='Human')\n",
    "sns.lineplot(x=[ i[1] for i in metrics ][:-1], y=y_pa[:-1], label='Perfect annotator')\n",
    "ax.set(xlabel='Number of judgments', ylabel='$\\\\mathrm{Err}_{true}(M)$')\n",
    "ax.legend(loc='upper right')\n",
    "    \n",
    "#plt.axvspan(100, 600, color='grey', alpha=0.1)\n",
    "plt.savefig('human_comparison_summeval.pdf', bbox_inches='tight')"
   ]
  },
  {
   "cell_type": "code",
   "execution_count": null,
   "metadata": {},
   "outputs": [],
   "source": []
  }
 ],
 "metadata": {
  "kernelspec": {
   "display_name": "Python 3",
   "language": "python",
   "name": "python3"
  },
  "language_info": {
   "codemirror_mode": {
    "name": "ipython",
    "version": 3
   },
   "file_extension": ".py",
   "mimetype": "text/x-python",
   "name": "python",
   "nbconvert_exporter": "python",
   "pygments_lexer": "ipython3",
   "version": "3.8.5"
  }
 },
 "nbformat": 4,
 "nbformat_minor": 4
}
