{
 "cells": [
  {
   "cell_type": "code",
   "execution_count": 36,
   "metadata": {},
   "outputs": [],
   "source": [
    "import pickle\n",
    "import itertools\n",
    "import numpy as np\n",
    "from tqdm.notebook import tqdm\n",
    "from multiprocessing import Pool\n",
    "import sacrebleu\n",
    "import pandas as pd\n",
    "import json\n",
    "import matplotlib.pyplot as plt\n",
    "import seaborn as sns\n",
    "sns.set_context('paper', font_scale=0.73)\n",
    "sns.set_style('whitegrid', {'font.family':'serif', 'font.serif':'Times New Roman'})"
   ]
  },
  {
   "cell_type": "code",
   "execution_count": 20,
   "metadata": {
    "scrolled": false
   },
   "outputs": [
    {
     "data": {
      "text/html": [
       "<div>\n",
       "<style scoped>\n",
       "    .dataframe tbody tr th:only-of-type {\n",
       "        vertical-align: middle;\n",
       "    }\n",
       "\n",
       "    .dataframe tbody tr th {\n",
       "        vertical-align: top;\n",
       "    }\n",
       "\n",
       "    .dataframe thead th {\n",
       "        text-align: right;\n",
       "    }\n",
       "</style>\n",
       "<table border=\"1\" class=\"dataframe\">\n",
       "  <thead>\n",
       "    <tr style=\"text-align: right;\">\n",
       "      <th></th>\n",
       "      <th>lp</th>\n",
       "      <th>HITId</th>\n",
       "      <th>WorkerId</th>\n",
       "      <th>score</th>\n",
       "      <th>time</th>\n",
       "      <th>system</th>\n",
       "      <th>type</th>\n",
       "      <th>sid</th>\n",
       "      <th>reference</th>\n",
       "      <th>source</th>\n",
       "      <th>...</th>\n",
       "      <th>chrf:statistics_10</th>\n",
       "      <th>chrf:statistics_11</th>\n",
       "      <th>chrf:statistics_12</th>\n",
       "      <th>chrf:statistics_13</th>\n",
       "      <th>chrf:statistics_14</th>\n",
       "      <th>chrf:statistics_15</th>\n",
       "      <th>chrf:statistics_16</th>\n",
       "      <th>chrf:statistics_17</th>\n",
       "      <th>bert_score:f1</th>\n",
       "      <th>bleurt_score</th>\n",
       "    </tr>\n",
       "  </thead>\n",
       "  <tbody>\n",
       "    <tr>\n",
       "      <th>0</th>\n",
       "      <td>de-en</td>\n",
       "      <td>3QQUBC64ZEEFIPT2SKINDZZTZ3SNXN</td>\n",
       "      <td>A0077</td>\n",
       "      <td>78</td>\n",
       "      <td>2052.0</td>\n",
       "      <td>online-G</td>\n",
       "      <td>SYSTEM</td>\n",
       "      <td>1906</td>\n",
       "      <td>Rather than having an executive make the annou...</td>\n",
       "      <td>Anstatt einen Manager die Ankündigung machen z...</td>\n",
       "      <td>...</td>\n",
       "      <td>151</td>\n",
       "      <td>95</td>\n",
       "      <td>145</td>\n",
       "      <td>150</td>\n",
       "      <td>85</td>\n",
       "      <td>144</td>\n",
       "      <td>149</td>\n",
       "      <td>76</td>\n",
       "      <td>0.941347</td>\n",
       "      <td>-0.00404</td>\n",
       "    </tr>\n",
       "  </tbody>\n",
       "</table>\n",
       "<p>1 rows × 44 columns</p>\n",
       "</div>"
      ],
      "text/plain": [
       "      lp                           HITId WorkerId  score    time    system  \\\n",
       "0  de-en  3QQUBC64ZEEFIPT2SKINDZZTZ3SNXN    A0077     78  2052.0  online-G   \n",
       "\n",
       "     type   sid                                          reference  \\\n",
       "0  SYSTEM  1906  Rather than having an executive make the annou...   \n",
       "\n",
       "                                              source  ... chrf:statistics_10  \\\n",
       "0  Anstatt einen Manager die Ankündigung machen z...  ...                151   \n",
       "\n",
       "   chrf:statistics_11  chrf:statistics_12  chrf:statistics_13  \\\n",
       "0                  95                 145                 150   \n",
       "\n",
       "   chrf:statistics_14  chrf:statistics_15  chrf:statistics_16  \\\n",
       "0                  85                 144                 149   \n",
       "\n",
       "   chrf:statistics_17  bert_score:f1  bleurt_score  \n",
       "0                  76       0.941347      -0.00404  \n",
       "\n",
       "[1 rows x 44 columns]"
      ]
     },
     "execution_count": 20,
     "metadata": {},
     "output_type": "execute_result"
    }
   ],
   "source": [
    "wmt_scored = pickle.load(open('wmt16-19_toen_scored.pkl', 'rb'))\n",
    "wmt_scored.head(1)"
   ]
  },
  {
   "cell_type": "code",
   "execution_count": 21,
   "metadata": {},
   "outputs": [
    {
     "data": {
      "text/plain": [
       "SYSTEM    585386\n",
       "REPEAT     75998\n",
       "Name: type, dtype: int64"
      ]
     },
     "execution_count": 21,
     "metadata": {},
     "output_type": "execute_result"
    }
   ],
   "source": [
    "wmt_scored.type.value_counts()"
   ]
  },
  {
   "cell_type": "code",
   "execution_count": 4,
   "metadata": {},
   "outputs": [
    {
     "name": "stdout",
     "output_type": "stream",
     "text": [
      "1324\n",
      "((2019, 'zh-en'), 'online-X.0', 'MSRA.MASS.6942')\n"
     ]
    }
   ],
   "source": [
    "def pairs(x):\n",
    "    for (year, lp), group in x.groupby(['year', 'lp']):\n",
    "        systems = group.system.unique()\n",
    "        \n",
    "        for i, j in itertools.combinations(systems, 2):\n",
    "            yield (year, lp), i, j\n",
    "            \n",
    "all_pairs = list(pairs(wmt_scored))\n",
    "pairs_2019 = list(pairs(wmt_scored[wmt_scored.year == 2019]))\n",
    "print(len(all_pairs))\n",
    "print(all_pairs[-1])\n",
    "\n",
    "def get_preds(all_pairs, scores, only_2019=False):\n",
    "    if only_2019:\n",
    "        all_pairs = pairs_2019\n",
    "    \n",
    "    preds = np.zeros(len(all_pairs))\n",
    "    if type(scores) == type({}):\n",
    "        for ii, ((year, lp), i, j) in enumerate(all_pairs):\n",
    "            preds[ii] = 1 if scores[year, lp, i] - scores[year, lp, j] > 0 else 0\n",
    "    else:\n",
    "        for ii, ((year, lp), i, j) in enumerate(all_pairs):\n",
    "            preds[ii] = 1 if scores.loc[year, lp, i] - scores.loc[year, lp, j] > 0 else 0\n",
    "            \n",
    "    return preds"
   ]
  },
  {
   "cell_type": "code",
   "execution_count": 5,
   "metadata": {},
   "outputs": [],
   "source": [
    "# BLEU\n",
    "def bleu_agg(x):\n",
    "    cols = [ ('bleu:counts_%d' % i) for i in range(0, 4) ] + [ ('bleu:totals_%d' % i) for i in range(0, 4) ]\n",
    "    cols += ['bleu:sys_len', 'bleu:ref_len']\n",
    "    aggs = x[cols].sum()\n",
    "\n",
    "    totals = [ aggs['bleu:totals_%d' % i] for i in range(0, 4) ]\n",
    "    counts = [ aggs['bleu:counts_%d' % i] for i in range(0, 4) ]\n",
    "    ref_len = aggs['bleu:ref_len']\n",
    "    sys_len = aggs['bleu:sys_len']\n",
    "\n",
    "    return sacrebleu.compute_bleu(counts, totals, sys_len, ref_len).score\n",
    "\n",
    "# TER\n",
    "def ter_agg(x):\n",
    "    cols = [ 'ter:num_edits', 'ter:ref_length' ]\n",
    "    aggs = x[cols].sum()\n",
    "\n",
    "    num_edits = aggs['ter:num_edits']\n",
    "    ref_length = aggs['ter:ref_length']\n",
    "\n",
    "    # for one reference\n",
    "    return -num_edits / ref_length\n",
    "\n",
    "\n",
    "# chrf\n",
    "def chrf_agg(x):\n",
    "    cols = [ ('chrf:statistics_%d' % i) for i in range(0, 18) ]\n",
    "    aggs = x[cols].sum()\n",
    "\n",
    "    statistics = [ aggs['chrf:statistics_%d' % i] for i in range(0, 18) ]\n",
    "\n",
    "    return sacrebleu.CHRF.compute_chrf(statistics, order=6, beta=2).score\n",
    "\n",
    "def bert_score_agg(x):\n",
    "    return x['bert_score:f1'].mean()\n",
    "\n",
    "def bleurt_agg(x):\n",
    "    return x['bleurt_score'].mean()\n",
    "\n",
    "def human_agg(x):\n",
    "    return x['score'].mean()"
   ]
  },
  {
   "cell_type": "code",
   "execution_count": null,
   "metadata": {
    "scrolled": false
   },
   "outputs": [
    {
     "data": {
      "application/vnd.jupyter.widget-view+json": {
       "model_id": "e438bd20693640409c39ff2c6ddbad74",
       "version_major": 2,
       "version_minor": 0
      },
      "text/plain": [
       "HBox(children=(HTML(value=''), FloatProgress(value=0.0, max=5.0), HTML(value='')))"
      ]
     },
     "metadata": {},
     "output_type": "display_data"
    },
    {
     "data": {
      "application/vnd.jupyter.widget-view+json": {
       "model_id": "f466fe91610f42b1b908379a4b357e47",
       "version_major": 2,
       "version_minor": 0
      },
      "text/plain": [
       "HBox(children=(HTML(value=''), FloatProgress(value=0.0, max=10000.0), HTML(value='')))"
      ]
     },
     "metadata": {},
     "output_type": "display_data"
    },
    {
     "name": "stdout",
     "output_type": "stream",
     "text": [
      "\n"
     ]
    },
    {
     "data": {
      "application/vnd.jupyter.widget-view+json": {
       "model_id": "9ff71b000ed5477b8b7f801b1650c3e8",
       "version_major": 2,
       "version_minor": 0
      },
      "text/plain": [
       "HBox(children=(HTML(value=''), FloatProgress(value=0.0, max=10000.0), HTML(value='')))"
      ]
     },
     "metadata": {},
     "output_type": "display_data"
    },
    {
     "name": "stdout",
     "output_type": "stream",
     "text": [
      "\n"
     ]
    },
    {
     "data": {
      "application/vnd.jupyter.widget-view+json": {
       "model_id": "2df17560beed4b1481d58ef6a8f43ba1",
       "version_major": 2,
       "version_minor": 0
      },
      "text/plain": [
       "HBox(children=(HTML(value=''), FloatProgress(value=0.0, max=10000.0), HTML(value='')))"
      ]
     },
     "metadata": {},
     "output_type": "display_data"
    }
   ],
   "source": [
    "cached = [ (i, pd.DataFrame(g)) for i, g in wmt_scored.groupby(['year', 'lp', 'system']) ]\n",
    "labels = [ i[0] for i in cached ]\n",
    "\n",
    "def f(metric):        \n",
    "    # get agg function\n",
    "    agg = globals()['%s_agg' % metric]\n",
    "        \n",
    "    groups = [ g.sample(n=2000, replace=True) for i, g in cached ]\n",
    "    agg_means = [ agg(g) for g in groups ]\n",
    "    agg_means = { label:mean for label, mean in zip(labels, agg_means) }\n",
    "\n",
    "    flag = metric == 'bleurt'\n",
    "    return get_preds(all_pairs, agg_means, only_2019=flag)\n",
    "\n",
    "WORKERS = 12\n",
    "NUM_TRIALS = 10000\n",
    "CHUNKSIZE = int(NUM_TRIALS / WORKERS / 10)\n",
    "metrics = ['bleurt', 'bleu', 'ter', 'chrf', 'bert_score']\n",
    "#metrics = ['true_preds', 'human']\n",
    "results = {}\n",
    "\n",
    "with Pool(WORKERS) as p:\n",
    "    for metric in tqdm(metrics):\n",
    "        it = tqdm(p.imap_unordered(f, [metric]*NUM_TRIALS, chunksize=CHUNKSIZE), total=NUM_TRIALS)\n",
    "        output = list(it)\n",
    "        \n",
    "        metric_results = np.array(output, dtype=np.int64)\n",
    "        \n",
    "        main_predictions = np.apply_along_axis(lambda x:\n",
    "                                       np.argmax(np.bincount(x)),\n",
    "                                       axis=0,\n",
    "                                       arr=metric_results)\n",
    "\n",
    "        results[metric] = main_predictions"
   ]
  },
  {
   "cell_type": "code",
   "execution_count": null,
   "metadata": {},
   "outputs": [
    {
     "data": {
      "application/vnd.jupyter.widget-view+json": {
       "model_id": "b6aeac6a393648849e4be167eebfb194",
       "version_major": 2,
       "version_minor": 0
      },
      "text/plain": [
       "HBox(children=(HTML(value=''), FloatProgress(value=0.0, max=5.0), HTML(value='')))"
      ]
     },
     "metadata": {},
     "output_type": "display_data"
    },
    {
     "data": {
      "application/vnd.jupyter.widget-view+json": {
       "model_id": "47ca68a82670432c839c6fe584963f93",
       "version_major": 2,
       "version_minor": 0
      },
      "text/plain": [
       "HBox(children=(HTML(value=''), FloatProgress(value=0.0, max=3000.0), HTML(value='')))"
      ]
     },
     "metadata": {},
     "output_type": "display_data"
    }
   ],
   "source": [
    "cached = [ (i, pd.DataFrame(g)) for i, g in wmt_scored.groupby(['year', 'lp', 'system']) ]\n",
    "labels = [ i[0] for i in cached ]\n",
    "\n",
    "def f(x):   \n",
    "    n, metric = x\n",
    "    # get agg function\n",
    "    agg = globals()['%s_agg' % metric]\n",
    "        \n",
    "    groups = [ g.sample(n=n, replace=True) for i, g in cached ]\n",
    "    agg_means = [ agg(g) for g in groups ]\n",
    "    agg_means = { label:mean for label, mean in zip(labels, agg_means) }\n",
    "\n",
    "    flag = metric == 'bleurt'\n",
    "    return get_preds(all_pairs, agg_means, only_2019=flag)\n",
    "\n",
    "WORKERS = 12\n",
    "NUM_TRIALS = 3000\n",
    "CHUNKSIZE = int(NUM_TRIALS / WORKERS / 10)\n",
    "xs = list(range(200, 1001, 200))\n",
    "metrics = ['bleurt', 'bleu', 'ter', 'chrf', 'bert_score']\n",
    "#metrics = ['true_preds', 'human']\n",
    "agreements = {}\n",
    "\n",
    "with Pool(WORKERS) as p:\n",
    "    for metric in tqdm(metrics):\n",
    "        agreements[metric] = {}\n",
    "        for i in xs:\n",
    "            it = tqdm(p.imap_unordered(f, [(i, metric)]*NUM_TRIALS, chunksize=CHUNKSIZE), total=NUM_TRIALS)\n",
    "            output = list(it)\n",
    "\n",
    "            metric_results = np.array(output, dtype=np.int64)\n",
    "            agreements[metric][i] = (metric_results == results[metric]).mean()"
   ]
  },
  {
   "cell_type": "code",
   "execution_count": 37,
   "metadata": {},
   "outputs": [
    {
     "data": {
      "image/png": "[encoded data removed]",
      "text/plain": [
       "<Figure size 216x129.6 with 1 Axes>"
      ]
     },
     "metadata": {},
     "output_type": "display_data"
    }
   ],
   "source": [
    "plt.figure(figsize=(3, 1.8))\n",
    "\n",
    "names = {\n",
    "    'bleu' : 'BLEU',\n",
    "    'bleurt' : 'BLEURT',\n",
    "    'ter': 'TER',\n",
    "    'chrf' : 'ᴄʜʀF',\n",
    "    'bert_score' : 'BERTsᴄᴏʀᴇ'\n",
    "}\n",
    "\n",
    "\n",
    "for metric in results:\n",
    "    ys = [ agreements[metric][x] for x in xs ]\n",
    "    \n",
    "    ax = sns.lineplot(x=xs, y=ys, label=names[metric])\n",
    "    \n",
    "ax.set(xlabel='Size of test set', ylabel='Average agreement \\n to main prediction')\n",
    "ax.yaxis.grid(True)\n",
    "#ax.legend(loc='upper right')\n",
    "\n",
    "plt.savefig('metric_convergence_wmt.pdf', bbox_inches='tight')"
   ]
  }
 ],
 "metadata": {
  "kernelspec": {
   "display_name": "Python 3",
   "language": "python",
   "name": "python3"
  },
  "language_info": {
   "codemirror_mode": {
    "name": "ipython",
    "version": 3
   },
   "file_extension": ".py",
   "mimetype": "text/x-python",
   "name": "python",
   "nbconvert_exporter": "python",
   "pygments_lexer": "ipython3",
   "version": "3.8.5"
  }
 },
 "nbformat": 4,
 "nbformat_minor": 4
}
