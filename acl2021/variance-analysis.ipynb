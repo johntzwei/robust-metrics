{
 "cells": [
  {
   "cell_type": "code",
   "execution_count": 2,
   "metadata": {},
   "outputs": [],
   "source": [
    "import pickle\n",
    "import pandas as pd\n",
    "from tqdm import tqdm\n",
    "import numpy as np\n",
    "import json"
   ]
  },
  {
   "cell_type": "markdown",
   "metadata": {},
   "source": [
    "### Data"
   ]
  },
  {
   "cell_type": "code",
   "execution_count": 86,
   "metadata": {},
   "outputs": [],
   "source": [
    "wmt16 = pickle.load(open('../wmt16-19-metrics-shared-task/wmt_metadata/pickles/wmt16_sys_metadata.pkl', 'rb'))\n",
    "wmt17 = pickle.load(open('../wmt16-19-metrics-shared-task/wmt_metadata/pickles/wmt17_sys_metadata.pkl', 'rb'))\n",
    "wmt18 = pickle.load(open('../wmt16-19-metrics-shared-task/wmt_metadata/pickles/wmt18_sys_metadata.pkl', 'rb'))\n",
    "wmt19 = pickle.load(open('../wmt16-19-metrics-shared-task/wmt_metadata/pickles/wmt19_sys_metadata.pkl', 'rb'))"
   ]
  },
  {
   "cell_type": "code",
   "execution_count": 87,
   "metadata": {},
   "outputs": [],
   "source": [
    "wmt19.drop('sys_id', axis=1, inplace=True)\n",
    "wmt18.columns = [ i if i != 'sys_id' else 'system' for i in wmt18.columns ]\n",
    "wmt17.columns = [ i if i != 'sys_id' else 'system' for i in wmt17.columns ]\n",
    "wmt16.columns = [ i if i != 'sys_id' else 'system' for i in wmt16.columns ]"
   ]
  },
  {
   "cell_type": "code",
   "execution_count": 88,
   "metadata": {},
   "outputs": [
    {
     "data": {
      "text/plain": [
       "SYSTEM     147000\n",
       "REPEAT      21000\n",
       "REF         21000\n",
       "BAD_REF     21000\n",
       "Name: type, dtype: int64"
      ]
     },
     "execution_count": 88,
     "metadata": {},
     "output_type": "execute_result"
    }
   ],
   "source": [
    "wmt16.type.value_counts()"
   ]
  },
  {
   "cell_type": "code",
   "execution_count": 89,
   "metadata": {},
   "outputs": [
    {
     "data": {
      "text/plain": [
       "SYSTEM     273822\n",
       "REPEAT      33885\n",
       "REF         33835\n",
       "BAD_REF     33783\n",
       "Name: type, dtype: int64"
      ]
     },
     "execution_count": 89,
     "metadata": {},
     "output_type": "execute_result"
    }
   ],
   "source": [
    "wmt17.type.value_counts()"
   ]
  },
  {
   "cell_type": "code",
   "execution_count": 90,
   "metadata": {},
   "outputs": [
    {
     "data": {
      "text/plain": [
       "SYSTEM     265387\n",
       "BAD_REF     36924\n",
       "REPEAT      26489\n",
       "REF         26003\n",
       "Name: type, dtype: int64"
      ]
     },
     "execution_count": 90,
     "metadata": {},
     "output_type": "execute_result"
    }
   ],
   "source": [
    "wmt18.type.value_counts()"
   ]
  },
  {
   "cell_type": "code",
   "execution_count": 91,
   "metadata": {},
   "outputs": [
    {
     "data": {
      "text/plain": [
       "SYSTEM     139963\n",
       "REPEAT      13266\n",
       "REF         13177\n",
       "BAD_REF     13113\n",
       "Name: type, dtype: int64"
      ]
     },
     "execution_count": 91,
     "metadata": {},
     "output_type": "execute_result"
    }
   ],
   "source": [
    "wmt19.type.value_counts()"
   ]
  },
  {
   "cell_type": "markdown",
   "metadata": {},
   "source": [
    "### Pooled variances"
   ]
  },
  {
   "cell_type": "code",
   "execution_count": 92,
   "metadata": {},
   "outputs": [],
   "source": [
    "def pooled_variance(groups, variable='score'):\n",
    "    stds = []\n",
    "    for i, group in groups:\n",
    "        if len(group) < 2:\n",
    "            continue   \n",
    "        stds.append((len(group), group.std()[variable]))\n",
    "        \n",
    "    num = 0\n",
    "    denom = 0\n",
    "\n",
    "    for n, sigma in stds:\n",
    "        denom += (n-1)\n",
    "        num += (n-1) * sigma * sigma\n",
    "\n",
    "    pooled_var = num / denom\n",
    "    return pooled_var"
   ]
  },
  {
   "cell_type": "code",
   "execution_count": 96,
   "metadata": {},
   "outputs": [],
   "source": [
    "pooled_vars = {}\n",
    "for i, dataset in [('wmt16', wmt16), ('wmt17', wmt17), ('wmt18', wmt18), ('wmt19', wmt19)]:\n",
    "    dataset = dataset[dataset.type.isin(['SYSTEM', 'REPEAT'])]\n",
    "    pooled_vars[i] = pooled_variance(dataset.groupby(['lp', 'system', 'sid']))"
   ]
  },
  {
   "cell_type": "code",
   "execution_count": 40,
   "metadata": {},
   "outputs": [
    {
     "ename": "NameError",
     "evalue": "name 'pooled_vars' is not defined",
     "output_type": "error",
     "traceback": [
      "\u001b[0;31m---------------------------------------------------------------------------\u001b[0m",
      "\u001b[0;31mNameError\u001b[0m                                 Traceback (most recent call last)",
      "\u001b[0;32m<ipython-input-40-dfa3d1142a7d>\u001b[0m in \u001b[0;36m<module>\u001b[0;34m\u001b[0m\n\u001b[0;32m----> 1\u001b[0;31m \u001b[0mpooled_vars\u001b[0m\u001b[0;34m\u001b[0m\u001b[0;34m\u001b[0m\u001b[0m\n\u001b[0m",
      "\u001b[0;31mNameError\u001b[0m: name 'pooled_vars' is not defined"
     ]
    }
   ],
   "source": [
    "pooled_vars"
   ]
  },
  {
   "cell_type": "code",
   "execution_count": 106,
   "metadata": {},
   "outputs": [],
   "source": [
    "pooled_vars_toen = {}\n",
    "for i, dataset in [('wmt16', wmt16), ('wmt17', wmt17), ('wmt18', wmt18), ('wmt19', wmt19)]:\n",
    "    dataset = dataset[dataset.type.isin(['SYSTEM', 'REPEAT']) & \\\n",
    "                      dataset.lp.str.endswith('en')]\n",
    "    pooled_vars_toen[i] = pooled_variance(dataset.groupby(['lp', 'system', 'sid']))"
   ]
  },
  {
   "cell_type": "code",
   "execution_count": 107,
   "metadata": {},
   "outputs": [
    {
     "data": {
      "text/plain": [
       "{'wmt16': 307.17626731473774,\n",
       " 'wmt17': 527.2973972404222,\n",
       " 'wmt18': 382.8504227475613,\n",
       " 'wmt19': 458.6292985991144}"
      ]
     },
     "execution_count": 107,
     "metadata": {},
     "output_type": "execute_result"
    }
   ],
   "source": [
    "pooled_vars_toen"
   ]
  },
  {
   "cell_type": "markdown",
   "metadata": {},
   "source": [
    "### Total variances"
   ]
  },
  {
   "cell_type": "code",
   "execution_count": 98,
   "metadata": {},
   "outputs": [],
   "source": [
    "total_vars = {}\n",
    "for i, dataset in [('wmt16', wmt16), ('wmt17', wmt17), ('wmt18', wmt18), ('wmt19', wmt19)]:\n",
    "    dataset = dataset[dataset.type.isin(['SYSTEM', 'REPEAT'])]\n",
    "    total_vars[i] = dataset.var()['score']"
   ]
  },
  {
   "cell_type": "code",
   "execution_count": 99,
   "metadata": {},
   "outputs": [
    {
     "data": {
      "text/plain": [
       "{'wmt16': 929.3833283786197,\n",
       " 'wmt17': 941.6081748841809,\n",
       " 'wmt18': 860.2982230631335,\n",
       " 'wmt19': 888.5818433621715}"
      ]
     },
     "execution_count": 99,
     "metadata": {},
     "output_type": "execute_result"
    }
   ],
   "source": [
    "total_vars"
   ]
  },
  {
   "cell_type": "code",
   "execution_count": 108,
   "metadata": {},
   "outputs": [],
   "source": [
    "total_vars_toen = {}\n",
    "for i, dataset in [('wmt16', wmt16), ('wmt17', wmt17), ('wmt18', wmt18), ('wmt19', wmt19)]:\n",
    "    dataset = dataset[dataset.type.isin(['SYSTEM', 'REPEAT']) & \\\n",
    "                      dataset.lp.str.endswith('en')]\n",
    "    total_vars_toen[i] = dataset.var()['score']"
   ]
  },
  {
   "cell_type": "code",
   "execution_count": 109,
   "metadata": {},
   "outputs": [
    {
     "data": {
      "text/plain": [
       "{'wmt16': 900.345673312272,\n",
       " 'wmt17': 879.1690392977753,\n",
       " 'wmt18': 795.9652837203586,\n",
       " 'wmt19': 829.7852689294594}"
      ]
     },
     "execution_count": 109,
     "metadata": {},
     "output_type": "execute_result"
    }
   ],
   "source": [
    "total_vars_toen"
   ]
  },
  {
   "cell_type": "markdown",
   "metadata": {},
   "source": [
    "### Export"
   ]
  },
  {
   "cell_type": "code",
   "execution_count": 105,
   "metadata": {},
   "outputs": [],
   "source": [
    "json.dump(pooled_vars, open('./vars/pooled_vars.json', 'wt'))\n",
    "json.dump(total_vars, open('./vars/total_vars.json', 'wt'))"
   ]
  },
  {
   "cell_type": "code",
   "execution_count": 110,
   "metadata": {},
   "outputs": [],
   "source": [
    "json.dump(pooled_vars_toen, open('./vars/pooled_vars_toen.json', 'wt'))\n",
    "json.dump(total_vars_toen, open('./vars/total_vars_toen.json', 'wt'))"
   ]
  },
  {
   "cell_type": "markdown",
   "metadata": {},
   "source": [
    "# Results"
   ]
  },
  {
   "cell_type": "code",
   "execution_count": 6,
   "metadata": {},
   "outputs": [
    {
     "name": "stdout",
     "output_type": "stream",
     "text": [
      "$\\sqrt{\\Var(H(x))}$ & 30.01 & 29.65 & 28.21 & 28.81 \\\\\n",
      "$\\sqrt{\\Expect[\\Var(H(x) | x)]}$ & 17.53 & 22.96 & 19.57 & 21.42 \\\\\n",
      "$\\sqrt{\\Var(P(x))}$ & 24.36 & 18.76 & 20.33 & 19.27 \\\\\n",
      "$\\Var(H(x)) / \\Var(P(x))$ & 1.52 & 2.50 & 1.93 & 2.24 \\\\\n"
     ]
    }
   ],
   "source": [
    "total_vars_toen = json.load(open('./vars/total_vars_toen.json'))\n",
    "pooled_vars_toen = json.load(open('./vars/pooled_vars_toen.json'))\n",
    "\n",
    "l = []\n",
    "for i in ['wmt16', 'wmt17', 'wmt18', 'wmt19']:\n",
    "    l.append('%.2f' % np.sqrt(total_vars_toen[i]))\n",
    "l.insert(0, '$\\sqrt{\\Var(H(x))}$')\n",
    "print(' & '.join(l) + ' \\\\\\\\')\n",
    "    \n",
    "l = []\n",
    "for i in ['wmt16', 'wmt17', 'wmt18', 'wmt19']:\n",
    "    l.append('%.2f' % np.sqrt(pooled_vars_toen[i]))\n",
    "l.insert(0, '$\\sqrt{\\Expect[\\Var(H(x) | x)]}$')\n",
    "print(' & '.join(l) + ' \\\\\\\\')\n",
    "\n",
    "\n",
    "l = []\n",
    "p_vars = {}\n",
    "for i in ['wmt16', 'wmt17', 'wmt18', 'wmt19']:\n",
    "    p_var = total_vars_toen[i] - pooled_vars_toen[i]\n",
    "    p_vars[i] = p_var\n",
    "    l.append('%.2f' % np.sqrt(p_var))\n",
    "l.insert(0, '$\\sqrt{\\Var(P(x))}$')    \n",
    "print(' & '.join(l) + ' \\\\\\\\')\n",
    "\n",
    "l = []\n",
    "for i in ['wmt16', 'wmt17', 'wmt18', 'wmt19']:\n",
    "    p_var = p_vars[i]\n",
    "    total_var = total_vars_toen[i]\n",
    "    \n",
    "    l.append('%.2f' % (total_var / p_var))\n",
    "l.insert(0, '$\\Var(H(x)) / \\Var(P(x))$')   \n",
    "print(' & '.join(l) + ' \\\\\\\\')"
   ]
  }
 ],
 "metadata": {
  "kernelspec": {
   "display_name": "Python 3",
   "language": "python",
   "name": "python3"
  },
  "language_info": {
   "codemirror_mode": {
    "name": "ipython",
    "version": 3
   },
   "file_extension": ".py",
   "mimetype": "text/x-python",
   "name": "python",
   "nbconvert_exporter": "python",
   "pygments_lexer": "ipython3",
   "version": "3.8.5"
  }
 },
 "nbformat": 4,
 "nbformat_minor": 4
}
