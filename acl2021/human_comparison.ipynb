{
 "cells": [
  {
   "cell_type": "code",
   "execution_count": 28,
   "metadata": {},
   "outputs": [],
   "source": [
    "import pickle\n",
    "import itertools\n",
    "import numpy as np\n",
    "from tqdm.notebook import tqdm\n",
    "from multiprocessing import Pool\n",
    "import sacrebleu\n",
    "import pandas as pd\n",
    "import json\n",
    "import matplotlib.pyplot as plt\n",
    "import seaborn as sns\n",
    "sns.set_context('paper', font_scale=0.73)\n",
    "sns.set_style('whitegrid', {'font.family':'serif', 'font.serif':'Times New Roman'})"
   ]
  },
  {
   "cell_type": "code",
   "execution_count": 2,
   "metadata": {
    "scrolled": false
   },
   "outputs": [
    {
     "data": {
      "text/html": [
       "<div>\n",
       "<style scoped>\n",
       "    .dataframe tbody tr th:only-of-type {\n",
       "        vertical-align: middle;\n",
       "    }\n",
       "\n",
       "    .dataframe tbody tr th {\n",
       "        vertical-align: top;\n",
       "    }\n",
       "\n",
       "    .dataframe thead th {\n",
       "        text-align: right;\n",
       "    }\n",
       "</style>\n",
       "<table border=\"1\" class=\"dataframe\">\n",
       "  <thead>\n",
       "    <tr style=\"text-align: right;\">\n",
       "      <th></th>\n",
       "      <th>lp</th>\n",
       "      <th>HITId</th>\n",
       "      <th>WorkerId</th>\n",
       "      <th>score</th>\n",
       "      <th>time</th>\n",
       "      <th>system</th>\n",
       "      <th>type</th>\n",
       "      <th>sid</th>\n",
       "      <th>reference</th>\n",
       "      <th>source</th>\n",
       "      <th>...</th>\n",
       "      <th>chrf:statistics_10</th>\n",
       "      <th>chrf:statistics_11</th>\n",
       "      <th>chrf:statistics_12</th>\n",
       "      <th>chrf:statistics_13</th>\n",
       "      <th>chrf:statistics_14</th>\n",
       "      <th>chrf:statistics_15</th>\n",
       "      <th>chrf:statistics_16</th>\n",
       "      <th>chrf:statistics_17</th>\n",
       "      <th>bert_score:f1</th>\n",
       "      <th>bleurt_score</th>\n",
       "    </tr>\n",
       "  </thead>\n",
       "  <tbody>\n",
       "    <tr>\n",
       "      <th>0</th>\n",
       "      <td>de-en</td>\n",
       "      <td>3QQUBC64ZEEFIPT2SKINDZZTZ3SNXN</td>\n",
       "      <td>A0077</td>\n",
       "      <td>78</td>\n",
       "      <td>2052.0</td>\n",
       "      <td>online-G</td>\n",
       "      <td>SYSTEM</td>\n",
       "      <td>1906</td>\n",
       "      <td>Rather than having an executive make the annou...</td>\n",
       "      <td>Anstatt einen Manager die Ankündigung machen z...</td>\n",
       "      <td>...</td>\n",
       "      <td>151</td>\n",
       "      <td>95</td>\n",
       "      <td>145</td>\n",
       "      <td>150</td>\n",
       "      <td>85</td>\n",
       "      <td>144</td>\n",
       "      <td>149</td>\n",
       "      <td>76</td>\n",
       "      <td>0.941347</td>\n",
       "      <td>-0.00404</td>\n",
       "    </tr>\n",
       "  </tbody>\n",
       "</table>\n",
       "<p>1 rows × 44 columns</p>\n",
       "</div>"
      ],
      "text/plain": [
       "      lp                           HITId WorkerId  score    time    system  \\\n",
       "0  de-en  3QQUBC64ZEEFIPT2SKINDZZTZ3SNXN    A0077     78  2052.0  online-G   \n",
       "\n",
       "     type   sid                                          reference  \\\n",
       "0  SYSTEM  1906  Rather than having an executive make the annou...   \n",
       "\n",
       "                                              source  ... chrf:statistics_10  \\\n",
       "0  Anstatt einen Manager die Ankündigung machen z...  ...                151   \n",
       "\n",
       "   chrf:statistics_11  chrf:statistics_12  chrf:statistics_13  \\\n",
       "0                  95                 145                 150   \n",
       "\n",
       "   chrf:statistics_14  chrf:statistics_15  chrf:statistics_16  \\\n",
       "0                  85                 144                 149   \n",
       "\n",
       "   chrf:statistics_17  bert_score:f1  bleurt_score  \n",
       "0                  76       0.941347      -0.00404  \n",
       "\n",
       "[1 rows x 44 columns]"
      ]
     },
     "execution_count": 2,
     "metadata": {},
     "output_type": "execute_result"
    }
   ],
   "source": [
    "wmt_scored = pickle.load(open('wmt16-19_toen_scored.pkl', 'rb'))\n",
    "wmt_scored.head(1)"
   ]
  },
  {
   "cell_type": "code",
   "execution_count": 3,
   "metadata": {},
   "outputs": [
    {
     "data": {
      "text/plain": [
       "SYSTEM    585386\n",
       "REPEAT     75998\n",
       "Name: type, dtype: int64"
      ]
     },
     "execution_count": 3,
     "metadata": {},
     "output_type": "execute_result"
    }
   ],
   "source": [
    "wmt_scored.type.value_counts()"
   ]
  },
  {
   "cell_type": "code",
   "execution_count": 4,
   "metadata": {},
   "outputs": [
    {
     "data": {
      "text/html": [
       "<div>\n",
       "<style scoped>\n",
       "    .dataframe tbody tr th:only-of-type {\n",
       "        vertical-align: middle;\n",
       "    }\n",
       "\n",
       "    .dataframe tbody tr th {\n",
       "        vertical-align: top;\n",
       "    }\n",
       "\n",
       "    .dataframe thead th {\n",
       "        text-align: right;\n",
       "    }\n",
       "</style>\n",
       "<table border=\"1\" class=\"dataframe\">\n",
       "  <thead>\n",
       "    <tr style=\"text-align: right;\">\n",
       "      <th></th>\n",
       "      <th></th>\n",
       "      <th></th>\n",
       "      <th>score</th>\n",
       "    </tr>\n",
       "    <tr>\n",
       "      <th>year</th>\n",
       "      <th>lp</th>\n",
       "      <th>system</th>\n",
       "      <th></th>\n",
       "    </tr>\n",
       "  </thead>\n",
       "  <tbody>\n",
       "    <tr>\n",
       "      <th rowspan=\"5\" valign=\"top\">2016</th>\n",
       "      <th rowspan=\"5\" valign=\"top\">cs-en</th>\n",
       "      <th>PJATK</th>\n",
       "      <td>69.001067</td>\n",
       "    </tr>\n",
       "    <tr>\n",
       "      <th>cu-mergedtrees</th>\n",
       "      <td>56.020474</td>\n",
       "    </tr>\n",
       "    <tr>\n",
       "      <th>jhu-pbmt</th>\n",
       "      <td>72.411999</td>\n",
       "    </tr>\n",
       "    <tr>\n",
       "      <th>online-A</th>\n",
       "      <td>69.633523</td>\n",
       "    </tr>\n",
       "    <tr>\n",
       "      <th>online-B</th>\n",
       "      <td>70.983888</td>\n",
       "    </tr>\n",
       "    <tr>\n",
       "      <th>...</th>\n",
       "      <th>...</th>\n",
       "      <th>...</th>\n",
       "      <td>...</td>\n",
       "    </tr>\n",
       "    <tr>\n",
       "      <th rowspan=\"5\" valign=\"top\">2019</th>\n",
       "      <th rowspan=\"5\" valign=\"top\">zh-en</th>\n",
       "      <th>online-A.0</th>\n",
       "      <td>75.306259</td>\n",
       "    </tr>\n",
       "    <tr>\n",
       "      <th>online-B.0</th>\n",
       "      <td>80.686373</td>\n",
       "    </tr>\n",
       "    <tr>\n",
       "      <th>online-G.0</th>\n",
       "      <td>72.351598</td>\n",
       "    </tr>\n",
       "    <tr>\n",
       "      <th>online-X.0</th>\n",
       "      <td>66.889482</td>\n",
       "    </tr>\n",
       "    <tr>\n",
       "      <th>online-Y.0</th>\n",
       "      <td>78.002909</td>\n",
       "    </tr>\n",
       "  </tbody>\n",
       "</table>\n",
       "<p>261 rows × 1 columns</p>\n",
       "</div>"
      ],
      "text/plain": [
       "                               score\n",
       "year lp    system                   \n",
       "2016 cs-en PJATK           69.001067\n",
       "           cu-mergedtrees  56.020474\n",
       "           jhu-pbmt        72.411999\n",
       "           online-A        69.633523\n",
       "           online-B        70.983888\n",
       "...                              ...\n",
       "2019 zh-en online-A.0      75.306259\n",
       "           online-B.0      80.686373\n",
       "           online-G.0      72.351598\n",
       "           online-X.0      66.889482\n",
       "           online-Y.0      78.002909\n",
       "\n",
       "[261 rows x 1 columns]"
      ]
     },
     "execution_count": 4,
     "metadata": {},
     "output_type": "execute_result"
    }
   ],
   "source": [
    "true_means = wmt_scored.groupby(['year','lp', 'system'])[['score']].mean()\n",
    "true_means"
   ]
  },
  {
   "cell_type": "code",
   "execution_count": 5,
   "metadata": {},
   "outputs": [
    {
     "name": "stdout",
     "output_type": "stream",
     "text": [
      "1324\n",
      "((2019, 'zh-en'), 'online-X.0', 'MSRA.MASS.6942')\n"
     ]
    }
   ],
   "source": [
    "def pairs(x):\n",
    "    for (year, lp), group in x.groupby(['year', 'lp']):\n",
    "        systems = group.system.unique()\n",
    "        \n",
    "        for i, j in itertools.combinations(systems, 2):\n",
    "            yield (year, lp), i, j\n",
    "            \n",
    "all_pairs = list(pairs(wmt_scored))\n",
    "pairs_2019 = list(pairs(wmt_scored[wmt_scored.year == 2019]))\n",
    "print(len(all_pairs))\n",
    "print(all_pairs[-1])\n",
    "\n",
    "def get_preds(all_pairs, scores, only_2019=False):\n",
    "    if only_2019:\n",
    "        all_pairs = pairs_2019\n",
    "    \n",
    "    preds = np.zeros(len(all_pairs))\n",
    "    if type(scores) == type({}):\n",
    "        for ii, ((year, lp), i, j) in enumerate(all_pairs):\n",
    "            preds[ii] = 1 if scores[year, lp, i] - scores[year, lp, j] > 0 else 0\n",
    "    else:\n",
    "        for ii, ((year, lp), i, j) in enumerate(all_pairs):\n",
    "            preds[ii] = 1 if scores.loc[year, lp, i] - scores.loc[year, lp, j] > 0 else 0\n",
    "            \n",
    "    return preds\n",
    "\n",
    "true_preds = get_preds(all_pairs, true_means['score'])"
   ]
  },
  {
   "cell_type": "code",
   "execution_count": 6,
   "metadata": {},
   "outputs": [],
   "source": [
    "# BLEU\n",
    "def bleu_agg(x):\n",
    "    cols = [ ('bleu:counts_%d' % i) for i in range(0, 4) ] + [ ('bleu:totals_%d' % i) for i in range(0, 4) ]\n",
    "    cols += ['bleu:sys_len', 'bleu:ref_len']\n",
    "    aggs = x[cols].sum()\n",
    "\n",
    "    totals = [ aggs['bleu:totals_%d' % i] for i in range(0, 4) ]\n",
    "    counts = [ aggs['bleu:counts_%d' % i] for i in range(0, 4) ]\n",
    "    ref_len = aggs['bleu:ref_len']\n",
    "    sys_len = aggs['bleu:sys_len']\n",
    "\n",
    "    return sacrebleu.compute_bleu(counts, totals, sys_len, ref_len).score\n",
    "\n",
    "# TER\n",
    "def ter_agg(x):\n",
    "    cols = [ 'ter:num_edits', 'ter:ref_length' ]\n",
    "    aggs = x[cols].sum()\n",
    "\n",
    "    num_edits = aggs['ter:num_edits']\n",
    "    ref_length = aggs['ter:ref_length']\n",
    "\n",
    "    # for one reference\n",
    "    return -num_edits / ref_length\n",
    "\n",
    "\n",
    "# chrf\n",
    "def chrf_agg(x):\n",
    "    cols = [ ('chrf:statistics_%d' % i) for i in range(0, 18) ]\n",
    "    aggs = x[cols].sum()\n",
    "\n",
    "    statistics = [ aggs['chrf:statistics_%d' % i] for i in range(0, 18) ]\n",
    "\n",
    "    return sacrebleu.CHRF.compute_chrf(statistics, order=6, beta=2).score\n",
    "\n",
    "def bert_score_agg(x):\n",
    "    return x['bert_score:f1'].mean()\n",
    "\n",
    "def bleurt_agg(x):\n",
    "    return x['bleurt_score'].mean()\n",
    "\n",
    "def human_agg(x):\n",
    "    return x['score'].mean()"
   ]
  },
  {
   "cell_type": "code",
   "execution_count": 7,
   "metadata": {},
   "outputs": [],
   "source": [
    "# taken from https://github.com/rasbt/mlxtend/blob/master/mlxtend/evaluate/bias_variance_decomp.py\n",
    "def bias_var_decomposition(metric_results, true_preds):\n",
    "    main_predictions = np.apply_along_axis(lambda x:\n",
    "                                           np.argmax(np.bincount(x)),\n",
    "                                           axis=0,\n",
    "                                           arr=metric_results)\n",
    "\n",
    "    avg_expected_loss = (true_preds != metric_results).mean()\n",
    "\n",
    "    avg_bias = (main_predictions != true_preds).mean()\n",
    "\n",
    "    signs = (main_predictions == true_preds).astype(np.int64) * 2 - 1\n",
    "    variances = (metric_results != main_predictions).mean(axis=0)\n",
    "    avg_var_contrib = (signs * variances).mean()\n",
    "\n",
    "    return avg_expected_loss, avg_bias, avg_var_contrib\n",
    "\n",
    "# adopted from https://github.com/rasbt/mlxtend/blob/master/mlxtend/evaluate/bias_variance_decomp.py\n",
    "def bias_var_noise_decomposition(metric_results, human_results, true_preds, no_bias=False):\n",
    "    main_predictions = np.apply_along_axis(lambda x:\n",
    "                                           np.argmax(np.bincount(x)),\n",
    "                                           axis=0,\n",
    "                                           arr=metric_results)\n",
    "\n",
    "    optimal_predictions = np.apply_along_axis(lambda x:\n",
    "                                       np.argmax(np.bincount(x)),\n",
    "                                       axis=0,\n",
    "                                       arr=human_results)\n",
    "    \n",
    "    if no_bias:\n",
    "        main_predictions = optimal_predictions\n",
    "    true_preds = optimal_predictions\n",
    "    \n",
    "    avg_expected_loss = (human_results != metric_results).mean()\n",
    "\n",
    "    noises = (human_results != true_preds).mean(axis=0)\n",
    "    probs = (metric_results == true_preds).mean(axis=0)\n",
    "\n",
    "    avg_noise_contrib = ((2 * probs - 1) * noises).mean()\n",
    "\n",
    "    avg_bias = (main_predictions != true_preds).mean()\n",
    "\n",
    "    signs = (main_predictions == true_preds).astype(np.int64) * 2 - 1\n",
    "    variances = (metric_results != main_predictions).mean(axis=0)\n",
    "    avg_var_contrib = (signs * variances).mean()\n",
    "\n",
    "    return avg_expected_loss, avg_bias, avg_var_contrib, avg_noise_contrib"
   ]
  },
  {
   "cell_type": "code",
   "execution_count": 8,
   "metadata": {},
   "outputs": [
    {
     "data": {
      "text/plain": [
       "{2016: 1.5178558843542491,\n",
       " 2017: 2.4985504207084577,\n",
       " 2018: 1.9267408629310268,\n",
       " 2019: 2.2356780848518056}"
      ]
     },
     "execution_count": 8,
     "metadata": {},
     "output_type": "execute_result"
    }
   ],
   "source": [
    "pooled_vars = json.load(open('vars/pooled_vars_toen.json', 'rt'))\n",
    "total_vars = json.load(open('vars/total_vars_toen.json', 'rt'))\n",
    "\n",
    "ratios = {}\n",
    "ratios[2016] = total_vars['wmt16'] / (total_vars['wmt16'] - pooled_vars['wmt16'])\n",
    "ratios[2017] = total_vars['wmt17'] / (total_vars['wmt17'] - pooled_vars['wmt17'])\n",
    "ratios[2018] = total_vars['wmt18'] / (total_vars['wmt18'] - pooled_vars['wmt18'])\n",
    "ratios[2019] = total_vars['wmt19'] / (total_vars['wmt19'] - pooled_vars['wmt19'])\n",
    "\n",
    "ratios"
   ]
  },
  {
   "cell_type": "code",
   "execution_count": 10,
   "metadata": {},
   "outputs": [
    {
     "data": {
      "application/vnd.jupyter.widget-view+json": {
       "model_id": "153b118608e849aeab7dba448ff5629f",
       "version_major": 2,
       "version_minor": 0
      },
      "text/plain": [
       "HBox(children=(HTML(value=''), FloatProgress(value=0.0, max=10000.0), HTML(value='')))"
      ]
     },
     "metadata": {},
     "output_type": "display_data"
    },
    {
     "name": "stdout",
     "output_type": "stream",
     "text": [
      "\n"
     ]
    },
    {
     "data": {
      "text/plain": [
       "array([0, 1, 1, ..., 1, 0, 0])"
      ]
     },
     "execution_count": 10,
     "metadata": {},
     "output_type": "execute_result"
    }
   ],
   "source": [
    "cached = [ (i, pd.DataFrame(g)) for i, g in wmt_scored.groupby(['year', 'lp', 'system']) ]\n",
    "labels = [ i[0] for i in cached ]\n",
    "\n",
    "def f(metric):\n",
    "    groups = [ g.sample(frac=1, replace=True) for i, g in cached ]\n",
    "    observed_means = [ g['score'].mean() for g in groups ]\n",
    "    \n",
    "    d = { label:mean for label, mean in zip(labels, observed_means) }\n",
    "    return get_preds(all_pairs, d)\n",
    "\n",
    "with Pool(12) as p:\n",
    "    it = tqdm(p.imap_unordered(f, [None]*10000, chunksize=10), total=10000)\n",
    "    output = list(it)\n",
    "    human_results = np.array(output, dtype=np.int64)\n",
    "    \n",
    "# optimal predictions\n",
    "optimal_predictions = np.apply_along_axis(lambda x:\n",
    "                                   np.argmax(np.bincount(x)),\n",
    "                                   axis=0,\n",
    "                                   arr=human_results)\n",
    "\n",
    "optimal_predictions"
   ]
  },
  {
   "cell_type": "code",
   "execution_count": 11,
   "metadata": {
    "scrolled": false
   },
   "outputs": [
    {
     "data": {
      "application/vnd.jupyter.widget-view+json": {
       "model_id": "ec5d4fad8fa242af8c539ddfede3aacf",
       "version_major": 2,
       "version_minor": 0
      },
      "text/plain": [
       "HBox(children=(HTML(value=''), FloatProgress(value=0.0, max=7.0), HTML(value='')))"
      ]
     },
     "metadata": {},
     "output_type": "display_data"
    },
    {
     "data": {
      "application/vnd.jupyter.widget-view+json": {
       "model_id": "effa3d5b13fc4a1389430274c093b468",
       "version_major": 2,
       "version_minor": 0
      },
      "text/plain": [
       "HBox(children=(HTML(value=''), FloatProgress(value=0.0, max=10000.0), HTML(value='')))"
      ]
     },
     "metadata": {},
     "output_type": "display_data"
    },
    {
     "name": "stdout",
     "output_type": "stream",
     "text": [
      "\n"
     ]
    },
    {
     "data": {
      "application/vnd.jupyter.widget-view+json": {
       "model_id": "cd17a378f7444be28df1103c8e5ea438",
       "version_major": 2,
       "version_minor": 0
      },
      "text/plain": [
       "HBox(children=(HTML(value=''), FloatProgress(value=0.0, max=10000.0), HTML(value='')))"
      ]
     },
     "metadata": {},
     "output_type": "display_data"
    },
    {
     "name": "stdout",
     "output_type": "stream",
     "text": [
      "\n"
     ]
    },
    {
     "data": {
      "application/vnd.jupyter.widget-view+json": {
       "model_id": "155fdde98dac48088156ae4500676c96",
       "version_major": 2,
       "version_minor": 0
      },
      "text/plain": [
       "HBox(children=(HTML(value=''), FloatProgress(value=0.0, max=10000.0), HTML(value='')))"
      ]
     },
     "metadata": {},
     "output_type": "display_data"
    },
    {
     "name": "stdout",
     "output_type": "stream",
     "text": [
      "\n"
     ]
    },
    {
     "data": {
      "application/vnd.jupyter.widget-view+json": {
       "model_id": "fc6c1cc4cbb74f60a6324f7837d7d769",
       "version_major": 2,
       "version_minor": 0
      },
      "text/plain": [
       "HBox(children=(HTML(value=''), FloatProgress(value=0.0, max=10000.0), HTML(value='')))"
      ]
     },
     "metadata": {},
     "output_type": "display_data"
    },
    {
     "name": "stdout",
     "output_type": "stream",
     "text": [
      "\n"
     ]
    },
    {
     "data": {
      "application/vnd.jupyter.widget-view+json": {
       "model_id": "6eacc7fbb9834073beb333cc456e7a2d",
       "version_major": 2,
       "version_minor": 0
      },
      "text/plain": [
       "HBox(children=(HTML(value=''), FloatProgress(value=0.0, max=10000.0), HTML(value='')))"
      ]
     },
     "metadata": {},
     "output_type": "display_data"
    },
    {
     "name": "stdout",
     "output_type": "stream",
     "text": [
      "\n"
     ]
    },
    {
     "data": {
      "application/vnd.jupyter.widget-view+json": {
       "model_id": "fa245b6e53c14f5593d177105ef68bd2",
       "version_major": 2,
       "version_minor": 0
      },
      "text/plain": [
       "HBox(children=(HTML(value=''), FloatProgress(value=0.0, max=10000.0), HTML(value='')))"
      ]
     },
     "metadata": {},
     "output_type": "display_data"
    },
    {
     "name": "stdout",
     "output_type": "stream",
     "text": [
      "\n"
     ]
    },
    {
     "data": {
      "application/vnd.jupyter.widget-view+json": {
       "model_id": "1601d133a97b4a3683380614a4e8fe81",
       "version_major": 2,
       "version_minor": 0
      },
      "text/plain": [
       "HBox(children=(HTML(value=''), FloatProgress(value=0.0, max=10000.0), HTML(value='')))"
      ]
     },
     "metadata": {},
     "output_type": "display_data"
    },
    {
     "name": "stdout",
     "output_type": "stream",
     "text": [
      "\n",
      "\n"
     ]
    }
   ],
   "source": [
    "cached = [ (i, pd.DataFrame(g)) for i, g in wmt_scored.groupby(['year', 'lp', 'system']) ]\n",
    "labels = [ i[0] for i in cached ]\n",
    "\n",
    "def f(x):\n",
    "    n, ratios = x\n",
    "    \n",
    "    groups = [ g.sample(frac=1, replace=True) for i, g in cached ]\n",
    "    observed_means = [ g['score'].mean() for g in groups ]\n",
    "    observed_means = { label:mean for label, mean in zip(labels, observed_means) }\n",
    "    \n",
    "    # humans\n",
    "    groups = [ g.sample(n=n, replace=True) for i, g in cached ]\n",
    "    human_means = [ g['score'].mean() for g in groups ]\n",
    "    human_means = { label:mean for label, mean in zip(labels, human_means) }\n",
    "\n",
    "    # theoretical\n",
    "    groups = [ g.sample(n=int(n*ratios[i[0]]), replace=True) for i, g in cached ]\n",
    "    pa_means = [ g['score'].mean() for g in groups ]\n",
    "    pa_means = { label:mean for label, mean in zip(labels, pa_means) }\n",
    "\n",
    "    return get_preds(all_pairs, observed_means), get_preds(all_pairs, human_means), get_preds(all_pairs, pa_means)\n",
    "\n",
    "WORKERS = 12\n",
    "NUM_TRIALS = 10000\n",
    "CHUNKSIZE = int(NUM_TRIALS / WORKERS / 10)\n",
    "metrics = [100, 200, 300, 400, 500, 600, 700]\n",
    "results = {}\n",
    "\n",
    "with Pool(WORKERS) as p:\n",
    "    for metric in tqdm(metrics):\n",
    "        it = tqdm(p.imap_unordered(f, [(metric, ratios)]*NUM_TRIALS, chunksize=CHUNKSIZE), total=NUM_TRIALS)\n",
    "        output = list(it)\n",
    "\n",
    "        label_results = np.array([ i[0] for i in output ], dtype=np.int64)\n",
    "        human_results = np.array([ i[1] for i in output ], dtype=np.int64)\n",
    "        pa_results = np.array([ i[2] for i in output ], dtype=np.int64)\n",
    "        \n",
    "        results[metric] = (bias_var_noise_decomposition(human_results, label_results, true_preds, no_bias=True),\n",
    "                          bias_var_noise_decomposition(pa_results, label_results, true_preds, no_bias=True))"
   ]
  },
  {
   "cell_type": "code",
   "execution_count": 12,
   "metadata": {},
   "outputs": [
    {
     "name": "stdout",
     "output_type": "stream",
     "text": [
      "700\n",
      "0.09117009063444109\n",
      "0.09137686687311179\n",
      "600\n",
      "0.09591691842900302\n",
      "0.09605719220543807\n",
      "500\n",
      "0.10145626888217522\n",
      "0.10149338812688821\n",
      "400\n",
      "0.10962190332326284\n",
      "0.1095287510574018\n",
      "300\n",
      "0.12056223564954682\n",
      "0.12075822228096678\n",
      "200\n",
      "0.1378297583081571\n",
      "0.13766070693353477\n",
      "100\n",
      "0.1739750755287009\n",
      "0.17385151234138974\n"
     ]
    }
   ],
   "source": [
    "for metric, (human, pa) in sorted(list(results.items()), key=lambda x: x[1][0]):\n",
    "    avg_expected_loss, avg_bias, avg_var_contrib, avg_noise_contrib = human\n",
    "    print(metric)\n",
    "    print(avg_expected_loss)\n",
    "    print(avg_noise_contrib + avg_bias + avg_var_contrib)"
   ]
  },
  {
   "cell_type": "code",
   "execution_count": 13,
   "metadata": {},
   "outputs": [
    {
     "name": "stdout",
     "output_type": "stream",
     "text": [
      "{'bleurt': [0.1280742388758782, 0.11241217798594848, 0.004133723653395783, 0.011459342622950818], 'human': [0.06536132930513595, 0.0, 0.04656593655589123, 0.018479260075528702], 'true_preds': [0.04681170694864048, 0.0, 0.0022658610271903325, 0.044545845921450146], 'bleu': [0.14136503021148036, 0.1268882175226586, 0.008235649546827794, 0.006162033927492447], 'ter': [0.18422069486404835, 0.1729607250755287, 0.00224690332326284, 0.008913126087613292], 'chrf': [0.12428489425981873, 0.10649546827794562, 0.009616238670694863, 0.008104985951661632], 'bert_score': [0.10233723564954683, 0.08610271903323263, 0.003863519637462236, 0.012472721253776436]}\n"
     ]
    }
   ],
   "source": [
    "bvd_results = json.load(open('bvd_results_wmt.json', 'rt'))\n",
    "print(bvd_results)"
   ]
  },
  {
   "cell_type": "code",
   "execution_count": 38,
   "metadata": {},
   "outputs": [
    {
     "data": {
      "image/png": "[encoded data removed]",
      "text/plain": [
       "<Figure size 216x129.6 with 1 Axes>"
      ]
     },
     "metadata": {},
     "output_type": "display_data"
    }
   ],
   "source": [
    "x = list(range(100, 701, 100))\n",
    "y = [results[i][0][2] for i in x]\n",
    "y_pa = [results[i][1][2] for i in x]\n",
    "\n",
    "plt.figure(figsize=(3, 1.8))\n",
    "ax = sns.lineplot(x=x, y=y, label='Human')\n",
    "#sns.lineplot(x=x, y=y_pa, label='Perfect annotator')\n",
    "ax.set(xlabel='Number of judgments', ylabel='$\\\\mathrm{Err}_{true}(M)$')\n",
    "ax.yaxis.grid(False)\n",
    "#ax.legend(loc='upper right')\n",
    "\n",
    "names = {\n",
    "    'bleu' : 'BLEU',\n",
    "    'chrf' : 'ᴄʜʀF',\n",
    "    'bert_score' : 'BERTsᴄᴏʀᴇ'\n",
    "}\n",
    "\n",
    "biases = []\n",
    "for metric, (err, bias, noise, var) in bvd_results.items():\n",
    "    if metric in ['true_preds', 'human', 'ter', 'bleurt']:\n",
    "        continue\n",
    "    ax.axhline(bias, color='darkgrey', linestyle='-.')\n",
    "    \n",
    "    metric = names[metric]\n",
    "    \n",
    "    ax.annotate(metric, (440, bias-0.009), font={'variant':'small-caps'})\n",
    "    biases.append(bias)\n",
    "plt.yticks(biases, ['%.2f' % i for i in biases])\n",
    "    \n",
    "plt.axvspan(100, 600, color='grey', alpha=0.1)\n",
    "plt.savefig('human_comparison_wmt.pdf', bbox_inches='tight')"
   ]
  }
 ],
 "metadata": {
  "kernelspec": {
   "display_name": "Python 3",
   "language": "python",
   "name": "python3"
  },
  "language_info": {
   "codemirror_mode": {
    "name": "ipython",
    "version": 3
   },
   "file_extension": ".py",
   "mimetype": "text/x-python",
   "name": "python",
   "nbconvert_exporter": "python",
   "pygments_lexer": "ipython3",
   "version": "3.8.5"
  }
 },
 "nbformat": 4,
 "nbformat_minor": 4
}
