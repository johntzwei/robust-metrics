{
 "cells": [
  {
   "cell_type": "code",
   "execution_count": 13,
   "metadata": {},
   "outputs": [],
   "source": [
    "import pandas as pd\n",
    "import pickle\n",
    "import numpy as np"
   ]
  },
  {
   "cell_type": "markdown",
   "metadata": {},
   "source": [
    "### Export"
   ]
  },
  {
   "cell_type": "code",
   "execution_count": 3,
   "metadata": {},
   "outputs": [
    {
     "data": {
      "text/html": [
       "<div>\n",
       "<style scoped>\n",
       "    .dataframe tbody tr th:only-of-type {\n",
       "        vertical-align: middle;\n",
       "    }\n",
       "\n",
       "    .dataframe tbody tr th {\n",
       "        vertical-align: top;\n",
       "    }\n",
       "\n",
       "    .dataframe thead th {\n",
       "        text-align: right;\n",
       "    }\n",
       "</style>\n",
       "<table border=\"1\" class=\"dataframe\">\n",
       "  <thead>\n",
       "    <tr style=\"text-align: right;\">\n",
       "      <th></th>\n",
       "      <th>lp</th>\n",
       "      <th>system</th>\n",
       "      <th>sid</th>\n",
       "      <th>output</th>\n",
       "      <th>source</th>\n",
       "      <th>reference</th>\n",
       "      <th>score</th>\n",
       "      <th>sentBLEU</th>\n",
       "    </tr>\n",
       "  </thead>\n",
       "  <tbody>\n",
       "    <tr>\n",
       "      <th>560</th>\n",
       "      <td>cs-en</td>\n",
       "      <td>online-A.0</td>\n",
       "      <td>33</td>\n",
       "      <td>However, conventional trains consisting of wag...</td>\n",
       "      <td>Klasické soupravy složené z vagonů a tažené lo...</td>\n",
       "      <td>Conventional trains consisting of carriages an...</td>\n",
       "      <td>0.492423</td>\n",
       "      <td>0.191983</td>\n",
       "    </tr>\n",
       "  </tbody>\n",
       "</table>\n",
       "</div>"
      ],
      "text/plain": [
       "        lp      system  sid  \\\n",
       "560  cs-en  online-A.0   33   \n",
       "\n",
       "                                                output  \\\n",
       "560  However, conventional trains consisting of wag...   \n",
       "\n",
       "                                                source  \\\n",
       "560  Klasické soupravy složené z vagonů a tažené lo...   \n",
       "\n",
       "                                             reference     score  sentBLEU  \n",
       "560  Conventional trains consisting of carriages an...  0.492423  0.191983  "
      ]
     },
     "execution_count": 3,
     "metadata": {},
     "output_type": "execute_result"
    }
   ],
   "source": [
    "wmt17_seg = pickle.load(open('../../wmt16-19-metrics-shared-task/data/pickles/wmt17-seg_level-agg.pkl', 'rb'))\n",
    "df = wmt17_seg[wmt17_seg.lp.str.endswith('en')].copy()\n",
    "df.head(1)"
   ]
  },
  {
   "cell_type": "code",
   "execution_count": 4,
   "metadata": {},
   "outputs": [],
   "source": [
    "r = open('./references.txt', 'wt')\n",
    "o = open('./outputs.txt', 'wt')\n",
    "[ r.write(i) for i in df.reference.tolist() ]\n",
    "[ o.write(i) for i in df.output.tolist() ]\n",
    "r.close()\n",
    "o.close()"
   ]
  },
  {
   "cell_type": "code",
   "execution_count": 11,
   "metadata": {},
   "outputs": [],
   "source": [
    "workers = [i.split('\\t')[0] for i in open('../exp_3/workers.tsv', 'rt') ]\n",
    "r = open('./references_30_annotators.txt', 'wt')\n",
    "o = open('./outputs_30_annotators.txt', 'wt')\n",
    "\n",
    "\n",
    "for i, j in zip(df.reference.tolist(), df.output.tolist()):\n",
    "    for _, worker in zip(range(0, 30), workers):\n",
    "        r.write('%s %s' % (worker, i))\n",
    "        o.write(j)\n",
    "\n",
    "r.close()\n",
    "o.close()"
   ]
  },
  {
   "cell_type": "markdown",
   "metadata": {},
   "source": [
    "### Load"
   ]
  },
  {
   "cell_type": "code",
   "execution_count": 5,
   "metadata": {},
   "outputs": [],
   "source": [
    "df['score:wmt16_seg_score'] = [ float(i.strip()) for i in open('./wmt16_seg_score', 'rt') ]\n",
    "df['score:wmt16_sys_score_nonorm'] = [ float(i.strip()) for i in open('./wmt16_sys_score_nonorm', 'rt') ]\n",
    "df['score:wmt16_sys_score_norm'] = [ float(i.strip()) for i in open('./wmt16_sys_norm_score', 'rt') ]\n",
    "df['score:wmt16_sys_score_annotators'] = [ float(i.strip()) for i in open('./wmt16_sys_annotators_score', 'rt') ]"
   ]
  },
  {
   "cell_type": "code",
   "execution_count": 16,
   "metadata": {},
   "outputs": [],
   "source": [
    "annotators_30 = [ float(i.strip()) for i in open('./wmt16_sys_annotators_score_30', 'rt') ]\n",
    "\n",
    "average_over = 5\n",
    "lam\n",
    "averaged_score = [ np.mean(annotators_30[i:i+average_over]) for i in range(0, len(annotators_30), 30)  ]\n",
    "df['score:wmt16_sys_score_annotators_5']  = averaged_score"
   ]
  },
  {
   "cell_type": "code",
   "execution_count": 26,
   "metadata": {},
   "outputs": [],
   "source": [
    "df['score:wmt16_sys_score_nonorm_postnorm'] = (df['score:wmt16_sys_score_nonorm'] - df['score:wmt16_sys_score_nonorm'].mean()) / df['score:wmt16_sys_score_nonorm'].std()"
   ]
  },
  {
   "cell_type": "markdown",
   "metadata": {},
   "source": [
    "### Evaluate"
   ]
  },
  {
   "cell_type": "code",
   "execution_count": 27,
   "metadata": {
    "scrolled": true
   },
   "outputs": [
    {
     "data": {
      "text/html": [
       "<div>\n",
       "<style scoped>\n",
       "    .dataframe tbody tr th:only-of-type {\n",
       "        vertical-align: middle;\n",
       "    }\n",
       "\n",
       "    .dataframe tbody tr th {\n",
       "        vertical-align: top;\n",
       "    }\n",
       "\n",
       "    .dataframe thead tr th {\n",
       "        text-align: left;\n",
       "    }\n",
       "</style>\n",
       "<table border=\"1\" class=\"dataframe\">\n",
       "  <thead>\n",
       "    <tr>\n",
       "      <th>lp</th>\n",
       "      <th>cs-en</th>\n",
       "      <th>de-en</th>\n",
       "      <th>fi-en</th>\n",
       "      <th>lv-en</th>\n",
       "      <th>ru-en</th>\n",
       "      <th>tr-en</th>\n",
       "      <th>zh-en</th>\n",
       "    </tr>\n",
       "    <tr>\n",
       "      <th></th>\n",
       "      <th>score</th>\n",
       "      <th>score</th>\n",
       "      <th>score</th>\n",
       "      <th>score</th>\n",
       "      <th>score</th>\n",
       "      <th>score</th>\n",
       "      <th>score</th>\n",
       "    </tr>\n",
       "  </thead>\n",
       "  <tbody>\n",
       "    <tr>\n",
       "      <th>score</th>\n",
       "      <td>1.000000</td>\n",
       "      <td>1.000000</td>\n",
       "      <td>1.000000</td>\n",
       "      <td>1.000000</td>\n",
       "      <td>1.000000</td>\n",
       "      <td>1.000000</td>\n",
       "      <td>1.000000</td>\n",
       "    </tr>\n",
       "    <tr>\n",
       "      <th>score:wmt16_seg_score</th>\n",
       "      <td>0.725746</td>\n",
       "      <td>0.746315</td>\n",
       "      <td>0.866960</td>\n",
       "      <td>0.811805</td>\n",
       "      <td>0.797504</td>\n",
       "      <td>0.797673</td>\n",
       "      <td>0.774295</td>\n",
       "    </tr>\n",
       "    <tr>\n",
       "      <th>score:wmt16_sys_score_nonorm</th>\n",
       "      <td>0.668307</td>\n",
       "      <td>0.682114</td>\n",
       "      <td>0.822099</td>\n",
       "      <td>0.784904</td>\n",
       "      <td>0.699685</td>\n",
       "      <td>0.756208</td>\n",
       "      <td>0.725322</td>\n",
       "    </tr>\n",
       "    <tr>\n",
       "      <th>score:wmt16_sys_score_norm</th>\n",
       "      <td>0.748234</td>\n",
       "      <td>0.781193</td>\n",
       "      <td>0.884388</td>\n",
       "      <td>0.832010</td>\n",
       "      <td>0.818631</td>\n",
       "      <td>0.833564</td>\n",
       "      <td>0.804027</td>\n",
       "    </tr>\n",
       "    <tr>\n",
       "      <th>score:wmt16_sys_score_annotators</th>\n",
       "      <td>0.741701</td>\n",
       "      <td>0.772890</td>\n",
       "      <td>0.879062</td>\n",
       "      <td>0.828708</td>\n",
       "      <td>0.813443</td>\n",
       "      <td>0.818809</td>\n",
       "      <td>0.784629</td>\n",
       "    </tr>\n",
       "    <tr>\n",
       "      <th>score:wmt16_sys_score_annotators_5</th>\n",
       "      <td>0.749547</td>\n",
       "      <td>0.775762</td>\n",
       "      <td>0.879770</td>\n",
       "      <td>0.830140</td>\n",
       "      <td>0.813326</td>\n",
       "      <td>0.820042</td>\n",
       "      <td>0.784548</td>\n",
       "    </tr>\n",
       "    <tr>\n",
       "      <th>score:wmt16_sys_score_annotators_10</th>\n",
       "      <td>0.749881</td>\n",
       "      <td>0.776138</td>\n",
       "      <td>0.879805</td>\n",
       "      <td>0.829955</td>\n",
       "      <td>0.813707</td>\n",
       "      <td>0.819852</td>\n",
       "      <td>0.784461</td>\n",
       "    </tr>\n",
       "    <tr>\n",
       "      <th>score:wmt16_sys_score_annotators_15</th>\n",
       "      <td>0.749388</td>\n",
       "      <td>0.776399</td>\n",
       "      <td>0.879598</td>\n",
       "      <td>0.829959</td>\n",
       "      <td>0.813858</td>\n",
       "      <td>0.819509</td>\n",
       "      <td>0.784389</td>\n",
       "    </tr>\n",
       "    <tr>\n",
       "      <th>score:wmt16_sys_score_annotators_30</th>\n",
       "      <td>0.749527</td>\n",
       "      <td>0.776495</td>\n",
       "      <td>0.879632</td>\n",
       "      <td>0.829954</td>\n",
       "      <td>0.813958</td>\n",
       "      <td>0.819550</td>\n",
       "      <td>0.784247</td>\n",
       "    </tr>\n",
       "    <tr>\n",
       "      <th>score:wmt16_sys_score_nonorm_postnorm</th>\n",
       "      <td>0.668307</td>\n",
       "      <td>0.682114</td>\n",
       "      <td>0.822099</td>\n",
       "      <td>0.784904</td>\n",
       "      <td>0.699685</td>\n",
       "      <td>0.756208</td>\n",
       "      <td>0.725322</td>\n",
       "    </tr>\n",
       "  </tbody>\n",
       "</table>\n",
       "</div>"
      ],
      "text/plain": [
       "lp                                        cs-en     de-en     fi-en     lv-en  \\\n",
       "                                          score     score     score     score   \n",
       "score                                  1.000000  1.000000  1.000000  1.000000   \n",
       "score:wmt16_seg_score                  0.725746  0.746315  0.866960  0.811805   \n",
       "score:wmt16_sys_score_nonorm           0.668307  0.682114  0.822099  0.784904   \n",
       "score:wmt16_sys_score_norm             0.748234  0.781193  0.884388  0.832010   \n",
       "score:wmt16_sys_score_annotators       0.741701  0.772890  0.879062  0.828708   \n",
       "score:wmt16_sys_score_annotators_5     0.749547  0.775762  0.879770  0.830140   \n",
       "score:wmt16_sys_score_annotators_10    0.749881  0.776138  0.879805  0.829955   \n",
       "score:wmt16_sys_score_annotators_15    0.749388  0.776399  0.879598  0.829959   \n",
       "score:wmt16_sys_score_annotators_30    0.749527  0.776495  0.879632  0.829954   \n",
       "score:wmt16_sys_score_nonorm_postnorm  0.668307  0.682114  0.822099  0.784904   \n",
       "\n",
       "lp                                        ru-en     tr-en     zh-en  \n",
       "                                          score     score     score  \n",
       "score                                  1.000000  1.000000  1.000000  \n",
       "score:wmt16_seg_score                  0.797504  0.797673  0.774295  \n",
       "score:wmt16_sys_score_nonorm           0.699685  0.756208  0.725322  \n",
       "score:wmt16_sys_score_norm             0.818631  0.833564  0.804027  \n",
       "score:wmt16_sys_score_annotators       0.813443  0.818809  0.784629  \n",
       "score:wmt16_sys_score_annotators_5     0.813326  0.820042  0.784548  \n",
       "score:wmt16_sys_score_annotators_10    0.813707  0.819852  0.784461  \n",
       "score:wmt16_sys_score_annotators_15    0.813858  0.819509  0.784389  \n",
       "score:wmt16_sys_score_annotators_30    0.813958  0.819550  0.784247  \n",
       "score:wmt16_sys_score_nonorm_postnorm  0.699685  0.756208  0.725322  "
      ]
     },
     "execution_count": 27,
     "metadata": {},
     "output_type": "execute_result"
    }
   ],
   "source": [
    "num_metrics = sum('score' in i for i in df.columns)\n",
    "df[['lp'] + [i for i in df.columns if 'score' in i]].groupby(['lp']).corr()[0::num_metrics].T"
   ]
  }
 ],
 "metadata": {
  "kernelspec": {
   "display_name": "Python 3",
   "language": "python",
   "name": "python3"
  },
  "language_info": {
   "codemirror_mode": {
    "name": "ipython",
    "version": 3
   },
   "file_extension": ".py",
   "mimetype": "text/x-python",
   "name": "python",
   "nbconvert_exporter": "python",
   "pygments_lexer": "ipython3",
   "version": "3.8.1"
  }
 },
 "nbformat": 4,
 "nbformat_minor": 4
}
