{
 "cells": [
  {
   "cell_type": "code",
   "execution_count": 14,
   "metadata": {},
   "outputs": [],
   "source": [
    "import pickle\n",
    "import pandas as pd\n",
    "import json\n",
    "from tqdm import tqdm\n",
    "import seaborn as sns\n",
    "sns.set()"
   ]
  },
  {
   "cell_type": "code",
   "execution_count": 4,
   "metadata": {},
   "outputs": [
    {
     "data": {
      "text/html": [
       "<div>\n",
       "<style scoped>\n",
       "    .dataframe tbody tr th:only-of-type {\n",
       "        vertical-align: middle;\n",
       "    }\n",
       "\n",
       "    .dataframe tbody tr th {\n",
       "        vertical-align: top;\n",
       "    }\n",
       "\n",
       "    .dataframe thead th {\n",
       "        text-align: right;\n",
       "    }\n",
       "</style>\n",
       "<table border=\"1\" class=\"dataframe\">\n",
       "  <thead>\n",
       "    <tr style=\"text-align: right;\">\n",
       "      <th></th>\n",
       "      <th>lp</th>\n",
       "      <th>HITId</th>\n",
       "      <th>WorkerId</th>\n",
       "      <th>score</th>\n",
       "      <th>time</th>\n",
       "      <th>system</th>\n",
       "      <th>type</th>\n",
       "      <th>sid</th>\n",
       "      <th>reference</th>\n",
       "      <th>source</th>\n",
       "      <th>output</th>\n",
       "    </tr>\n",
       "  </thead>\n",
       "  <tbody>\n",
       "    <tr>\n",
       "      <th>0</th>\n",
       "      <td>en-ru</td>\n",
       "      <td>3XJOUITW8URT45XA3297SQ9SRI6QT9</td>\n",
       "      <td>A0447</td>\n",
       "      <td>79</td>\n",
       "      <td>1661</td>\n",
       "      <td>PROMT-Rule-based</td>\n",
       "      <td>SYSTEM</td>\n",
       "      <td>52</td>\n",
       "      <td>В те годы он пользовался успехом у женщин.\\n</td>\n",
       "      <td>He was quite the heartthrob back then.\\n</td>\n",
       "      <td>Он был вполне сердцеедом тогда.\\n</td>\n",
       "    </tr>\n",
       "  </tbody>\n",
       "</table>\n",
       "</div>"
      ],
      "text/plain": [
       "      lp                           HITId WorkerId  score  time  \\\n",
       "0  en-ru  3XJOUITW8URT45XA3297SQ9SRI6QT9    A0447     79  1661   \n",
       "\n",
       "             system    type  sid  \\\n",
       "0  PROMT-Rule-based  SYSTEM   52   \n",
       "\n",
       "                                      reference  \\\n",
       "0  В те годы он пользовался успехом у женщин.\\n   \n",
       "\n",
       "                                     source                             output  \n",
       "0  He was quite the heartthrob back then.\\n  Он был вполне сердцеедом тогда.\\n  "
      ]
     },
     "execution_count": 4,
     "metadata": {},
     "output_type": "execute_result"
    }
   ],
   "source": [
    "wmt16_sys = pickle.load(open('../../wmt16_sys_metadata.pkl', 'rb'))\n",
    "wmt16_sys.head(1)"
   ]
  },
  {
   "cell_type": "code",
   "execution_count": 45,
   "metadata": {
    "scrolled": true
   },
   "outputs": [],
   "source": [
    "df = wmt16_sys[wmt16_sys.lp.str.endswith('en')].copy()"
   ]
  },
  {
   "cell_type": "markdown",
   "metadata": {},
   "source": [
    "### Export"
   ]
  },
  {
   "cell_type": "code",
   "execution_count": 42,
   "metadata": {},
   "outputs": [],
   "source": [
    "centering = {}\n",
    "\n",
    "for i, group in df.groupby('WorkerId', as_index=False):\n",
    "    mean = group.mean()['score']\n",
    "    std = group.std()['score']\n",
    "    centering[i] = (mean, std)"
   ]
  },
  {
   "cell_type": "code",
   "execution_count": 58,
   "metadata": {},
   "outputs": [
    {
     "data": {
      "text/html": [
       "<div>\n",
       "<style scoped>\n",
       "    .dataframe tbody tr th:only-of-type {\n",
       "        vertical-align: middle;\n",
       "    }\n",
       "\n",
       "    .dataframe tbody tr th {\n",
       "        vertical-align: top;\n",
       "    }\n",
       "\n",
       "    .dataframe thead th {\n",
       "        text-align: right;\n",
       "    }\n",
       "</style>\n",
       "<table border=\"1\" class=\"dataframe\">\n",
       "  <thead>\n",
       "    <tr style=\"text-align: right;\">\n",
       "      <th></th>\n",
       "      <th>lp</th>\n",
       "      <th>HITId</th>\n",
       "      <th>WorkerId</th>\n",
       "      <th>score</th>\n",
       "      <th>time</th>\n",
       "      <th>system</th>\n",
       "      <th>type</th>\n",
       "      <th>sid</th>\n",
       "      <th>reference</th>\n",
       "      <th>source</th>\n",
       "      <th>output</th>\n",
       "      <th>norm_score</th>\n",
       "    </tr>\n",
       "  </thead>\n",
       "  <tbody>\n",
       "    <tr>\n",
       "      <th>12300</th>\n",
       "      <td>de-en</td>\n",
       "      <td>3QQUBC64ZEEFIPT2SKINDZZTZ3SNXN</td>\n",
       "      <td>A0077</td>\n",
       "      <td>100</td>\n",
       "      <td>2052</td>\n",
       "      <td>online-A</td>\n",
       "      <td>REF</td>\n",
       "      <td>241</td>\n",
       "      <td>This would allow for appeals to be made agains...</td>\n",
       "      <td>Sie würde es erlauben, gegen Urteile Einspruch...</td>\n",
       "      <td>It would allow it to appeal against judgments.\\n</td>\n",
       "      <td>0.84735</td>\n",
       "    </tr>\n",
       "  </tbody>\n",
       "</table>\n",
       "</div>"
      ],
      "text/plain": [
       "          lp                           HITId WorkerId  score  time    system  \\\n",
       "12300  de-en  3QQUBC64ZEEFIPT2SKINDZZTZ3SNXN    A0077    100  2052  online-A   \n",
       "\n",
       "      type  sid                                          reference  \\\n",
       "12300  REF  241  This would allow for appeals to be made agains...   \n",
       "\n",
       "                                                  source  \\\n",
       "12300  Sie würde es erlauben, gegen Urteile Einspruch...   \n",
       "\n",
       "                                                 output  norm_score  \n",
       "12300  It would allow it to appeal against judgments.\\n     0.84735  "
      ]
     },
     "execution_count": 58,
     "metadata": {},
     "output_type": "execute_result"
    }
   ],
   "source": [
    "df['norm_score'] = df.apply(lambda x: (x['score'] - centering[x['WorkerId']][0]) / centering[x['WorkerId']][1] , axis=1)\n",
    "df.head(1)"
   ]
  },
  {
   "cell_type": "code",
   "execution_count": 52,
   "metadata": {},
   "outputs": [],
   "source": [
    "shuf_df = df.sample(len(df), random_state=119)\n",
    "print(len(df))"
   ]
  },
  {
   "cell_type": "code",
   "execution_count": 57,
   "metadata": {},
   "outputs": [
    {
     "name": "stderr",
     "output_type": "stream",
     "text": [
      " 80%|████████  | 152080/190100 [00:28<00:07, 5318.94it/s]\n"
     ]
    }
   ],
   "source": [
    "split = int(len(df) * 0.8)\n",
    "fh = open('./train.jsonl', 'wt')\n",
    "\n",
    "for i, row in tqdm(shuf_df[:split].iterrows(), total=split):\n",
    "    ex = {}\n",
    "    ex['candidate'] = row['output']\n",
    "    ex['reference'] = row['reference']\n",
    "    ex['score'] = row['norm_score']\n",
    "    \n",
    "    fh.write(json.dumps(ex, ensure_ascii=False) + '\\n')\n",
    "\n",
    "fh = open('./valid.jsonl', 'wt')\n",
    "for i, row in tqdm(shuf_df[:split].iterrows(), total=split):\n",
    "    ex = {}\n",
    "    ex['candidate'] = row['output']\n",
    "    ex['reference'] = row['reference']\n",
    "    ex['score'] = row['norm_score']\n",
    "    \n",
    "    fh.write(json.dumps(ex, ensure_ascii=False) + '\\n')"
   ]
  }
 ],
 "metadata": {
  "kernelspec": {
   "display_name": "Python 3",
   "language": "python",
   "name": "python3"
  },
  "language_info": {
   "codemirror_mode": {
    "name": "ipython",
    "version": 3
   },
   "file_extension": ".py",
   "mimetype": "text/x-python",
   "name": "python",
   "nbconvert_exporter": "python",
   "pygments_lexer": "ipython3",
   "version": "3.8.1"
  }
 },
 "nbformat": 4,
 "nbformat_minor": 4
}
