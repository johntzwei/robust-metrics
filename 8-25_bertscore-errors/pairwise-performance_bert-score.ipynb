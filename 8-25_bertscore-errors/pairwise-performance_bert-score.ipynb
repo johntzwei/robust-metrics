{
 "cells": [
  {
   "cell_type": "code",
   "execution_count": 11,
   "metadata": {},
   "outputs": [],
   "source": [
    "import pickle\n",
    "import pandas as pd\n",
    "import seaborn as sns\n",
    "import numpy as np\n",
    "import itertools\n",
    "import random\n",
    "from tqdm import tqdm\n",
    "sns.set()\n",
    "import matplotlib.pyplot as plt"
   ]
  },
  {
   "cell_type": "markdown",
   "metadata": {},
   "source": [
    "# Data"
   ]
  },
  {
   "cell_type": "code",
   "execution_count": 12,
   "metadata": {},
   "outputs": [
    {
     "data": {
      "text/html": [
       "<div>\n",
       "<style scoped>\n",
       "    .dataframe tbody tr th:only-of-type {\n",
       "        vertical-align: middle;\n",
       "    }\n",
       "\n",
       "    .dataframe tbody tr th {\n",
       "        vertical-align: top;\n",
       "    }\n",
       "\n",
       "    .dataframe thead th {\n",
       "        text-align: right;\n",
       "    }\n",
       "</style>\n",
       "<table border=\"1\" class=\"dataframe\">\n",
       "  <thead>\n",
       "    <tr style=\"text-align: right;\">\n",
       "      <th></th>\n",
       "      <th>system</th>\n",
       "      <th>sid</th>\n",
       "      <th>raw_score</th>\n",
       "      <th>score</th>\n",
       "      <th>N</th>\n",
       "      <th>lp</th>\n",
       "      <th>reference</th>\n",
       "      <th>source</th>\n",
       "      <th>output</th>\n",
       "      <th>year</th>\n",
       "      <th>system_full</th>\n",
       "      <th>bert_score</th>\n",
       "    </tr>\n",
       "  </thead>\n",
       "  <tbody>\n",
       "    <tr>\n",
       "      <th>0</th>\n",
       "      <td>online-B</td>\n",
       "      <td>1673</td>\n",
       "      <td>63.0</td>\n",
       "      <td>-0.00167</td>\n",
       "      <td>2</td>\n",
       "      <td>cs-en</td>\n",
       "      <td>Ten statements by Albert Einstein that enriche...</td>\n",
       "      <td>Desatero výroků Alberta Einsteina, které oboha...</td>\n",
       "      <td>Ten Commandments statements of Albert Einstein...</td>\n",
       "      <td>2016</td>\n",
       "      <td>NaN</td>\n",
       "      <td>0.941577</td>\n",
       "    </tr>\n",
       "  </tbody>\n",
       "</table>\n",
       "</div>"
      ],
      "text/plain": [
       "     system   sid  raw_score    score  N     lp  \\\n",
       "0  online-B  1673       63.0 -0.00167  2  cs-en   \n",
       "\n",
       "                                           reference  \\\n",
       "0  Ten statements by Albert Einstein that enriche...   \n",
       "\n",
       "                                              source  \\\n",
       "0  Desatero výroků Alberta Einsteina, které oboha...   \n",
       "\n",
       "                                              output  year system_full  \\\n",
       "0  Ten Commandments statements of Albert Einstein...  2016         NaN   \n",
       "\n",
       "   bert_score  \n",
       "0    0.941577  "
      ]
     },
     "execution_count": 12,
     "metadata": {},
     "output_type": "execute_result"
    }
   ],
   "source": [
    "wmt_toen = pickle.load(open('../pickles/wmt_toen_bert_score.pkl', 'rb'))\n",
    "wmt_toen.head(1)"
   ]
  },
  {
   "cell_type": "markdown",
   "metadata": {},
   "source": [
    "# Validation"
   ]
  },
  {
   "cell_type": "markdown",
   "metadata": {},
   "source": [
    "Official BLEURT segment-level results:\n",
    "https://github.com/google-research/bleurt/blob/master/README.md#overview"
   ]
  },
  {
   "cell_type": "code",
   "execution_count": 13,
   "metadata": {},
   "outputs": [
    {
     "data": {
      "text/html": [
       "<div>\n",
       "<style scoped>\n",
       "    .dataframe tbody tr th:only-of-type {\n",
       "        vertical-align: middle;\n",
       "    }\n",
       "\n",
       "    .dataframe tbody tr th {\n",
       "        vertical-align: top;\n",
       "    }\n",
       "\n",
       "    .dataframe thead tr th {\n",
       "        text-align: left;\n",
       "    }\n",
       "</style>\n",
       "<table border=\"1\" class=\"dataframe\">\n",
       "  <thead>\n",
       "    <tr>\n",
       "      <th>lp</th>\n",
       "      <th>fi-en</th>\n",
       "      <th>gu-en</th>\n",
       "      <th>kk-en</th>\n",
       "      <th>lt-en</th>\n",
       "      <th>ru-en</th>\n",
       "    </tr>\n",
       "    <tr>\n",
       "      <th></th>\n",
       "      <th>score</th>\n",
       "      <th>score</th>\n",
       "      <th>score</th>\n",
       "      <th>score</th>\n",
       "      <th>score</th>\n",
       "    </tr>\n",
       "  </thead>\n",
       "  <tbody>\n",
       "    <tr>\n",
       "      <th>bert_score</th>\n",
       "      <td>0.285179</td>\n",
       "      <td>0.270268</td>\n",
       "      <td>0.367223</td>\n",
       "      <td>0.316569</td>\n",
       "      <td>0.256431</td>\n",
       "    </tr>\n",
       "  </tbody>\n",
       "</table>\n",
       "</div>"
      ],
      "text/plain": [
       "lp             fi-en     gu-en     kk-en     lt-en     ru-en\n",
       "               score     score     score     score     score\n",
       "bert_score  0.285179  0.270268  0.367223  0.316569  0.256431"
      ]
     },
     "execution_count": 13,
     "metadata": {},
     "output_type": "execute_result"
    }
   ],
   "source": [
    "wmt_toen[wmt_toen.year == 2019].groupby('lp')[['bert_score', 'score']].corr('kendall')[['bert_score']][1::2].T"
   ]
  },
  {
   "cell_type": "markdown",
   "metadata": {},
   "source": [
    "# Plots"
   ]
  },
  {
   "cell_type": "markdown",
   "metadata": {},
   "source": [
    "### Raw correlations"
   ]
  },
  {
   "cell_type": "markdown",
   "metadata": {},
   "source": [
    "##### Test set"
   ]
  },
  {
   "cell_type": "code",
   "execution_count": 14,
   "metadata": {
    "scrolled": true
   },
   "outputs": [
    {
     "data": {
      "image/png": "[encoded data removed]",
      "text/plain": [
       "<Figure size 576x576 with 9 Axes>"
      ]
     },
     "metadata": {},
     "output_type": "display_data"
    },
    {
     "data": {
      "image/png": "[encoded data removed]",
      "text/plain": [
       "<Figure size 576x576 with 9 Axes>"
      ]
     },
     "metadata": {},
     "output_type": "display_data"
    },
    {
     "data": {
      "image/png": "[encoded data removed]",
      "text/plain": [
       "<Figure size 576x576 with 9 Axes>"
      ]
     },
     "metadata": {},
     "output_type": "display_data"
    },
    {
     "data": {
      "image/png": "[encoded data removed]",
      "text/plain": [
       "<Figure size 576x576 with 9 Axes>"
      ]
     },
     "metadata": {},
     "output_type": "display_data"
    }
   ],
   "source": [
    "for year, group in wmt_toen.groupby('year'):\n",
    "    f, axes = plt.subplots(3, 3, figsize=(8,8), sharex=True, sharey=True)\n",
    "    toen = wmt_toen[wmt_toen.year == year]\n",
    "    f.suptitle(str(year))\n",
    "\n",
    "    for coord, (i, group) in zip(itertools.product([0,1,2], [0,1,2]), toen.groupby('lp')):\n",
    "        system_level = group.groupby('system').mean()\n",
    "        r = system_level.corr('pearson')['bert_score']['score']\n",
    "        tau = system_level.corr('kendall')['bert_score']['score']\n",
    "\n",
    "        ax = axes[coord]\n",
    "        ax.set_title(i)\n",
    "        ax.text(0.1, 0.9, '$r=%.3f$' % r, fontsize=12, transform=ax.transAxes)\n",
    "        ax.text(0.1, 0.8, '$\\\\tau=%.3f$' % tau, fontsize=12, transform=ax.transAxes)\n",
    "        sns.scatterplot(data=system_level, x='score', y='bert_score', ax=ax)"
   ]
  },
  {
   "cell_type": "markdown",
   "metadata": {},
   "source": [
    "# Pairwise judgments (pt. 1)"
   ]
  },
  {
   "cell_type": "markdown",
   "metadata": {},
   "source": [
    "### Considering statistical significance"
   ]
  },
  {
   "cell_type": "code",
   "execution_count": 20,
   "metadata": {},
   "outputs": [],
   "source": [
    "import multiprocessing\n",
    "pool = multiprocessing.Pool(8)\n",
    "\n",
    "def f(i):\n",
    "    subset, s1, s2, human_statistic, metric_statistic = i\n",
    "    \n",
    "    subset['labels'] = random.sample(subset['system'].tolist(), len(subset))\n",
    "    ra_scores = subset.groupby('labels').mean()\n",
    "    \n",
    "    return (np.abs(ra_scores['score'][s1] - ra_scores['score'][s2]) > np.abs(human_statistic), \\\n",
    "            np.abs(ra_scores['bert_score'][s1] - ra_scores['bert_score'][s2]) > np.abs(metric_statistic))"
   ]
  },
  {
   "cell_type": "code",
   "execution_count": 21,
   "metadata": {},
   "outputs": [
    {
     "name": "stderr",
     "output_type": "stream",
     "text": [
      "\r",
      "  0%|          | 0/15 [00:00<?, ?it/s]"
     ]
    },
    {
     "name": "stdout",
     "output_type": "stream",
     "text": [
      "2016 cs-en\n"
     ]
    },
    {
     "name": "stderr",
     "output_type": "stream",
     "text": [
      "100%|██████████| 15/15 [00:26<00:00,  1.79s/it]\n",
      "  0%|          | 0/45 [00:00<?, ?it/s]"
     ]
    },
    {
     "name": "stdout",
     "output_type": "stream",
     "text": [
      "2016 de-en\n"
     ]
    },
    {
     "name": "stderr",
     "output_type": "stream",
     "text": [
      "100%|██████████| 45/45 [01:26<00:00,  1.92s/it]\n",
      "  0%|          | 0/36 [00:00<?, ?it/s]"
     ]
    },
    {
     "name": "stdout",
     "output_type": "stream",
     "text": [
      "2016 fi-en\n"
     ]
    },
    {
     "name": "stderr",
     "output_type": "stream",
     "text": [
      "100%|██████████| 36/36 [01:08<00:00,  1.90s/it]\n",
      "  0%|          | 0/21 [00:00<?, ?it/s]"
     ]
    },
    {
     "name": "stdout",
     "output_type": "stream",
     "text": [
      "2016 ro-en\n"
     ]
    },
    {
     "name": "stderr",
     "output_type": "stream",
     "text": [
      "100%|██████████| 21/21 [00:32<00:00,  1.53s/it]\n",
      "  0%|          | 0/45 [00:00<?, ?it/s]"
     ]
    },
    {
     "name": "stdout",
     "output_type": "stream",
     "text": [
      "2016 ru-en\n"
     ]
    },
    {
     "name": "stderr",
     "output_type": "stream",
     "text": [
      "100%|██████████| 45/45 [01:27<00:00,  1.95s/it]\n",
      "  0%|          | 0/36 [00:00<?, ?it/s]"
     ]
    },
    {
     "name": "stdout",
     "output_type": "stream",
     "text": [
      "2016 tr-en\n"
     ]
    },
    {
     "name": "stderr",
     "output_type": "stream",
     "text": [
      "100%|██████████| 36/36 [00:54<00:00,  1.50s/it]\n",
      "  0%|          | 0/6 [00:00<?, ?it/s]"
     ]
    },
    {
     "name": "stdout",
     "output_type": "stream",
     "text": [
      "2017 cs-en\n"
     ]
    },
    {
     "name": "stderr",
     "output_type": "stream",
     "text": [
      "100%|██████████| 6/6 [00:11<00:00,  1.99s/it]\n",
      "  0%|          | 0/55 [00:00<?, ?it/s]"
     ]
    },
    {
     "name": "stdout",
     "output_type": "stream",
     "text": [
      "2017 de-en\n"
     ]
    },
    {
     "name": "stderr",
     "output_type": "stream",
     "text": [
      "100%|██████████| 55/55 [01:32<00:00,  1.68s/it]\n",
      "  0%|          | 0/15 [00:00<?, ?it/s]"
     ]
    },
    {
     "name": "stdout",
     "output_type": "stream",
     "text": [
      "2017 fi-en\n"
     ]
    },
    {
     "name": "stderr",
     "output_type": "stream",
     "text": [
      "100%|██████████| 15/15 [00:27<00:00,  1.84s/it]\n",
      "  0%|          | 0/36 [00:00<?, ?it/s]"
     ]
    },
    {
     "name": "stdout",
     "output_type": "stream",
     "text": [
      "2017 lv-en\n"
     ]
    },
    {
     "name": "stderr",
     "output_type": "stream",
     "text": [
      "100%|██████████| 36/36 [00:55<00:00,  1.55s/it]\n",
      "  0%|          | 0/36 [00:00<?, ?it/s]"
     ]
    },
    {
     "name": "stdout",
     "output_type": "stream",
     "text": [
      "2017 ru-en\n"
     ]
    },
    {
     "name": "stderr",
     "output_type": "stream",
     "text": [
      "100%|██████████| 36/36 [01:01<00:00,  1.70s/it]\n",
      "  0%|          | 0/45 [00:00<?, ?it/s]"
     ]
    },
    {
     "name": "stdout",
     "output_type": "stream",
     "text": [
      "2017 tr-en\n"
     ]
    },
    {
     "name": "stderr",
     "output_type": "stream",
     "text": [
      "100%|██████████| 45/45 [01:10<00:00,  1.56s/it]\n",
      "  0%|          | 0/120 [00:00<?, ?it/s]"
     ]
    },
    {
     "name": "stdout",
     "output_type": "stream",
     "text": [
      "2017 zh-en\n"
     ]
    },
    {
     "name": "stderr",
     "output_type": "stream",
     "text": [
      "100%|██████████| 120/120 [03:01<00:00,  1.51s/it]\n",
      "  0%|          | 0/10 [00:00<?, ?it/s]"
     ]
    },
    {
     "name": "stdout",
     "output_type": "stream",
     "text": [
      "2018 cs-en\n"
     ]
    },
    {
     "name": "stderr",
     "output_type": "stream",
     "text": [
      "100%|██████████| 10/10 [00:15<00:00,  1.51s/it]\n",
      "  0%|          | 0/120 [00:00<?, ?it/s]"
     ]
    },
    {
     "name": "stdout",
     "output_type": "stream",
     "text": [
      "2018 de-en\n"
     ]
    },
    {
     "name": "stderr",
     "output_type": "stream",
     "text": [
      "100%|██████████| 120/120 [03:16<00:00,  1.63s/it]\n",
      "  0%|          | 0/91 [00:00<?, ?it/s]"
     ]
    },
    {
     "name": "stdout",
     "output_type": "stream",
     "text": [
      "2018 et-en\n"
     ]
    },
    {
     "name": "stderr",
     "output_type": "stream",
     "text": [
      "100%|██████████| 91/91 [02:09<00:00,  1.42s/it]\n",
      "  0%|          | 0/36 [00:00<?, ?it/s]"
     ]
    },
    {
     "name": "stdout",
     "output_type": "stream",
     "text": [
      "2018 fi-en\n"
     ]
    },
    {
     "name": "stderr",
     "output_type": "stream",
     "text": [
      "100%|██████████| 36/36 [00:54<00:00,  1.50s/it]\n",
      "  0%|          | 0/28 [00:00<?, ?it/s]"
     ]
    },
    {
     "name": "stdout",
     "output_type": "stream",
     "text": [
      "2018 ru-en\n"
     ]
    },
    {
     "name": "stderr",
     "output_type": "stream",
     "text": [
      "100%|██████████| 28/28 [00:42<00:00,  1.51s/it]\n",
      "  0%|          | 0/10 [00:00<?, ?it/s]"
     ]
    },
    {
     "name": "stdout",
     "output_type": "stream",
     "text": [
      "2018 tr-en\n"
     ]
    },
    {
     "name": "stderr",
     "output_type": "stream",
     "text": [
      "100%|██████████| 10/10 [00:18<00:00,  1.86s/it]\n",
      "  0%|          | 0/91 [00:00<?, ?it/s]"
     ]
    },
    {
     "name": "stdout",
     "output_type": "stream",
     "text": [
      "2018 zh-en\n"
     ]
    },
    {
     "name": "stderr",
     "output_type": "stream",
     "text": [
      "100%|██████████| 91/91 [02:25<00:00,  1.60s/it]\n",
      "  0%|          | 0/66 [00:00<?, ?it/s]"
     ]
    },
    {
     "name": "stdout",
     "output_type": "stream",
     "text": [
      "2019 fi-en\n"
     ]
    },
    {
     "name": "stderr",
     "output_type": "stream",
     "text": [
      "100%|██████████| 66/66 [01:32<00:00,  1.40s/it]\n",
      "  0%|          | 0/55 [00:00<?, ?it/s]"
     ]
    },
    {
     "name": "stdout",
     "output_type": "stream",
     "text": [
      "2019 gu-en\n"
     ]
    },
    {
     "name": "stderr",
     "output_type": "stream",
     "text": [
      "100%|██████████| 55/55 [01:03<00:00,  1.16s/it]\n",
      "  0%|          | 0/55 [00:00<?, ?it/s]"
     ]
    },
    {
     "name": "stdout",
     "output_type": "stream",
     "text": [
      "2019 kk-en\n"
     ]
    },
    {
     "name": "stderr",
     "output_type": "stream",
     "text": [
      "100%|██████████| 55/55 [01:03<00:00,  1.16s/it]\n",
      "  0%|          | 0/55 [00:00<?, ?it/s]"
     ]
    },
    {
     "name": "stdout",
     "output_type": "stream",
     "text": [
      "2019 lt-en\n"
     ]
    },
    {
     "name": "stderr",
     "output_type": "stream",
     "text": [
      "100%|██████████| 55/55 [01:03<00:00,  1.16s/it]\n",
      "  0%|          | 0/91 [00:00<?, ?it/s]"
     ]
    },
    {
     "name": "stdout",
     "output_type": "stream",
     "text": [
      "2019 ru-en\n"
     ]
    },
    {
     "name": "stderr",
     "output_type": "stream",
     "text": [
      "100%|██████████| 91/91 [02:13<00:00,  1.47s/it]\n"
     ]
    }
   ],
   "source": [
    "trials = 1000\n",
    "randomized_approx = []\n",
    "\n",
    "for (year, lp), group in wmt_toen.groupby(['year', 'lp']):\n",
    "    print(year, lp)\n",
    "    \n",
    "    systems = list(group.system.unique())\n",
    "    pairs = list(itertools.combinations(systems, 2))\n",
    "    \n",
    "    for s1, s2 in tqdm(pairs, total=len(pairs)):\n",
    "        if s1 == s2:\n",
    "            continue\n",
    "            \n",
    "        subset = group[(group.system == s1) | (group.system == s2)].copy()\n",
    "        scores = subset.groupby('system').mean()\n",
    "        \n",
    "        if scores['score'][s2] > scores['score'][s1]:\n",
    "            # switch\n",
    "            temp = s1\n",
    "            s1 = s2\n",
    "            s2 = temp\n",
    "            \n",
    "        human_statistic = scores['score'][s1] - scores['score'][s2]\n",
    "        metric_statistic = scores['bert_score'][s1] - scores['bert_score'][s2]\n",
    "        \n",
    "        # pooled randomized approximation\n",
    "        results = pool.map(f, [(subset, s1, s2, human_statistic, metric_statistic)] * trials)\n",
    "        human_c, metric_c = sum(i[0] for i in results), sum(i[1] for i in results)\n",
    "        \n",
    "        randomized_approx.append((year, lp, s1, s2, human_statistic, metric_statistic, human_c, metric_c))"
   ]
  },
  {
   "cell_type": "code",
   "execution_count": 26,
   "metadata": {},
   "outputs": [
    {
     "ename": "ValueError",
     "evalue": "Length mismatch: Expected axis has 12 elements, new values have 8 elements",
     "output_type": "error",
     "traceback": [
      "\u001b[0;31m---------------------------------------------------------------------------\u001b[0m",
      "\u001b[0;31mValueError\u001b[0m                                Traceback (most recent call last)",
      "\u001b[0;32m<ipython-input-26-35978a660e13>\u001b[0m in \u001b[0;36m<module>\u001b[0;34m\u001b[0m\n\u001b[1;32m      1\u001b[0m \u001b[0mrandomized_approx\u001b[0m \u001b[0;34m=\u001b[0m \u001b[0mpd\u001b[0m\u001b[0;34m.\u001b[0m\u001b[0mDataFrame\u001b[0m\u001b[0;34m(\u001b[0m\u001b[0mrandomized_approx\u001b[0m\u001b[0;34m)\u001b[0m\u001b[0;34m\u001b[0m\u001b[0;34m\u001b[0m\u001b[0m\n\u001b[0;32m----> 2\u001b[0;31m \u001b[0mrandomized_approx\u001b[0m\u001b[0;34m.\u001b[0m\u001b[0mcolumns\u001b[0m \u001b[0;34m=\u001b[0m \u001b[0;34m[\u001b[0m\u001b[0;34m'year'\u001b[0m\u001b[0;34m,\u001b[0m \u001b[0;34m'lp'\u001b[0m\u001b[0;34m,\u001b[0m \u001b[0;34m's1'\u001b[0m\u001b[0;34m,\u001b[0m \u001b[0;34m's2'\u001b[0m\u001b[0;34m,\u001b[0m \u001b[0;34m'human_statistic'\u001b[0m\u001b[0;34m,\u001b[0m \u001b[0;34m'metric_statistic'\u001b[0m\u001b[0;34m,\u001b[0m \u001b[0;34m'human_c'\u001b[0m\u001b[0;34m,\u001b[0m \u001b[0;34m'metric_c'\u001b[0m\u001b[0;34m]\u001b[0m\u001b[0;34m\u001b[0m\u001b[0;34m\u001b[0m\u001b[0m\n\u001b[0m",
      "\u001b[0;32m~/anaconda3/envs/notebook/lib/python3.8/site-packages/pandas/core/generic.py\u001b[0m in \u001b[0;36m__setattr__\u001b[0;34m(self, name, value)\u001b[0m\n\u001b[1;32m   5285\u001b[0m         \u001b[0;32mtry\u001b[0m\u001b[0;34m:\u001b[0m\u001b[0;34m\u001b[0m\u001b[0;34m\u001b[0m\u001b[0m\n\u001b[1;32m   5286\u001b[0m             \u001b[0mobject\u001b[0m\u001b[0;34m.\u001b[0m\u001b[0m__getattribute__\u001b[0m\u001b[0;34m(\u001b[0m\u001b[0mself\u001b[0m\u001b[0;34m,\u001b[0m \u001b[0mname\u001b[0m\u001b[0;34m)\u001b[0m\u001b[0;34m\u001b[0m\u001b[0;34m\u001b[0m\u001b[0m\n\u001b[0;32m-> 5287\u001b[0;31m             \u001b[0;32mreturn\u001b[0m \u001b[0mobject\u001b[0m\u001b[0;34m.\u001b[0m\u001b[0m__setattr__\u001b[0m\u001b[0;34m(\u001b[0m\u001b[0mself\u001b[0m\u001b[0;34m,\u001b[0m \u001b[0mname\u001b[0m\u001b[0;34m,\u001b[0m \u001b[0mvalue\u001b[0m\u001b[0;34m)\u001b[0m\u001b[0;34m\u001b[0m\u001b[0;34m\u001b[0m\u001b[0m\n\u001b[0m\u001b[1;32m   5288\u001b[0m         \u001b[0;32mexcept\u001b[0m \u001b[0mAttributeError\u001b[0m\u001b[0;34m:\u001b[0m\u001b[0;34m\u001b[0m\u001b[0;34m\u001b[0m\u001b[0m\n\u001b[1;32m   5289\u001b[0m             \u001b[0;32mpass\u001b[0m\u001b[0;34m\u001b[0m\u001b[0;34m\u001b[0m\u001b[0m\n",
      "\u001b[0;32mpandas/_libs/properties.pyx\u001b[0m in \u001b[0;36mpandas._libs.properties.AxisProperty.__set__\u001b[0;34m()\u001b[0m\n",
      "\u001b[0;32m~/anaconda3/envs/notebook/lib/python3.8/site-packages/pandas/core/generic.py\u001b[0m in \u001b[0;36m_set_axis\u001b[0;34m(self, axis, labels)\u001b[0m\n\u001b[1;32m    659\u001b[0m \u001b[0;34m\u001b[0m\u001b[0m\n\u001b[1;32m    660\u001b[0m     \u001b[0;32mdef\u001b[0m \u001b[0m_set_axis\u001b[0m\u001b[0;34m(\u001b[0m\u001b[0mself\u001b[0m\u001b[0;34m,\u001b[0m \u001b[0maxis\u001b[0m\u001b[0;34m,\u001b[0m \u001b[0mlabels\u001b[0m\u001b[0;34m)\u001b[0m \u001b[0;34m->\u001b[0m \u001b[0;32mNone\u001b[0m\u001b[0;34m:\u001b[0m\u001b[0;34m\u001b[0m\u001b[0;34m\u001b[0m\u001b[0m\n\u001b[0;32m--> 661\u001b[0;31m         \u001b[0mself\u001b[0m\u001b[0;34m.\u001b[0m\u001b[0m_data\u001b[0m\u001b[0;34m.\u001b[0m\u001b[0mset_axis\u001b[0m\u001b[0;34m(\u001b[0m\u001b[0maxis\u001b[0m\u001b[0;34m,\u001b[0m \u001b[0mlabels\u001b[0m\u001b[0;34m)\u001b[0m\u001b[0;34m\u001b[0m\u001b[0;34m\u001b[0m\u001b[0m\n\u001b[0m\u001b[1;32m    662\u001b[0m         \u001b[0mself\u001b[0m\u001b[0;34m.\u001b[0m\u001b[0m_clear_item_cache\u001b[0m\u001b[0;34m(\u001b[0m\u001b[0;34m)\u001b[0m\u001b[0;34m\u001b[0m\u001b[0;34m\u001b[0m\u001b[0m\n\u001b[1;32m    663\u001b[0m \u001b[0;34m\u001b[0m\u001b[0m\n",
      "\u001b[0;32m~/anaconda3/envs/notebook/lib/python3.8/site-packages/pandas/core/internals/managers.py\u001b[0m in \u001b[0;36mset_axis\u001b[0;34m(self, axis, new_labels)\u001b[0m\n\u001b[1;32m    175\u001b[0m \u001b[0;34m\u001b[0m\u001b[0m\n\u001b[1;32m    176\u001b[0m         \u001b[0;32mif\u001b[0m \u001b[0mnew_len\u001b[0m \u001b[0;34m!=\u001b[0m \u001b[0mold_len\u001b[0m\u001b[0;34m:\u001b[0m\u001b[0;34m\u001b[0m\u001b[0;34m\u001b[0m\u001b[0m\n\u001b[0;32m--> 177\u001b[0;31m             raise ValueError(\n\u001b[0m\u001b[1;32m    178\u001b[0m                 \u001b[0;34mf\"Length mismatch: Expected axis has {old_len} elements, new \"\u001b[0m\u001b[0;34m\u001b[0m\u001b[0;34m\u001b[0m\u001b[0m\n\u001b[1;32m    179\u001b[0m                 \u001b[0;34mf\"values have {new_len} elements\"\u001b[0m\u001b[0;34m\u001b[0m\u001b[0;34m\u001b[0m\u001b[0m\n",
      "\u001b[0;31mValueError\u001b[0m: Length mismatch: Expected axis has 12 elements, new values have 8 elements"
     ]
    }
   ],
   "source": [
    "randomized_approx = pd.DataFrame(randomized_approx)\n",
    "randomized_approx.columns = ['year', 'lp', 's1', 's2', 'human_statistic', 'metric_statistic', 'human_c', 'metric_c']"
   ]
  },
  {
   "cell_type": "code",
   "execution_count": 29,
   "metadata": {},
   "outputs": [
    {
     "data": {
      "text/html": [
       "<div>\n",
       "<style scoped>\n",
       "    .dataframe tbody tr th:only-of-type {\n",
       "        vertical-align: middle;\n",
       "    }\n",
       "\n",
       "    .dataframe tbody tr th {\n",
       "        vertical-align: top;\n",
       "    }\n",
       "\n",
       "    .dataframe thead th {\n",
       "        text-align: right;\n",
       "    }\n",
       "</style>\n",
       "<table border=\"1\" class=\"dataframe\">\n",
       "  <thead>\n",
       "    <tr style=\"text-align: right;\">\n",
       "      <th></th>\n",
       "      <th>year</th>\n",
       "      <th>lp</th>\n",
       "      <th>s1</th>\n",
       "      <th>s2</th>\n",
       "      <th>human_statistic</th>\n",
       "      <th>metric_statistic</th>\n",
       "      <th>human_c</th>\n",
       "      <th>metric_c</th>\n",
       "      <th>human_sig</th>\n",
       "      <th>metric_sig</th>\n",
       "      <th>human_decision</th>\n",
       "      <th>metric_decision</th>\n",
       "    </tr>\n",
       "  </thead>\n",
       "  <tbody>\n",
       "    <tr>\n",
       "      <th>11</th>\n",
       "      <td>2016</td>\n",
       "      <td>cs-en</td>\n",
       "      <td>online-A</td>\n",
       "      <td>PJATK</td>\n",
       "      <td>0.024639</td>\n",
       "      <td>-0.002010</td>\n",
       "      <td>312</td>\n",
       "      <td>32</td>\n",
       "      <td>False</td>\n",
       "      <td>True</td>\n",
       "      <td>NS</td>\n",
       "      <td>loss</td>\n",
       "    </tr>\n",
       "    <tr>\n",
       "      <th>21</th>\n",
       "      <td>2016</td>\n",
       "      <td>de-en</td>\n",
       "      <td>jhu-pbmt</td>\n",
       "      <td>online-G</td>\n",
       "      <td>0.010159</td>\n",
       "      <td>0.002728</td>\n",
       "      <td>675</td>\n",
       "      <td>0</td>\n",
       "      <td>False</td>\n",
       "      <td>True</td>\n",
       "      <td>NS</td>\n",
       "      <td>gain</td>\n",
       "    </tr>\n",
       "    <tr>\n",
       "      <th>29</th>\n",
       "      <td>2016</td>\n",
       "      <td>de-en</td>\n",
       "      <td>uedin-pbmt</td>\n",
       "      <td>jhu-pbmt</td>\n",
       "      <td>0.022356</td>\n",
       "      <td>0.000877</td>\n",
       "      <td>358</td>\n",
       "      <td>259</td>\n",
       "      <td>False</td>\n",
       "      <td>False</td>\n",
       "      <td>NS</td>\n",
       "      <td>NS</td>\n",
       "    </tr>\n",
       "    <tr>\n",
       "      <th>30</th>\n",
       "      <td>2016</td>\n",
       "      <td>de-en</td>\n",
       "      <td>uedin-syntax</td>\n",
       "      <td>uedin-pbmt</td>\n",
       "      <td>0.023633</td>\n",
       "      <td>0.000835</td>\n",
       "      <td>317</td>\n",
       "      <td>285</td>\n",
       "      <td>False</td>\n",
       "      <td>False</td>\n",
       "      <td>NS</td>\n",
       "      <td>NS</td>\n",
       "    </tr>\n",
       "    <tr>\n",
       "      <th>31</th>\n",
       "      <td>2016</td>\n",
       "      <td>de-en</td>\n",
       "      <td>KIT</td>\n",
       "      <td>uedin-pbmt</td>\n",
       "      <td>0.020672</td>\n",
       "      <td>0.001372</td>\n",
       "      <td>358</td>\n",
       "      <td>66</td>\n",
       "      <td>False</td>\n",
       "      <td>False</td>\n",
       "      <td>NS</td>\n",
       "      <td>NS</td>\n",
       "    </tr>\n",
       "  </tbody>\n",
       "</table>\n",
       "</div>"
      ],
      "text/plain": [
       "    year     lp            s1          s2  human_statistic  metric_statistic  \\\n",
       "11  2016  cs-en      online-A       PJATK         0.024639         -0.002010   \n",
       "21  2016  de-en      jhu-pbmt    online-G         0.010159          0.002728   \n",
       "29  2016  de-en    uedin-pbmt    jhu-pbmt         0.022356          0.000877   \n",
       "30  2016  de-en  uedin-syntax  uedin-pbmt         0.023633          0.000835   \n",
       "31  2016  de-en           KIT  uedin-pbmt         0.020672          0.001372   \n",
       "\n",
       "    human_c  metric_c  human_sig  metric_sig human_decision metric_decision  \n",
       "11      312        32      False        True             NS            loss  \n",
       "21      675         0      False        True             NS            gain  \n",
       "29      358       259      False       False             NS              NS  \n",
       "30      317       285      False       False             NS              NS  \n",
       "31      358        66      False       False             NS              NS  "
      ]
     },
     "execution_count": 29,
     "metadata": {},
     "output_type": "execute_result"
    }
   ],
   "source": [
    "alpha = 0.05\n",
    "randomized_approx['human_sig'] = randomized_approx.human_c / trials < alpha\n",
    "randomized_approx['metric_sig'] = randomized_approx.metric_c / trials < alpha\n",
    "\n",
    "def f(row, s = 'human'):\n",
    "    if row['%s_sig' % s]:\n",
    "        if row['%s_statistic' % s] > 0:\n",
    "            return 'gain'\n",
    "        else:\n",
    "            return 'loss'\n",
    "    else:\n",
    "        return 'NS'\n",
    "\n",
    "randomized_approx['human_decision'] = randomized_approx.apply(lambda x: f(x, s='human'), axis=1)\n",
    "randomized_approx['metric_decision'] = randomized_approx.apply(lambda x: f(x, s='metric'), axis=1)\n",
    "\n",
    "randomized_approx[randomized_approx.human_c > 300].head(5)"
   ]
  },
  {
   "cell_type": "markdown",
   "metadata": {},
   "source": [
    "##### Test set"
   ]
  },
  {
   "cell_type": "code",
   "execution_count": 34,
   "metadata": {},
   "outputs": [],
   "source": [
    "# we have to be careful in saying NS = 0...\n",
    "ra = randomized_approx\n",
    "\n",
    "labels = ['loss', 'NS', 'gain']\n",
    "confusion = []\n",
    "for i in labels:\n",
    "    confusion.append([])\n",
    "    for j in labels:\n",
    "        count = len(ra[(ra.human_decision == i) & (ra.metric_decision == j)])\n",
    "        confusion[-1].append(count)\n",
    "confusion = np.array(confusion)\n",
    "\n",
    "heatmap = [ [confusion[0,0]+confusion[2,2], confusion[0,1]+confusion[0,2]+confusion[2,0]+confusion[2,1]], [confusion[1,1], confusion[1,0]+confusion[1,2]] ]"
   ]
  },
  {
   "cell_type": "code",
   "execution_count": 35,
   "metadata": {},
   "outputs": [
    {
     "data": {
      "text/plain": [
       "Text(30.5, 0.5, 'human')"
      ]
     },
     "execution_count": 35,
     "metadata": {},
     "output_type": "execute_result"
    },
    {
     "data": {
      "image/png": "[encoded data removed]",
      "text/plain": [
       "<Figure size 432x288 with 2 Axes>"
      ]
     },
     "metadata": {},
     "output_type": "display_data"
    }
   ],
   "source": [
    "xlabels = ['Agree', 'Disagree' ]\n",
    "ylabels = ['S', 'NS']\n",
    "sns.heatmap(heatmap, cmap=\"YlGnBu\", annot=True, fmt=\"d\", xticklabels=xlabels, yticklabels=ylabels)\n",
    "plt.title('2019')\n",
    "plt.xlabel('metric')\n",
    "plt.ylabel('human')"
   ]
  },
  {
   "cell_type": "markdown",
   "metadata": {},
   "source": [
    "### Save results"
   ]
  },
  {
   "cell_type": "code",
   "execution_count": 36,
   "metadata": {},
   "outputs": [],
   "source": [
    "pickle.dump(randomized_approx, open('../pickles/randomized_approx_bert_score.pkl', 'wb'))"
   ]
  },
  {
   "cell_type": "markdown",
   "metadata": {},
   "source": [
    "# Pairwise judgments (pt. 2)"
   ]
  },
  {
   "cell_type": "code",
   "execution_count": 37,
   "metadata": {},
   "outputs": [
    {
     "data": {
      "text/html": [
       "<div>\n",
       "<style scoped>\n",
       "    .dataframe tbody tr th:only-of-type {\n",
       "        vertical-align: middle;\n",
       "    }\n",
       "\n",
       "    .dataframe tbody tr th {\n",
       "        vertical-align: top;\n",
       "    }\n",
       "\n",
       "    .dataframe thead th {\n",
       "        text-align: right;\n",
       "    }\n",
       "</style>\n",
       "<table border=\"1\" class=\"dataframe\">\n",
       "  <thead>\n",
       "    <tr style=\"text-align: right;\">\n",
       "      <th></th>\n",
       "      <th>year</th>\n",
       "      <th>lp</th>\n",
       "      <th>s1</th>\n",
       "      <th>s2</th>\n",
       "      <th>human_statistic</th>\n",
       "      <th>metric_statistic</th>\n",
       "      <th>human_c</th>\n",
       "      <th>metric_c</th>\n",
       "      <th>human_sig</th>\n",
       "      <th>metric_sig</th>\n",
       "      <th>human_decision</th>\n",
       "      <th>metric_decision</th>\n",
       "    </tr>\n",
       "  </thead>\n",
       "  <tbody>\n",
       "    <tr>\n",
       "      <th>0</th>\n",
       "      <td>2016</td>\n",
       "      <td>cs-en</td>\n",
       "      <td>uedin-nmt</td>\n",
       "      <td>online-B</td>\n",
       "      <td>0.156420</td>\n",
       "      <td>0.007999</td>\n",
       "      <td>0</td>\n",
       "      <td>0</td>\n",
       "      <td>True</td>\n",
       "      <td>True</td>\n",
       "      <td>gain</td>\n",
       "      <td>gain</td>\n",
       "    </tr>\n",
       "    <tr>\n",
       "      <th>1</th>\n",
       "      <td>2016</td>\n",
       "      <td>cs-en</td>\n",
       "      <td>online-B</td>\n",
       "      <td>PJATK</td>\n",
       "      <td>0.075290</td>\n",
       "      <td>0.004032</td>\n",
       "      <td>1</td>\n",
       "      <td>0</td>\n",
       "      <td>True</td>\n",
       "      <td>True</td>\n",
       "      <td>gain</td>\n",
       "      <td>gain</td>\n",
       "    </tr>\n",
       "    <tr>\n",
       "      <th>2</th>\n",
       "      <td>2016</td>\n",
       "      <td>cs-en</td>\n",
       "      <td>jhu-pbmt</td>\n",
       "      <td>online-B</td>\n",
       "      <td>0.050666</td>\n",
       "      <td>0.002163</td>\n",
       "      <td>48</td>\n",
       "      <td>11</td>\n",
       "      <td>True</td>\n",
       "      <td>True</td>\n",
       "      <td>gain</td>\n",
       "      <td>gain</td>\n",
       "    </tr>\n",
       "    <tr>\n",
       "      <th>3</th>\n",
       "      <td>2016</td>\n",
       "      <td>cs-en</td>\n",
       "      <td>online-B</td>\n",
       "      <td>cu-mergedtrees</td>\n",
       "      <td>0.553814</td>\n",
       "      <td>0.035492</td>\n",
       "      <td>0</td>\n",
       "      <td>0</td>\n",
       "      <td>True</td>\n",
       "      <td>True</td>\n",
       "      <td>gain</td>\n",
       "      <td>gain</td>\n",
       "    </tr>\n",
       "    <tr>\n",
       "      <th>4</th>\n",
       "      <td>2016</td>\n",
       "      <td>cs-en</td>\n",
       "      <td>online-B</td>\n",
       "      <td>online-A</td>\n",
       "      <td>0.050652</td>\n",
       "      <td>0.006042</td>\n",
       "      <td>60</td>\n",
       "      <td>0</td>\n",
       "      <td>False</td>\n",
       "      <td>True</td>\n",
       "      <td>NS</td>\n",
       "      <td>gain</td>\n",
       "    </tr>\n",
       "    <tr>\n",
       "      <th>...</th>\n",
       "      <td>...</td>\n",
       "      <td>...</td>\n",
       "      <td>...</td>\n",
       "      <td>...</td>\n",
       "      <td>...</td>\n",
       "      <td>...</td>\n",
       "      <td>...</td>\n",
       "      <td>...</td>\n",
       "      <td>...</td>\n",
       "      <td>...</td>\n",
       "      <td>...</td>\n",
       "      <td>...</td>\n",
       "    </tr>\n",
       "    <tr>\n",
       "      <th>1214</th>\n",
       "      <td>2019</td>\n",
       "      <td>ru-en</td>\n",
       "      <td>online-B.0</td>\n",
       "      <td>NICT.6561</td>\n",
       "      <td>0.424304</td>\n",
       "      <td>0.040909</td>\n",
       "      <td>0</td>\n",
       "      <td>0</td>\n",
       "      <td>True</td>\n",
       "      <td>True</td>\n",
       "      <td>gain</td>\n",
       "      <td>gain</td>\n",
       "    </tr>\n",
       "    <tr>\n",
       "      <th>1215</th>\n",
       "      <td>2019</td>\n",
       "      <td>ru-en</td>\n",
       "      <td>Facebook-FAIR.6937</td>\n",
       "      <td>NICT.6561</td>\n",
       "      <td>0.459444</td>\n",
       "      <td>0.042225</td>\n",
       "      <td>0</td>\n",
       "      <td>0</td>\n",
       "      <td>True</td>\n",
       "      <td>True</td>\n",
       "      <td>gain</td>\n",
       "      <td>gain</td>\n",
       "    </tr>\n",
       "    <tr>\n",
       "      <th>1216</th>\n",
       "      <td>2019</td>\n",
       "      <td>ru-en</td>\n",
       "      <td>online-B.0</td>\n",
       "      <td>online-A.0</td>\n",
       "      <td>0.091999</td>\n",
       "      <td>0.009216</td>\n",
       "      <td>6</td>\n",
       "      <td>0</td>\n",
       "      <td>True</td>\n",
       "      <td>True</td>\n",
       "      <td>gain</td>\n",
       "      <td>gain</td>\n",
       "    </tr>\n",
       "    <tr>\n",
       "      <th>1217</th>\n",
       "      <td>2019</td>\n",
       "      <td>ru-en</td>\n",
       "      <td>Facebook-FAIR.6937</td>\n",
       "      <td>online-A.0</td>\n",
       "      <td>0.127139</td>\n",
       "      <td>0.010532</td>\n",
       "      <td>0</td>\n",
       "      <td>0</td>\n",
       "      <td>True</td>\n",
       "      <td>True</td>\n",
       "      <td>gain</td>\n",
       "      <td>gain</td>\n",
       "    </tr>\n",
       "    <tr>\n",
       "      <th>1218</th>\n",
       "      <td>2019</td>\n",
       "      <td>ru-en</td>\n",
       "      <td>Facebook-FAIR.6937</td>\n",
       "      <td>online-B.0</td>\n",
       "      <td>0.035140</td>\n",
       "      <td>0.001317</td>\n",
       "      <td>239</td>\n",
       "      <td>146</td>\n",
       "      <td>False</td>\n",
       "      <td>False</td>\n",
       "      <td>NS</td>\n",
       "      <td>NS</td>\n",
       "    </tr>\n",
       "  </tbody>\n",
       "</table>\n",
       "<p>1219 rows × 12 columns</p>\n",
       "</div>"
      ],
      "text/plain": [
       "      year     lp                  s1              s2  human_statistic  \\\n",
       "0     2016  cs-en           uedin-nmt        online-B         0.156420   \n",
       "1     2016  cs-en            online-B           PJATK         0.075290   \n",
       "2     2016  cs-en            jhu-pbmt        online-B         0.050666   \n",
       "3     2016  cs-en            online-B  cu-mergedtrees         0.553814   \n",
       "4     2016  cs-en            online-B        online-A         0.050652   \n",
       "...    ...    ...                 ...             ...              ...   \n",
       "1214  2019  ru-en          online-B.0       NICT.6561         0.424304   \n",
       "1215  2019  ru-en  Facebook-FAIR.6937       NICT.6561         0.459444   \n",
       "1216  2019  ru-en          online-B.0      online-A.0         0.091999   \n",
       "1217  2019  ru-en  Facebook-FAIR.6937      online-A.0         0.127139   \n",
       "1218  2019  ru-en  Facebook-FAIR.6937      online-B.0         0.035140   \n",
       "\n",
       "      metric_statistic  human_c  metric_c  human_sig  metric_sig  \\\n",
       "0             0.007999        0         0       True        True   \n",
       "1             0.004032        1         0       True        True   \n",
       "2             0.002163       48        11       True        True   \n",
       "3             0.035492        0         0       True        True   \n",
       "4             0.006042       60         0      False        True   \n",
       "...                ...      ...       ...        ...         ...   \n",
       "1214          0.040909        0         0       True        True   \n",
       "1215          0.042225        0         0       True        True   \n",
       "1216          0.009216        6         0       True        True   \n",
       "1217          0.010532        0         0       True        True   \n",
       "1218          0.001317      239       146      False       False   \n",
       "\n",
       "     human_decision metric_decision  \n",
       "0              gain            gain  \n",
       "1              gain            gain  \n",
       "2              gain            gain  \n",
       "3              gain            gain  \n",
       "4                NS            gain  \n",
       "...             ...             ...  \n",
       "1214           gain            gain  \n",
       "1215           gain            gain  \n",
       "1216           gain            gain  \n",
       "1217           gain            gain  \n",
       "1218             NS              NS  \n",
       "\n",
       "[1219 rows x 12 columns]"
      ]
     },
     "execution_count": 37,
     "metadata": {},
     "output_type": "execute_result"
    }
   ],
   "source": [
    "randomized_approx"
   ]
  },
  {
   "cell_type": "markdown",
   "metadata": {},
   "source": [
    "### Pairs where metrics disagree with significant human judgment (about 2-3%)"
   ]
  },
  {
   "cell_type": "code",
   "execution_count": 38,
   "metadata": {
    "scrolled": true
   },
   "outputs": [
    {
     "data": {
      "text/html": [
       "<div>\n",
       "<style scoped>\n",
       "    .dataframe tbody tr th:only-of-type {\n",
       "        vertical-align: middle;\n",
       "    }\n",
       "\n",
       "    .dataframe tbody tr th {\n",
       "        vertical-align: top;\n",
       "    }\n",
       "\n",
       "    .dataframe thead th {\n",
       "        text-align: right;\n",
       "    }\n",
       "</style>\n",
       "<table border=\"1\" class=\"dataframe\">\n",
       "  <thead>\n",
       "    <tr style=\"text-align: right;\">\n",
       "      <th></th>\n",
       "      <th>year</th>\n",
       "      <th>lp</th>\n",
       "      <th>s1</th>\n",
       "      <th>s2</th>\n",
       "      <th>human_statistic</th>\n",
       "      <th>metric_statistic</th>\n",
       "      <th>human_c</th>\n",
       "      <th>metric_c</th>\n",
       "      <th>human_sig</th>\n",
       "      <th>metric_sig</th>\n",
       "      <th>human_decision</th>\n",
       "      <th>metric_decision</th>\n",
       "    </tr>\n",
       "  </thead>\n",
       "  <tbody>\n",
       "    <tr>\n",
       "      <th>41</th>\n",
       "      <td>2016</td>\n",
       "      <td>de-en</td>\n",
       "      <td>online-F</td>\n",
       "      <td>jhu-syntax</td>\n",
       "      <td>0.057244</td>\n",
       "      <td>-0.001047</td>\n",
       "      <td>20</td>\n",
       "      <td>189</td>\n",
       "      <td>True</td>\n",
       "      <td>False</td>\n",
       "      <td>gain</td>\n",
       "      <td>NS</td>\n",
       "    </tr>\n",
       "    <tr>\n",
       "      <th>127</th>\n",
       "      <td>2016</td>\n",
       "      <td>ru-en</td>\n",
       "      <td>PROMT-Rule-based</td>\n",
       "      <td>AFRL-MITLL-Phrase</td>\n",
       "      <td>0.084057</td>\n",
       "      <td>-0.001139</td>\n",
       "      <td>1</td>\n",
       "      <td>112</td>\n",
       "      <td>True</td>\n",
       "      <td>False</td>\n",
       "      <td>gain</td>\n",
       "      <td>NS</td>\n",
       "    </tr>\n",
       "    <tr>\n",
       "      <th>134</th>\n",
       "      <td>2016</td>\n",
       "      <td>ru-en</td>\n",
       "      <td>PROMT-Rule-based</td>\n",
       "      <td>AFRL-MITLL-contrast</td>\n",
       "      <td>0.115501</td>\n",
       "      <td>0.000773</td>\n",
       "      <td>0</td>\n",
       "      <td>301</td>\n",
       "      <td>True</td>\n",
       "      <td>False</td>\n",
       "      <td>gain</td>\n",
       "      <td>NS</td>\n",
       "    </tr>\n",
       "    <tr>\n",
       "      <th>138</th>\n",
       "      <td>2016</td>\n",
       "      <td>ru-en</td>\n",
       "      <td>online-A</td>\n",
       "      <td>AFRL-MITLL-contrast</td>\n",
       "      <td>0.064525</td>\n",
       "      <td>0.000476</td>\n",
       "      <td>9</td>\n",
       "      <td>581</td>\n",
       "      <td>True</td>\n",
       "      <td>False</td>\n",
       "      <td>gain</td>\n",
       "      <td>NS</td>\n",
       "    </tr>\n",
       "    <tr>\n",
       "      <th>144</th>\n",
       "      <td>2016</td>\n",
       "      <td>ru-en</td>\n",
       "      <td>PROMT-Rule-based</td>\n",
       "      <td>online-A</td>\n",
       "      <td>0.050976</td>\n",
       "      <td>0.000296</td>\n",
       "      <td>16</td>\n",
       "      <td>674</td>\n",
       "      <td>True</td>\n",
       "      <td>False</td>\n",
       "      <td>gain</td>\n",
       "      <td>NS</td>\n",
       "    </tr>\n",
       "    <tr>\n",
       "      <th>150</th>\n",
       "      <td>2016</td>\n",
       "      <td>ru-en</td>\n",
       "      <td>online-B</td>\n",
       "      <td>uedin-nmt</td>\n",
       "      <td>0.072248</td>\n",
       "      <td>-0.000460</td>\n",
       "      <td>0</td>\n",
       "      <td>524</td>\n",
       "      <td>True</td>\n",
       "      <td>False</td>\n",
       "      <td>gain</td>\n",
       "      <td>NS</td>\n",
       "    </tr>\n",
       "    <tr>\n",
       "      <th>157</th>\n",
       "      <td>2016</td>\n",
       "      <td>ru-en</td>\n",
       "      <td>NRC</td>\n",
       "      <td>uedin-nmt</td>\n",
       "      <td>0.049014</td>\n",
       "      <td>-0.000269</td>\n",
       "      <td>26</td>\n",
       "      <td>705</td>\n",
       "      <td>True</td>\n",
       "      <td>False</td>\n",
       "      <td>gain</td>\n",
       "      <td>NS</td>\n",
       "    </tr>\n",
       "    <tr>\n",
       "      <th>161</th>\n",
       "      <td>2016</td>\n",
       "      <td>ru-en</td>\n",
       "      <td>AMU-UEDIN</td>\n",
       "      <td>uedin-nmt</td>\n",
       "      <td>0.092034</td>\n",
       "      <td>0.001265</td>\n",
       "      <td>1</td>\n",
       "      <td>92</td>\n",
       "      <td>True</td>\n",
       "      <td>False</td>\n",
       "      <td>gain</td>\n",
       "      <td>NS</td>\n",
       "    </tr>\n",
       "    <tr>\n",
       "      <th>231</th>\n",
       "      <td>2017</td>\n",
       "      <td>de-en</td>\n",
       "      <td>online-A</td>\n",
       "      <td>SYSTRAN</td>\n",
       "      <td>0.071037</td>\n",
       "      <td>0.000572</td>\n",
       "      <td>4</td>\n",
       "      <td>442</td>\n",
       "      <td>True</td>\n",
       "      <td>False</td>\n",
       "      <td>gain</td>\n",
       "      <td>NS</td>\n",
       "    </tr>\n",
       "    <tr>\n",
       "      <th>234</th>\n",
       "      <td>2017</td>\n",
       "      <td>de-en</td>\n",
       "      <td>KIT</td>\n",
       "      <td>SYSTRAN</td>\n",
       "      <td>0.067561</td>\n",
       "      <td>0.001513</td>\n",
       "      <td>4</td>\n",
       "      <td>53</td>\n",
       "      <td>True</td>\n",
       "      <td>False</td>\n",
       "      <td>gain</td>\n",
       "      <td>NS</td>\n",
       "    </tr>\n",
       "    <tr>\n",
       "      <th>249</th>\n",
       "      <td>2017</td>\n",
       "      <td>de-en</td>\n",
       "      <td>online-B</td>\n",
       "      <td>KIT</td>\n",
       "      <td>0.047385</td>\n",
       "      <td>0.000880</td>\n",
       "      <td>44</td>\n",
       "      <td>246</td>\n",
       "      <td>True</td>\n",
       "      <td>False</td>\n",
       "      <td>gain</td>\n",
       "      <td>NS</td>\n",
       "    </tr>\n",
       "    <tr>\n",
       "      <th>252</th>\n",
       "      <td>2017</td>\n",
       "      <td>de-en</td>\n",
       "      <td>online-B</td>\n",
       "      <td>uedin-nmt</td>\n",
       "      <td>0.050512</td>\n",
       "      <td>-0.000230</td>\n",
       "      <td>40</td>\n",
       "      <td>752</td>\n",
       "      <td>True</td>\n",
       "      <td>False</td>\n",
       "      <td>gain</td>\n",
       "      <td>NS</td>\n",
       "    </tr>\n",
       "    <tr>\n",
       "      <th>326</th>\n",
       "      <td>2017</td>\n",
       "      <td>ru-en</td>\n",
       "      <td>online-G</td>\n",
       "      <td>afrl-mitll-syscomb</td>\n",
       "      <td>0.108819</td>\n",
       "      <td>0.000272</td>\n",
       "      <td>0</td>\n",
       "      <td>723</td>\n",
       "      <td>True</td>\n",
       "      <td>False</td>\n",
       "      <td>gain</td>\n",
       "      <td>NS</td>\n",
       "    </tr>\n",
       "    <tr>\n",
       "      <th>327</th>\n",
       "      <td>2017</td>\n",
       "      <td>ru-en</td>\n",
       "      <td>NRC</td>\n",
       "      <td>afrl-mitll-syscomb</td>\n",
       "      <td>0.063851</td>\n",
       "      <td>-0.000008</td>\n",
       "      <td>26</td>\n",
       "      <td>991</td>\n",
       "      <td>True</td>\n",
       "      <td>False</td>\n",
       "      <td>gain</td>\n",
       "      <td>NS</td>\n",
       "    </tr>\n",
       "    <tr>\n",
       "      <th>335</th>\n",
       "      <td>2017</td>\n",
       "      <td>ru-en</td>\n",
       "      <td>online-A</td>\n",
       "      <td>uedin-nmt</td>\n",
       "      <td>0.054603</td>\n",
       "      <td>0.001036</td>\n",
       "      <td>40</td>\n",
       "      <td>217</td>\n",
       "      <td>True</td>\n",
       "      <td>False</td>\n",
       "      <td>gain</td>\n",
       "      <td>NS</td>\n",
       "    </tr>\n",
       "    <tr>\n",
       "      <th>338</th>\n",
       "      <td>2017</td>\n",
       "      <td>ru-en</td>\n",
       "      <td>online-G</td>\n",
       "      <td>afrl-mitll-opennmt</td>\n",
       "      <td>0.121112</td>\n",
       "      <td>0.000036</td>\n",
       "      <td>0</td>\n",
       "      <td>964</td>\n",
       "      <td>True</td>\n",
       "      <td>False</td>\n",
       "      <td>gain</td>\n",
       "      <td>NS</td>\n",
       "    </tr>\n",
       "    <tr>\n",
       "      <th>341</th>\n",
       "      <td>2017</td>\n",
       "      <td>ru-en</td>\n",
       "      <td>NRC</td>\n",
       "      <td>afrl-mitll-opennmt</td>\n",
       "      <td>0.076145</td>\n",
       "      <td>-0.000244</td>\n",
       "      <td>7</td>\n",
       "      <td>779</td>\n",
       "      <td>True</td>\n",
       "      <td>False</td>\n",
       "      <td>gain</td>\n",
       "      <td>NS</td>\n",
       "    </tr>\n",
       "    <tr>\n",
       "      <th>371</th>\n",
       "      <td>2017</td>\n",
       "      <td>tr-en</td>\n",
       "      <td>online-G</td>\n",
       "      <td>LIUM-NMT</td>\n",
       "      <td>0.068518</td>\n",
       "      <td>-0.003092</td>\n",
       "      <td>21</td>\n",
       "      <td>4</td>\n",
       "      <td>True</td>\n",
       "      <td>True</td>\n",
       "      <td>gain</td>\n",
       "      <td>loss</td>\n",
       "    </tr>\n",
       "    <tr>\n",
       "      <th>376</th>\n",
       "      <td>2017</td>\n",
       "      <td>tr-en</td>\n",
       "      <td>online-G</td>\n",
       "      <td>afrl-mitll-syscomb</td>\n",
       "      <td>0.064203</td>\n",
       "      <td>-0.000992</td>\n",
       "      <td>20</td>\n",
       "      <td>344</td>\n",
       "      <td>True</td>\n",
       "      <td>False</td>\n",
       "      <td>gain</td>\n",
       "      <td>NS</td>\n",
       "    </tr>\n",
       "    <tr>\n",
       "      <th>382</th>\n",
       "      <td>2017</td>\n",
       "      <td>tr-en</td>\n",
       "      <td>online-G</td>\n",
       "      <td>afrl-mitll-m2w-nr1</td>\n",
       "      <td>0.054126</td>\n",
       "      <td>-0.001499</td>\n",
       "      <td>42</td>\n",
       "      <td>148</td>\n",
       "      <td>True</td>\n",
       "      <td>False</td>\n",
       "      <td>gain</td>\n",
       "      <td>NS</td>\n",
       "    </tr>\n",
       "    <tr>\n",
       "      <th>406</th>\n",
       "      <td>2017</td>\n",
       "      <td>zh-en</td>\n",
       "      <td>jhu-nmt</td>\n",
       "      <td>ROCMT</td>\n",
       "      <td>0.081058</td>\n",
       "      <td>-0.000070</td>\n",
       "      <td>5</td>\n",
       "      <td>943</td>\n",
       "      <td>True</td>\n",
       "      <td>False</td>\n",
       "      <td>gain</td>\n",
       "      <td>NS</td>\n",
       "    </tr>\n",
       "    <tr>\n",
       "      <th>510</th>\n",
       "      <td>2017</td>\n",
       "      <td>zh-en</td>\n",
       "      <td>PROMT-SMT</td>\n",
       "      <td>UU-HNMT</td>\n",
       "      <td>0.066812</td>\n",
       "      <td>0.001436</td>\n",
       "      <td>24</td>\n",
       "      <td>129</td>\n",
       "      <td>True</td>\n",
       "      <td>False</td>\n",
       "      <td>gain</td>\n",
       "      <td>NS</td>\n",
       "    </tr>\n",
       "    <tr>\n",
       "      <th>526</th>\n",
       "      <td>2018</td>\n",
       "      <td>de-en</td>\n",
       "      <td>online-Y.0</td>\n",
       "      <td>uedin.5766</td>\n",
       "      <td>0.049064</td>\n",
       "      <td>-0.000763</td>\n",
       "      <td>40</td>\n",
       "      <td>296</td>\n",
       "      <td>True</td>\n",
       "      <td>False</td>\n",
       "      <td>gain</td>\n",
       "      <td>NS</td>\n",
       "    </tr>\n",
       "    <tr>\n",
       "      <th>527</th>\n",
       "      <td>2018</td>\n",
       "      <td>de-en</td>\n",
       "      <td>Ubiqus-NMT.5635</td>\n",
       "      <td>uedin.5766</td>\n",
       "      <td>0.054076</td>\n",
       "      <td>0.000998</td>\n",
       "      <td>18</td>\n",
       "      <td>197</td>\n",
       "      <td>True</td>\n",
       "      <td>False</td>\n",
       "      <td>gain</td>\n",
       "      <td>NS</td>\n",
       "    </tr>\n",
       "    <tr>\n",
       "      <th>533</th>\n",
       "      <td>2018</td>\n",
       "      <td>de-en</td>\n",
       "      <td>MLLP-UPV.5554</td>\n",
       "      <td>uedin.5766</td>\n",
       "      <td>0.060176</td>\n",
       "      <td>0.001334</td>\n",
       "      <td>8</td>\n",
       "      <td>70</td>\n",
       "      <td>True</td>\n",
       "      <td>False</td>\n",
       "      <td>gain</td>\n",
       "      <td>NS</td>\n",
       "    </tr>\n",
       "    <tr>\n",
       "      <th>643</th>\n",
       "      <td>2018</td>\n",
       "      <td>et-en</td>\n",
       "      <td>talp-upc.5421</td>\n",
       "      <td>CUNI-Kocmi.5618</td>\n",
       "      <td>0.099597</td>\n",
       "      <td>0.001306</td>\n",
       "      <td>1</td>\n",
       "      <td>177</td>\n",
       "      <td>True</td>\n",
       "      <td>False</td>\n",
       "      <td>gain</td>\n",
       "      <td>NS</td>\n",
       "    </tr>\n",
       "    <tr>\n",
       "      <th>773</th>\n",
       "      <td>2018</td>\n",
       "      <td>ru-en</td>\n",
       "      <td>online-G.0</td>\n",
       "      <td>uedin.5739</td>\n",
       "      <td>0.059590</td>\n",
       "      <td>0.000353</td>\n",
       "      <td>42</td>\n",
       "      <td>683</td>\n",
       "      <td>True</td>\n",
       "      <td>False</td>\n",
       "      <td>gain</td>\n",
       "      <td>NS</td>\n",
       "    </tr>\n",
       "    <tr>\n",
       "      <th>796</th>\n",
       "      <td>2018</td>\n",
       "      <td>tr-en</td>\n",
       "      <td>online-G.0</td>\n",
       "      <td>uedin.5709</td>\n",
       "      <td>0.098313</td>\n",
       "      <td>0.000510</td>\n",
       "      <td>0</td>\n",
       "      <td>551</td>\n",
       "      <td>True</td>\n",
       "      <td>False</td>\n",
       "      <td>gain</td>\n",
       "      <td>NS</td>\n",
       "    </tr>\n",
       "    <tr>\n",
       "      <th>798</th>\n",
       "      <td>2018</td>\n",
       "      <td>tr-en</td>\n",
       "      <td>online-G.0</td>\n",
       "      <td>NICT.5708</td>\n",
       "      <td>0.100430</td>\n",
       "      <td>0.001564</td>\n",
       "      <td>0</td>\n",
       "      <td>63</td>\n",
       "      <td>True</td>\n",
       "      <td>False</td>\n",
       "      <td>gain</td>\n",
       "      <td>NS</td>\n",
       "    </tr>\n",
       "    <tr>\n",
       "      <th>799</th>\n",
       "      <td>2018</td>\n",
       "      <td>tr-en</td>\n",
       "      <td>online-G.0</td>\n",
       "      <td>online-B.0</td>\n",
       "      <td>0.049290</td>\n",
       "      <td>-0.000038</td>\n",
       "      <td>31</td>\n",
       "      <td>966</td>\n",
       "      <td>True</td>\n",
       "      <td>False</td>\n",
       "      <td>gain</td>\n",
       "      <td>NS</td>\n",
       "    </tr>\n",
       "    <tr>\n",
       "      <th>800</th>\n",
       "      <td>2018</td>\n",
       "      <td>tr-en</td>\n",
       "      <td>online-A.0</td>\n",
       "      <td>uedin.5709</td>\n",
       "      <td>0.093144</td>\n",
       "      <td>0.000244</td>\n",
       "      <td>1</td>\n",
       "      <td>784</td>\n",
       "      <td>True</td>\n",
       "      <td>False</td>\n",
       "      <td>gain</td>\n",
       "      <td>NS</td>\n",
       "    </tr>\n",
       "    <tr>\n",
       "      <th>802</th>\n",
       "      <td>2018</td>\n",
       "      <td>tr-en</td>\n",
       "      <td>online-B.0</td>\n",
       "      <td>uedin.5709</td>\n",
       "      <td>0.049023</td>\n",
       "      <td>0.000548</td>\n",
       "      <td>42</td>\n",
       "      <td>535</td>\n",
       "      <td>True</td>\n",
       "      <td>False</td>\n",
       "      <td>gain</td>\n",
       "      <td>NS</td>\n",
       "    </tr>\n",
       "    <tr>\n",
       "      <th>803</th>\n",
       "      <td>2018</td>\n",
       "      <td>tr-en</td>\n",
       "      <td>online-A.0</td>\n",
       "      <td>NICT.5708</td>\n",
       "      <td>0.095261</td>\n",
       "      <td>0.001297</td>\n",
       "      <td>0</td>\n",
       "      <td>136</td>\n",
       "      <td>True</td>\n",
       "      <td>False</td>\n",
       "      <td>gain</td>\n",
       "      <td>NS</td>\n",
       "    </tr>\n",
       "    <tr>\n",
       "      <th>805</th>\n",
       "      <td>2018</td>\n",
       "      <td>tr-en</td>\n",
       "      <td>online-B.0</td>\n",
       "      <td>NICT.5708</td>\n",
       "      <td>0.051140</td>\n",
       "      <td>0.001602</td>\n",
       "      <td>30</td>\n",
       "      <td>61</td>\n",
       "      <td>True</td>\n",
       "      <td>False</td>\n",
       "      <td>gain</td>\n",
       "      <td>NS</td>\n",
       "    </tr>\n",
       "    <tr>\n",
       "      <th>871</th>\n",
       "      <td>2018</td>\n",
       "      <td>zh-en</td>\n",
       "      <td>UMD.5681</td>\n",
       "      <td>online-Y.0</td>\n",
       "      <td>0.083174</td>\n",
       "      <td>0.001137</td>\n",
       "      <td>6</td>\n",
       "      <td>195</td>\n",
       "      <td>True</td>\n",
       "      <td>False</td>\n",
       "      <td>gain</td>\n",
       "      <td>NS</td>\n",
       "    </tr>\n",
       "    <tr>\n",
       "      <th>872</th>\n",
       "      <td>2018</td>\n",
       "      <td>zh-en</td>\n",
       "      <td>UMD.5681</td>\n",
       "      <td>uedin.5652</td>\n",
       "      <td>0.095171</td>\n",
       "      <td>0.001595</td>\n",
       "      <td>0</td>\n",
       "      <td>88</td>\n",
       "      <td>True</td>\n",
       "      <td>False</td>\n",
       "      <td>gain</td>\n",
       "      <td>NS</td>\n",
       "    </tr>\n",
       "    <tr>\n",
       "      <th>913</th>\n",
       "      <td>2019</td>\n",
       "      <td>fi-en</td>\n",
       "      <td>online-A.0</td>\n",
       "      <td>TartuNLP-c.6905</td>\n",
       "      <td>0.064950</td>\n",
       "      <td>0.000740</td>\n",
       "      <td>47</td>\n",
       "      <td>504</td>\n",
       "      <td>True</td>\n",
       "      <td>False</td>\n",
       "      <td>gain</td>\n",
       "      <td>NS</td>\n",
       "    </tr>\n",
       "    <tr>\n",
       "      <th>1058</th>\n",
       "      <td>2019</td>\n",
       "      <td>kk-en</td>\n",
       "      <td>online-B.0</td>\n",
       "      <td>rug-kken-morfessor.6677</td>\n",
       "      <td>0.081365</td>\n",
       "      <td>0.002762</td>\n",
       "      <td>27</td>\n",
       "      <td>50</td>\n",
       "      <td>True</td>\n",
       "      <td>False</td>\n",
       "      <td>gain</td>\n",
       "      <td>NS</td>\n",
       "    </tr>\n",
       "    <tr>\n",
       "      <th>1154</th>\n",
       "      <td>2019</td>\n",
       "      <td>ru-en</td>\n",
       "      <td>rerank-re.6540</td>\n",
       "      <td>online-X.0</td>\n",
       "      <td>0.180360</td>\n",
       "      <td>0.001145</td>\n",
       "      <td>0</td>\n",
       "      <td>298</td>\n",
       "      <td>True</td>\n",
       "      <td>False</td>\n",
       "      <td>gain</td>\n",
       "      <td>NS</td>\n",
       "    </tr>\n",
       "    <tr>\n",
       "      <th>1175</th>\n",
       "      <td>2019</td>\n",
       "      <td>ru-en</td>\n",
       "      <td>rerank-re.6540</td>\n",
       "      <td>afrl-ewc.6659</td>\n",
       "      <td>0.123165</td>\n",
       "      <td>-0.008432</td>\n",
       "      <td>0</td>\n",
       "      <td>0</td>\n",
       "      <td>True</td>\n",
       "      <td>True</td>\n",
       "      <td>gain</td>\n",
       "      <td>loss</td>\n",
       "    </tr>\n",
       "    <tr>\n",
       "      <th>1176</th>\n",
       "      <td>2019</td>\n",
       "      <td>ru-en</td>\n",
       "      <td>rerank-re.6540</td>\n",
       "      <td>afrl-syscomb19.6782</td>\n",
       "      <td>0.071311</td>\n",
       "      <td>-0.010444</td>\n",
       "      <td>18</td>\n",
       "      <td>0</td>\n",
       "      <td>True</td>\n",
       "      <td>True</td>\n",
       "      <td>gain</td>\n",
       "      <td>loss</td>\n",
       "    </tr>\n",
       "    <tr>\n",
       "      <th>1177</th>\n",
       "      <td>2019</td>\n",
       "      <td>ru-en</td>\n",
       "      <td>rerank-re.6540</td>\n",
       "      <td>TartuNLP-u.6650</td>\n",
       "      <td>0.123976</td>\n",
       "      <td>-0.006411</td>\n",
       "      <td>0</td>\n",
       "      <td>0</td>\n",
       "      <td>True</td>\n",
       "      <td>True</td>\n",
       "      <td>gain</td>\n",
       "      <td>loss</td>\n",
       "    </tr>\n",
       "  </tbody>\n",
       "</table>\n",
       "</div>"
      ],
      "text/plain": [
       "      year     lp                s1                       s2  human_statistic  \\\n",
       "41    2016  de-en          online-F               jhu-syntax         0.057244   \n",
       "127   2016  ru-en  PROMT-Rule-based        AFRL-MITLL-Phrase         0.084057   \n",
       "134   2016  ru-en  PROMT-Rule-based      AFRL-MITLL-contrast         0.115501   \n",
       "138   2016  ru-en          online-A      AFRL-MITLL-contrast         0.064525   \n",
       "144   2016  ru-en  PROMT-Rule-based                 online-A         0.050976   \n",
       "150   2016  ru-en          online-B                uedin-nmt         0.072248   \n",
       "157   2016  ru-en               NRC                uedin-nmt         0.049014   \n",
       "161   2016  ru-en         AMU-UEDIN                uedin-nmt         0.092034   \n",
       "231   2017  de-en          online-A                  SYSTRAN         0.071037   \n",
       "234   2017  de-en               KIT                  SYSTRAN         0.067561   \n",
       "249   2017  de-en          online-B                      KIT         0.047385   \n",
       "252   2017  de-en          online-B                uedin-nmt         0.050512   \n",
       "326   2017  ru-en          online-G       afrl-mitll-syscomb         0.108819   \n",
       "327   2017  ru-en               NRC       afrl-mitll-syscomb         0.063851   \n",
       "335   2017  ru-en          online-A                uedin-nmt         0.054603   \n",
       "338   2017  ru-en          online-G       afrl-mitll-opennmt         0.121112   \n",
       "341   2017  ru-en               NRC       afrl-mitll-opennmt         0.076145   \n",
       "371   2017  tr-en          online-G                 LIUM-NMT         0.068518   \n",
       "376   2017  tr-en          online-G       afrl-mitll-syscomb         0.064203   \n",
       "382   2017  tr-en          online-G       afrl-mitll-m2w-nr1         0.054126   \n",
       "406   2017  zh-en           jhu-nmt                    ROCMT         0.081058   \n",
       "510   2017  zh-en         PROMT-SMT                  UU-HNMT         0.066812   \n",
       "526   2018  de-en        online-Y.0               uedin.5766         0.049064   \n",
       "527   2018  de-en   Ubiqus-NMT.5635               uedin.5766         0.054076   \n",
       "533   2018  de-en     MLLP-UPV.5554               uedin.5766         0.060176   \n",
       "643   2018  et-en     talp-upc.5421          CUNI-Kocmi.5618         0.099597   \n",
       "773   2018  ru-en        online-G.0               uedin.5739         0.059590   \n",
       "796   2018  tr-en        online-G.0               uedin.5709         0.098313   \n",
       "798   2018  tr-en        online-G.0                NICT.5708         0.100430   \n",
       "799   2018  tr-en        online-G.0               online-B.0         0.049290   \n",
       "800   2018  tr-en        online-A.0               uedin.5709         0.093144   \n",
       "802   2018  tr-en        online-B.0               uedin.5709         0.049023   \n",
       "803   2018  tr-en        online-A.0                NICT.5708         0.095261   \n",
       "805   2018  tr-en        online-B.0                NICT.5708         0.051140   \n",
       "871   2018  zh-en          UMD.5681               online-Y.0         0.083174   \n",
       "872   2018  zh-en          UMD.5681               uedin.5652         0.095171   \n",
       "913   2019  fi-en        online-A.0          TartuNLP-c.6905         0.064950   \n",
       "1058  2019  kk-en        online-B.0  rug-kken-morfessor.6677         0.081365   \n",
       "1154  2019  ru-en    rerank-re.6540               online-X.0         0.180360   \n",
       "1175  2019  ru-en    rerank-re.6540            afrl-ewc.6659         0.123165   \n",
       "1176  2019  ru-en    rerank-re.6540      afrl-syscomb19.6782         0.071311   \n",
       "1177  2019  ru-en    rerank-re.6540          TartuNLP-u.6650         0.123976   \n",
       "\n",
       "      metric_statistic  human_c  metric_c  human_sig  metric_sig  \\\n",
       "41           -0.001047       20       189       True       False   \n",
       "127          -0.001139        1       112       True       False   \n",
       "134           0.000773        0       301       True       False   \n",
       "138           0.000476        9       581       True       False   \n",
       "144           0.000296       16       674       True       False   \n",
       "150          -0.000460        0       524       True       False   \n",
       "157          -0.000269       26       705       True       False   \n",
       "161           0.001265        1        92       True       False   \n",
       "231           0.000572        4       442       True       False   \n",
       "234           0.001513        4        53       True       False   \n",
       "249           0.000880       44       246       True       False   \n",
       "252          -0.000230       40       752       True       False   \n",
       "326           0.000272        0       723       True       False   \n",
       "327          -0.000008       26       991       True       False   \n",
       "335           0.001036       40       217       True       False   \n",
       "338           0.000036        0       964       True       False   \n",
       "341          -0.000244        7       779       True       False   \n",
       "371          -0.003092       21         4       True        True   \n",
       "376          -0.000992       20       344       True       False   \n",
       "382          -0.001499       42       148       True       False   \n",
       "406          -0.000070        5       943       True       False   \n",
       "510           0.001436       24       129       True       False   \n",
       "526          -0.000763       40       296       True       False   \n",
       "527           0.000998       18       197       True       False   \n",
       "533           0.001334        8        70       True       False   \n",
       "643           0.001306        1       177       True       False   \n",
       "773           0.000353       42       683       True       False   \n",
       "796           0.000510        0       551       True       False   \n",
       "798           0.001564        0        63       True       False   \n",
       "799          -0.000038       31       966       True       False   \n",
       "800           0.000244        1       784       True       False   \n",
       "802           0.000548       42       535       True       False   \n",
       "803           0.001297        0       136       True       False   \n",
       "805           0.001602       30        61       True       False   \n",
       "871           0.001137        6       195       True       False   \n",
       "872           0.001595        0        88       True       False   \n",
       "913           0.000740       47       504       True       False   \n",
       "1058          0.002762       27        50       True       False   \n",
       "1154          0.001145        0       298       True       False   \n",
       "1175         -0.008432        0         0       True        True   \n",
       "1176         -0.010444       18         0       True        True   \n",
       "1177         -0.006411        0         0       True        True   \n",
       "\n",
       "     human_decision metric_decision  \n",
       "41             gain              NS  \n",
       "127            gain              NS  \n",
       "134            gain              NS  \n",
       "138            gain              NS  \n",
       "144            gain              NS  \n",
       "150            gain              NS  \n",
       "157            gain              NS  \n",
       "161            gain              NS  \n",
       "231            gain              NS  \n",
       "234            gain              NS  \n",
       "249            gain              NS  \n",
       "252            gain              NS  \n",
       "326            gain              NS  \n",
       "327            gain              NS  \n",
       "335            gain              NS  \n",
       "338            gain              NS  \n",
       "341            gain              NS  \n",
       "371            gain            loss  \n",
       "376            gain              NS  \n",
       "382            gain              NS  \n",
       "406            gain              NS  \n",
       "510            gain              NS  \n",
       "526            gain              NS  \n",
       "527            gain              NS  \n",
       "533            gain              NS  \n",
       "643            gain              NS  \n",
       "773            gain              NS  \n",
       "796            gain              NS  \n",
       "798            gain              NS  \n",
       "799            gain              NS  \n",
       "800            gain              NS  \n",
       "802            gain              NS  \n",
       "803            gain              NS  \n",
       "805            gain              NS  \n",
       "871            gain              NS  \n",
       "872            gain              NS  \n",
       "913            gain              NS  \n",
       "1058           gain              NS  \n",
       "1154           gain              NS  \n",
       "1175           gain            loss  \n",
       "1176           gain            loss  \n",
       "1177           gain            loss  "
      ]
     },
     "execution_count": 38,
     "metadata": {},
     "output_type": "execute_result"
    }
   ],
   "source": [
    "randomized_approx[(randomized_approx.human_decision != 'NS') & (randomized_approx.human_decision != randomized_approx.metric_decision)]"
   ]
  },
  {
   "cell_type": "markdown",
   "metadata": {},
   "source": [
    "### Visualize a pairwise judgment"
   ]
  },
  {
   "cell_type": "code",
   "execution_count": 41,
   "metadata": {},
   "outputs": [],
   "source": [
    "def visualize_pairwise(year, lp, s1_name, s2_name):\n",
    "    s1 = wmt_toen[(wmt_toen.year == year) & (wmt_toen.lp == lp) & (wmt_toen.system == s1_name)]\n",
    "    s2 = wmt_toen[(wmt_toen.year == year) & (wmt_toen.lp == lp) & (wmt_toen.system == s2_name)]\n",
    "\n",
    "    print(len(s1), len(s2))\n",
    "    merged = s1.merge(s2, on=['sid'])\n",
    "    print(len(merged))\n",
    "\n",
    "    merged['h_diff'] = merged['score_x'] - merged['score_y']\n",
    "    merged['m_diff'] = merged['bert_score_x'] - merged['bert_score_y']\n",
    "    \n",
    "    agree = 0\n",
    "    for i, row in merged.iterrows():\n",
    "        if np.sign(row['h_diff']) == np.sign(row['m_diff']):\n",
    "            agree += 1\n",
    "    print(agree/len(merged))\n",
    "    \n",
    "    sns.jointplot(x='h_diff', y='m_diff', data=merged, kind='scatter')"
   ]
  },
  {
   "cell_type": "code",
   "execution_count": 42,
   "metadata": {},
   "outputs": [
    {
     "name": "stdout",
     "output_type": "stream",
     "text": [
      "1016 1016\n",
      "1016\n",
      "0.6446850393700787\n"
     ]
    },
    {
     "data": {
      "image/png": "[encoded data removed]",
      "text/plain": [
       "<Figure size 432x432 with 3 Axes>"
      ]
     },
     "metadata": {},
     "output_type": "display_data"
    }
   ],
   "source": [
    "# metric judged incorrectly\n",
    "visualize_pairwise(year = 2019,\n",
    "                   lp = 'gu-en',\n",
    "                   s1_name = 'Ju-Saarland.6525',\n",
    "                   s2_name = 'online-G.0'\n",
    "                  )"
   ]
  },
  {
   "cell_type": "code",
   "execution_count": 43,
   "metadata": {},
   "outputs": [
    {
     "name": "stdout",
     "output_type": "stream",
     "text": [
      "1692 1699\n",
      "1447\n",
      "0.572218382861092\n"
     ]
    },
    {
     "data": {
      "image/png": "[encoded data removed]",
      "text/plain": [
       "<Figure size 432x432 with 3 Axes>"
      ]
     },
     "metadata": {},
     "output_type": "display_data"
    }
   ],
   "source": [
    "# metric judged correctly\n",
    "visualize_pairwise(year = 2019,\n",
    "                   lp = 'ru-en',\n",
    "                   s1_name = 'Facebook-FAIR.6937',\n",
    "                   s2_name = 'online-A.0'\n",
    "                  )"
   ]
  }
 ],
 "metadata": {
  "kernelspec": {
   "display_name": "Python 3",
   "language": "python",
   "name": "python3"
  },
  "language_info": {
   "codemirror_mode": {
    "name": "ipython",
    "version": 3
   },
   "file_extension": ".py",
   "mimetype": "text/x-python",
   "name": "python",
   "nbconvert_exporter": "python",
   "pygments_lexer": "ipython3",
   "version": "3.8.1"
  }
 },
 "nbformat": 4,
 "nbformat_minor": 4
}
