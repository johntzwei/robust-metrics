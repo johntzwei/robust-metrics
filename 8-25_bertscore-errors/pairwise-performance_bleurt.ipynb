{
 "cells": [
  {
   "cell_type": "code",
   "execution_count": 2,
   "metadata": {},
   "outputs": [],
   "source": [
    "import pickle\n",
    "import pandas as pd\n",
    "import seaborn as sns\n",
    "import numpy as np\n",
    "import itertools\n",
    "import random\n",
    "from tqdm import tqdm\n",
    "sns.set()\n",
    "import matplotlib.pyplot as plt"
   ]
  },
  {
   "cell_type": "markdown",
   "metadata": {},
   "source": [
    "# Data"
   ]
  },
  {
   "cell_type": "code",
   "execution_count": 4,
   "metadata": {},
   "outputs": [
    {
     "data": {
      "text/html": [
       "<div>\n",
       "<style scoped>\n",
       "    .dataframe tbody tr th:only-of-type {\n",
       "        vertical-align: middle;\n",
       "    }\n",
       "\n",
       "    .dataframe tbody tr th {\n",
       "        vertical-align: top;\n",
       "    }\n",
       "\n",
       "    .dataframe thead th {\n",
       "        text-align: right;\n",
       "    }\n",
       "</style>\n",
       "<table border=\"1\" class=\"dataframe\">\n",
       "  <thead>\n",
       "    <tr style=\"text-align: right;\">\n",
       "      <th></th>\n",
       "      <th>system</th>\n",
       "      <th>sid</th>\n",
       "      <th>raw_score</th>\n",
       "      <th>score</th>\n",
       "      <th>N</th>\n",
       "      <th>lp</th>\n",
       "      <th>reference</th>\n",
       "      <th>source</th>\n",
       "      <th>output</th>\n",
       "      <th>year</th>\n",
       "      <th>system_full</th>\n",
       "      <th>bleurt</th>\n",
       "    </tr>\n",
       "  </thead>\n",
       "  <tbody>\n",
       "    <tr>\n",
       "      <th>0</th>\n",
       "      <td>online-B</td>\n",
       "      <td>1673</td>\n",
       "      <td>63.0</td>\n",
       "      <td>-0.00167</td>\n",
       "      <td>2</td>\n",
       "      <td>cs-en</td>\n",
       "      <td>Ten statements by Albert Einstein that enriche...</td>\n",
       "      <td>Desatero výroků Alberta Einsteina, které oboha...</td>\n",
       "      <td>Ten Commandments statements of Albert Einstein...</td>\n",
       "      <td>2016</td>\n",
       "      <td>NaN</td>\n",
       "      <td>-0.167327</td>\n",
       "    </tr>\n",
       "  </tbody>\n",
       "</table>\n",
       "</div>"
      ],
      "text/plain": [
       "     system   sid  raw_score    score  N     lp  \\\n",
       "0  online-B  1673       63.0 -0.00167  2  cs-en   \n",
       "\n",
       "                                           reference  \\\n",
       "0  Ten statements by Albert Einstein that enriche...   \n",
       "\n",
       "                                              source  \\\n",
       "0  Desatero výroků Alberta Einsteina, které oboha...   \n",
       "\n",
       "                                              output  year system_full  \\\n",
       "0  Ten Commandments statements of Albert Einstein...  2016         NaN   \n",
       "\n",
       "     bleurt  \n",
       "0 -0.167327  "
      ]
     },
     "execution_count": 4,
     "metadata": {},
     "output_type": "execute_result"
    }
   ],
   "source": [
    "wmt_toen = pickle.load(open('../pickles/wmt_toen_bleurt.pkl', 'rb'))\n",
    "wmt_toen.head(1)"
   ]
  },
  {
   "cell_type": "markdown",
   "metadata": {},
   "source": [
    "# Validation"
   ]
  },
  {
   "cell_type": "markdown",
   "metadata": {},
   "source": [
    "Official BLEURT segment-level results:\n",
    "https://github.com/google-research/bleurt/blob/master/README.md#overview"
   ]
  },
  {
   "cell_type": "code",
   "execution_count": 5,
   "metadata": {},
   "outputs": [
    {
     "data": {
      "text/html": [
       "<div>\n",
       "<style scoped>\n",
       "    .dataframe tbody tr th:only-of-type {\n",
       "        vertical-align: middle;\n",
       "    }\n",
       "\n",
       "    .dataframe tbody tr th {\n",
       "        vertical-align: top;\n",
       "    }\n",
       "\n",
       "    .dataframe thead tr th {\n",
       "        text-align: left;\n",
       "    }\n",
       "</style>\n",
       "<table border=\"1\" class=\"dataframe\">\n",
       "  <thead>\n",
       "    <tr>\n",
       "      <th>lp</th>\n",
       "      <th>fi-en</th>\n",
       "      <th>gu-en</th>\n",
       "      <th>kk-en</th>\n",
       "      <th>lt-en</th>\n",
       "      <th>ru-en</th>\n",
       "    </tr>\n",
       "    <tr>\n",
       "      <th></th>\n",
       "      <th>score</th>\n",
       "      <th>score</th>\n",
       "      <th>score</th>\n",
       "      <th>score</th>\n",
       "      <th>score</th>\n",
       "    </tr>\n",
       "  </thead>\n",
       "  <tbody>\n",
       "    <tr>\n",
       "      <th>bleurt</th>\n",
       "      <td>0.31354</td>\n",
       "      <td>0.281363</td>\n",
       "      <td>0.395622</td>\n",
       "      <td>0.353805</td>\n",
       "      <td>0.283788</td>\n",
       "    </tr>\n",
       "  </tbody>\n",
       "</table>\n",
       "</div>"
      ],
      "text/plain": [
       "lp        fi-en     gu-en     kk-en     lt-en     ru-en\n",
       "          score     score     score     score     score\n",
       "bleurt  0.31354  0.281363  0.395622  0.353805  0.283788"
      ]
     },
     "execution_count": 5,
     "metadata": {},
     "output_type": "execute_result"
    }
   ],
   "source": [
    "wmt_toen[wmt_toen.year == 2019].groupby('lp')[['bleurt', 'score']].corr('kendall')[['bleurt']][1::2].T"
   ]
  },
  {
   "cell_type": "markdown",
   "metadata": {},
   "source": [
    "# Plots"
   ]
  },
  {
   "cell_type": "markdown",
   "metadata": {},
   "source": [
    "### Raw correlations"
   ]
  },
  {
   "cell_type": "markdown",
   "metadata": {},
   "source": [
    "##### Test set"
   ]
  },
  {
   "cell_type": "code",
   "execution_count": 6,
   "metadata": {},
   "outputs": [
    {
     "data": {
      "image/png": "[encoded data removed]",
      "text/plain": [
       "<Figure size 576x576 with 9 Axes>"
      ]
     },
     "metadata": {},
     "output_type": "display_data"
    }
   ],
   "source": [
    "f, axes = plt.subplots(3, 3, figsize=(8,8), sharex=True, sharey=True)\n",
    "wmt2019_toen = wmt_toen[wmt_toen.year == 2019]\n",
    "f.suptitle('2019')\n",
    "\n",
    "for coord, (i, group) in zip(itertools.product([0,1,2], [0,1,2]), wmt2019_toen.groupby('lp')):\n",
    "    system_level = group.groupby('system').mean()\n",
    "    r = system_level.corr('pearson')['bleurt']['score']\n",
    "    tau = system_level.corr('kendall')['bleurt']['score']\n",
    "    \n",
    "    ax = axes[coord]\n",
    "    ax.set_title(i)\n",
    "    ax.text(0.1, 0.9, '$r=%.3f$' % r, fontsize=12, transform=ax.transAxes)\n",
    "    ax.text(0.1, 0.8, '$\\\\tau=%.3f$' % tau, fontsize=12, transform=ax.transAxes)\n",
    "    sns.scatterplot(data=system_level, x='score', y='bleurt', ax=ax)"
   ]
  },
  {
   "cell_type": "markdown",
   "metadata": {},
   "source": [
    "##### Train set"
   ]
  },
  {
   "cell_type": "code",
   "execution_count": 7,
   "metadata": {
    "scrolled": true
   },
   "outputs": [
    {
     "data": {
      "image/png": "[encoded data removed]",
      "text/plain": [
       "<Figure size 576x576 with 9 Axes>"
      ]
     },
     "metadata": {},
     "output_type": "display_data"
    },
    {
     "data": {
      "image/png": "[encoded data removed]",
      "text/plain": [
       "<Figure size 576x576 with 9 Axes>"
      ]
     },
     "metadata": {},
     "output_type": "display_data"
    },
    {
     "data": {
      "image/png": "[encoded data removed]",
      "text/plain": [
       "<Figure size 576x576 with 9 Axes>"
      ]
     },
     "metadata": {},
     "output_type": "display_data"
    }
   ],
   "source": [
    "for year, group in wmt_toen.groupby('year'):\n",
    "    if year == 2019:\n",
    "        continue\n",
    "        \n",
    "    f, axes = plt.subplots(3, 3, figsize=(8,8), sharex=True, sharey=True)\n",
    "    toen = wmt_toen[wmt_toen.year == year]\n",
    "    f.suptitle(str(year))\n",
    "\n",
    "    for coord, (i, group) in zip(itertools.product([0,1,2], [0,1,2]), toen.groupby('lp')):\n",
    "        system_level = group.groupby('system').mean()\n",
    "        r = system_level.corr('pearson')['bleurt']['score']\n",
    "        tau = system_level.corr('kendall')['bleurt']['score']\n",
    "\n",
    "        ax = axes[coord]\n",
    "        ax.set_title(i)\n",
    "        ax.text(0.1, 0.9, '$r=%.3f$' % r, fontsize=12, transform=ax.transAxes)\n",
    "        ax.text(0.1, 0.8, '$\\\\tau=%.3f$' % tau, fontsize=12, transform=ax.transAxes)\n",
    "        sns.scatterplot(data=system_level, x='score', y='bleurt', ax=ax)"
   ]
  },
  {
   "cell_type": "markdown",
   "metadata": {},
   "source": [
    "# Pairwise judgments (pt. 1)"
   ]
  },
  {
   "cell_type": "markdown",
   "metadata": {},
   "source": [
    "### Considering statistical significance"
   ]
  },
  {
   "cell_type": "code",
   "execution_count": 10,
   "metadata": {},
   "outputs": [
    {
     "name": "stderr",
     "output_type": "stream",
     "text": [
      "Process ForkPoolWorker-11:\n",
      "Process ForkPoolWorker-13:\n",
      "Process ForkPoolWorker-16:\n",
      "Process ForkPoolWorker-15:\n",
      "Process ForkPoolWorker-9:\n",
      "Process ForkPoolWorker-10:\n",
      "Process ForkPoolWorker-14:\n",
      "Process ForkPoolWorker-12:\n",
      "Traceback (most recent call last):\n",
      "Traceback (most recent call last):\n",
      "Traceback (most recent call last):\n",
      "Traceback (most recent call last):\n",
      "Traceback (most recent call last):\n",
      "Traceback (most recent call last):\n",
      "  File \"/nas/home/jwei/anaconda3/envs/notebook/lib/python3.8/multiprocessing/process.py\", line 315, in _bootstrap\n",
      "    self.run()\n",
      "  File \"/nas/home/jwei/anaconda3/envs/notebook/lib/python3.8/multiprocessing/process.py\", line 315, in _bootstrap\n",
      "    self.run()\n",
      "  File \"/nas/home/jwei/anaconda3/envs/notebook/lib/python3.8/multiprocessing/process.py\", line 315, in _bootstrap\n",
      "    self.run()\n",
      "  File \"/nas/home/jwei/anaconda3/envs/notebook/lib/python3.8/multiprocessing/process.py\", line 315, in _bootstrap\n",
      "    self.run()\n",
      "  File \"/nas/home/jwei/anaconda3/envs/notebook/lib/python3.8/multiprocessing/process.py\", line 315, in _bootstrap\n",
      "    self.run()\n",
      "  File \"/nas/home/jwei/anaconda3/envs/notebook/lib/python3.8/multiprocessing/process.py\", line 108, in run\n",
      "    self._target(*self._args, **self._kwargs)\n",
      "  File \"/nas/home/jwei/anaconda3/envs/notebook/lib/python3.8/multiprocessing/process.py\", line 315, in _bootstrap\n",
      "    self.run()\n",
      "  File \"/nas/home/jwei/anaconda3/envs/notebook/lib/python3.8/multiprocessing/process.py\", line 108, in run\n",
      "    self._target(*self._args, **self._kwargs)\n",
      "  File \"/nas/home/jwei/anaconda3/envs/notebook/lib/python3.8/multiprocessing/process.py\", line 108, in run\n",
      "    self._target(*self._args, **self._kwargs)\n",
      "Traceback (most recent call last):\n",
      "Traceback (most recent call last):\n",
      "  File \"/nas/home/jwei/anaconda3/envs/notebook/lib/python3.8/multiprocessing/process.py\", line 108, in run\n",
      "    self._target(*self._args, **self._kwargs)\n",
      "  File \"/nas/home/jwei/anaconda3/envs/notebook/lib/python3.8/multiprocessing/pool.py\", line 114, in worker\n",
      "    task = get()\n",
      "  File \"/nas/home/jwei/anaconda3/envs/notebook/lib/python3.8/multiprocessing/pool.py\", line 114, in worker\n",
      "    task = get()\n",
      "  File \"/nas/home/jwei/anaconda3/envs/notebook/lib/python3.8/multiprocessing/pool.py\", line 114, in worker\n",
      "    task = get()\n",
      "  File \"/nas/home/jwei/anaconda3/envs/notebook/lib/python3.8/multiprocessing/process.py\", line 108, in run\n",
      "    self._target(*self._args, **self._kwargs)\n",
      "  File \"/nas/home/jwei/anaconda3/envs/notebook/lib/python3.8/multiprocessing/queues.py\", line 355, in get\n",
      "    with self._rlock:\n",
      "  File \"/nas/home/jwei/anaconda3/envs/notebook/lib/python3.8/multiprocessing/queues.py\", line 356, in get\n",
      "    res = self._reader.recv_bytes()\n",
      "  File \"/nas/home/jwei/anaconda3/envs/notebook/lib/python3.8/multiprocessing/synchronize.py\", line 95, in __enter__\n",
      "    return self._semlock.__enter__()\n",
      "  File \"/nas/home/jwei/anaconda3/envs/notebook/lib/python3.8/multiprocessing/pool.py\", line 114, in worker\n",
      "    task = get()\n",
      "KeyboardInterrupt\n",
      "  File \"/nas/home/jwei/anaconda3/envs/notebook/lib/python3.8/multiprocessing/process.py\", line 315, in _bootstrap\n",
      "    self.run()\n",
      "  File \"/nas/home/jwei/anaconda3/envs/notebook/lib/python3.8/multiprocessing/connection.py\", line 216, in recv_bytes\n",
      "    buf = self._recv_bytes(maxlength)\n",
      "  File \"/nas/home/jwei/anaconda3/envs/notebook/lib/python3.8/multiprocessing/process.py\", line 108, in run\n",
      "    self._target(*self._args, **self._kwargs)\n",
      "  File \"/nas/home/jwei/anaconda3/envs/notebook/lib/python3.8/multiprocessing/pool.py\", line 114, in worker\n",
      "    task = get()\n",
      "  File \"/nas/home/jwei/anaconda3/envs/notebook/lib/python3.8/multiprocessing/queues.py\", line 355, in get\n",
      "    with self._rlock:\n",
      "  File \"/nas/home/jwei/anaconda3/envs/notebook/lib/python3.8/multiprocessing/queues.py\", line 355, in get\n",
      "    with self._rlock:\n",
      "  File \"/nas/home/jwei/anaconda3/envs/notebook/lib/python3.8/multiprocessing/connection.py\", line 414, in _recv_bytes\n",
      "    buf = self._recv(4)\n",
      "  File \"/nas/home/jwei/anaconda3/envs/notebook/lib/python3.8/multiprocessing/process.py\", line 108, in run\n",
      "    self._target(*self._args, **self._kwargs)\n",
      "  File \"/nas/home/jwei/anaconda3/envs/notebook/lib/python3.8/multiprocessing/synchronize.py\", line 95, in __enter__\n",
      "    return self._semlock.__enter__()\n",
      "  File \"/nas/home/jwei/anaconda3/envs/notebook/lib/python3.8/multiprocessing/synchronize.py\", line 95, in __enter__\n",
      "    return self._semlock.__enter__()\n",
      "KeyboardInterrupt\n",
      "  File \"/nas/home/jwei/anaconda3/envs/notebook/lib/python3.8/multiprocessing/pool.py\", line 114, in worker\n",
      "    task = get()\n",
      "  File \"/nas/home/jwei/anaconda3/envs/notebook/lib/python3.8/multiprocessing/queues.py\", line 355, in get\n",
      "    with self._rlock:\n",
      "  File \"/nas/home/jwei/anaconda3/envs/notebook/lib/python3.8/multiprocessing/process.py\", line 315, in _bootstrap\n",
      "    self.run()\n",
      "  File \"/nas/home/jwei/anaconda3/envs/notebook/lib/python3.8/multiprocessing/connection.py\", line 379, in _recv\n",
      "    chunk = read(handle, remaining)\n",
      "  File \"/nas/home/jwei/anaconda3/envs/notebook/lib/python3.8/multiprocessing/pool.py\", line 114, in worker\n",
      "    task = get()\n",
      "  File \"/nas/home/jwei/anaconda3/envs/notebook/lib/python3.8/multiprocessing/queues.py\", line 355, in get\n",
      "    with self._rlock:\n",
      "  File \"/nas/home/jwei/anaconda3/envs/notebook/lib/python3.8/multiprocessing/queues.py\", line 355, in get\n",
      "    with self._rlock:\n",
      "KeyboardInterrupt\n",
      "  File \"/nas/home/jwei/anaconda3/envs/notebook/lib/python3.8/multiprocessing/process.py\", line 108, in run\n",
      "    self._target(*self._args, **self._kwargs)\n",
      "KeyboardInterrupt\n",
      "  File \"/nas/home/jwei/anaconda3/envs/notebook/lib/python3.8/multiprocessing/synchronize.py\", line 95, in __enter__\n",
      "    return self._semlock.__enter__()\n",
      "  File \"/nas/home/jwei/anaconda3/envs/notebook/lib/python3.8/multiprocessing/pool.py\", line 114, in worker\n",
      "    task = get()\n",
      "KeyboardInterrupt\n",
      "  File \"/nas/home/jwei/anaconda3/envs/notebook/lib/python3.8/multiprocessing/queues.py\", line 355, in get\n",
      "    with self._rlock:\n",
      "  File \"/nas/home/jwei/anaconda3/envs/notebook/lib/python3.8/multiprocessing/synchronize.py\", line 95, in __enter__\n",
      "    return self._semlock.__enter__()\n",
      "KeyboardInterrupt\n",
      "  File \"/nas/home/jwei/anaconda3/envs/notebook/lib/python3.8/multiprocessing/synchronize.py\", line 95, in __enter__\n",
      "    return self._semlock.__enter__()\n",
      "  File \"/nas/home/jwei/anaconda3/envs/notebook/lib/python3.8/multiprocessing/synchronize.py\", line 95, in __enter__\n",
      "    return self._semlock.__enter__()\n",
      "KeyboardInterrupt\n",
      "KeyboardInterrupt\n"
     ]
    }
   ],
   "source": [
    "import multiprocessing\n",
    "pool = multiprocessing.Pool(8)\n",
    "\n",
    "def f(i):\n",
    "    subset, s1, s2, human_statistic, metric_statistic = i\n",
    "    \n",
    "    subset['labels'] = random.sample(subset['system'].tolist(), len(subset))\n",
    "    ra_scores = subset.groupby('labels').mean()\n",
    "    \n",
    "    return (np.abs(ra_scores['score'][s1] - ra_scores['score'][s2]) > np.abs(human_statistic), \\\n",
    "            np.abs(ra_scores['bleurt'][s1] - ra_scores['bleurt'][s2]) > np.abs(metric_statistic))"
   ]
  },
  {
   "cell_type": "code",
   "execution_count": 11,
   "metadata": {},
   "outputs": [
    {
     "name": "stderr",
     "output_type": "stream",
     "text": [
      "\r",
      "  0%|          | 0/15 [00:00<?, ?it/s]"
     ]
    },
    {
     "name": "stdout",
     "output_type": "stream",
     "text": [
      "2016 cs-en\n"
     ]
    },
    {
     "name": "stderr",
     "output_type": "stream",
     "text": [
      "100%|██████████| 15/15 [00:20<00:00,  1.37s/it]\n",
      "  0%|          | 0/45 [00:00<?, ?it/s]"
     ]
    },
    {
     "name": "stdout",
     "output_type": "stream",
     "text": [
      "2016 de-en\n"
     ]
    },
    {
     "name": "stderr",
     "output_type": "stream",
     "text": [
      "100%|██████████| 45/45 [01:07<00:00,  1.50s/it]\n",
      "  0%|          | 0/36 [00:00<?, ?it/s]"
     ]
    },
    {
     "name": "stdout",
     "output_type": "stream",
     "text": [
      "2016 fi-en\n"
     ]
    },
    {
     "name": "stderr",
     "output_type": "stream",
     "text": [
      "100%|██████████| 36/36 [00:54<00:00,  1.50s/it]\n",
      "  0%|          | 0/21 [00:00<?, ?it/s]"
     ]
    },
    {
     "name": "stdout",
     "output_type": "stream",
     "text": [
      "2016 ro-en\n"
     ]
    },
    {
     "name": "stderr",
     "output_type": "stream",
     "text": [
      "100%|██████████| 21/21 [00:24<00:00,  1.18s/it]\n",
      "  0%|          | 0/45 [00:00<?, ?it/s]"
     ]
    },
    {
     "name": "stdout",
     "output_type": "stream",
     "text": [
      "2016 ru-en\n"
     ]
    },
    {
     "name": "stderr",
     "output_type": "stream",
     "text": [
      "100%|██████████| 45/45 [01:08<00:00,  1.52s/it]\n",
      "  0%|          | 0/36 [00:00<?, ?it/s]"
     ]
    },
    {
     "name": "stdout",
     "output_type": "stream",
     "text": [
      "2016 tr-en\n"
     ]
    },
    {
     "name": "stderr",
     "output_type": "stream",
     "text": [
      "100%|██████████| 36/36 [00:41<00:00,  1.15s/it]\n",
      "  0%|          | 0/6 [00:00<?, ?it/s]"
     ]
    },
    {
     "name": "stdout",
     "output_type": "stream",
     "text": [
      "2017 cs-en\n"
     ]
    },
    {
     "name": "stderr",
     "output_type": "stream",
     "text": [
      "100%|██████████| 6/6 [00:09<00:00,  1.56s/it]\n",
      "  0%|          | 0/55 [00:00<?, ?it/s]"
     ]
    },
    {
     "name": "stdout",
     "output_type": "stream",
     "text": [
      "2017 de-en\n"
     ]
    },
    {
     "name": "stderr",
     "output_type": "stream",
     "text": [
      "100%|██████████| 55/55 [01:12<00:00,  1.31s/it]\n",
      "  0%|          | 0/15 [00:00<?, ?it/s]"
     ]
    },
    {
     "name": "stdout",
     "output_type": "stream",
     "text": [
      "2017 fi-en\n"
     ]
    },
    {
     "name": "stderr",
     "output_type": "stream",
     "text": [
      "100%|██████████| 15/15 [00:21<00:00,  1.42s/it]\n",
      "  0%|          | 0/36 [00:00<?, ?it/s]"
     ]
    },
    {
     "name": "stdout",
     "output_type": "stream",
     "text": [
      "2017 lv-en\n"
     ]
    },
    {
     "name": "stderr",
     "output_type": "stream",
     "text": [
      "100%|██████████| 36/36 [00:44<00:00,  1.23s/it]\n",
      "  0%|          | 0/36 [00:00<?, ?it/s]"
     ]
    },
    {
     "name": "stdout",
     "output_type": "stream",
     "text": [
      "2017 ru-en\n"
     ]
    },
    {
     "name": "stderr",
     "output_type": "stream",
     "text": [
      "100%|██████████| 36/36 [00:46<00:00,  1.28s/it]\n",
      "  0%|          | 0/45 [00:00<?, ?it/s]"
     ]
    },
    {
     "name": "stdout",
     "output_type": "stream",
     "text": [
      "2017 tr-en\n"
     ]
    },
    {
     "name": "stderr",
     "output_type": "stream",
     "text": [
      "100%|██████████| 45/45 [00:52<00:00,  1.17s/it]\n",
      "  0%|          | 0/120 [00:00<?, ?it/s]"
     ]
    },
    {
     "name": "stdout",
     "output_type": "stream",
     "text": [
      "2017 zh-en\n"
     ]
    },
    {
     "name": "stderr",
     "output_type": "stream",
     "text": [
      "100%|██████████| 120/120 [02:16<00:00,  1.14s/it]\n",
      "  0%|          | 0/10 [00:00<?, ?it/s]"
     ]
    },
    {
     "name": "stdout",
     "output_type": "stream",
     "text": [
      "2018 cs-en\n"
     ]
    },
    {
     "name": "stderr",
     "output_type": "stream",
     "text": [
      "100%|██████████| 10/10 [00:11<00:00,  1.15s/it]\n",
      "  0%|          | 0/120 [00:00<?, ?it/s]"
     ]
    },
    {
     "name": "stdout",
     "output_type": "stream",
     "text": [
      "2018 de-en\n"
     ]
    },
    {
     "name": "stderr",
     "output_type": "stream",
     "text": [
      "100%|██████████| 120/120 [02:28<00:00,  1.24s/it]\n",
      "  0%|          | 0/91 [00:00<?, ?it/s]"
     ]
    },
    {
     "name": "stdout",
     "output_type": "stream",
     "text": [
      "2018 et-en\n"
     ]
    },
    {
     "name": "stderr",
     "output_type": "stream",
     "text": [
      "100%|██████████| 91/91 [01:37<00:00,  1.07s/it]\n",
      "  0%|          | 0/36 [00:00<?, ?it/s]"
     ]
    },
    {
     "name": "stdout",
     "output_type": "stream",
     "text": [
      "2018 fi-en\n"
     ]
    },
    {
     "name": "stderr",
     "output_type": "stream",
     "text": [
      "100%|██████████| 36/36 [00:40<00:00,  1.13s/it]\n",
      "  0%|          | 0/28 [00:00<?, ?it/s]"
     ]
    },
    {
     "name": "stdout",
     "output_type": "stream",
     "text": [
      "2018 ru-en\n"
     ]
    },
    {
     "name": "stderr",
     "output_type": "stream",
     "text": [
      "100%|██████████| 28/28 [00:32<00:00,  1.15s/it]\n",
      "  0%|          | 0/10 [00:00<?, ?it/s]"
     ]
    },
    {
     "name": "stdout",
     "output_type": "stream",
     "text": [
      "2018 tr-en\n"
     ]
    },
    {
     "name": "stderr",
     "output_type": "stream",
     "text": [
      "100%|██████████| 10/10 [00:14<00:00,  1.41s/it]\n",
      "  0%|          | 0/91 [00:00<?, ?it/s]"
     ]
    },
    {
     "name": "stdout",
     "output_type": "stream",
     "text": [
      "2018 zh-en\n"
     ]
    },
    {
     "name": "stderr",
     "output_type": "stream",
     "text": [
      "100%|██████████| 91/91 [01:51<00:00,  1.22s/it]\n",
      "  0%|          | 0/66 [00:00<?, ?it/s]"
     ]
    },
    {
     "name": "stdout",
     "output_type": "stream",
     "text": [
      "2019 fi-en\n"
     ]
    },
    {
     "name": "stderr",
     "output_type": "stream",
     "text": [
      "100%|██████████| 66/66 [01:10<00:00,  1.07s/it]\n",
      "  0%|          | 0/55 [00:00<?, ?it/s]"
     ]
    },
    {
     "name": "stdout",
     "output_type": "stream",
     "text": [
      "2019 gu-en\n"
     ]
    },
    {
     "name": "stderr",
     "output_type": "stream",
     "text": [
      "100%|██████████| 55/55 [00:47<00:00,  1.15it/s]\n",
      "  0%|          | 0/55 [00:00<?, ?it/s]"
     ]
    },
    {
     "name": "stdout",
     "output_type": "stream",
     "text": [
      "2019 kk-en\n"
     ]
    },
    {
     "name": "stderr",
     "output_type": "stream",
     "text": [
      "100%|██████████| 55/55 [00:47<00:00,  1.15it/s]\n",
      "  0%|          | 0/55 [00:00<?, ?it/s]"
     ]
    },
    {
     "name": "stdout",
     "output_type": "stream",
     "text": [
      "2019 lt-en\n"
     ]
    },
    {
     "name": "stderr",
     "output_type": "stream",
     "text": [
      "100%|██████████| 55/55 [00:47<00:00,  1.15it/s]\n",
      "  0%|          | 0/91 [00:00<?, ?it/s]"
     ]
    },
    {
     "name": "stdout",
     "output_type": "stream",
     "text": [
      "2019 ru-en\n"
     ]
    },
    {
     "name": "stderr",
     "output_type": "stream",
     "text": [
      "100%|██████████| 91/91 [01:40<00:00,  1.10s/it]\n"
     ]
    }
   ],
   "source": [
    "trials = 1000\n",
    "randomized_approx = []\n",
    "\n",
    "for (year, lp), group in wmt_toen.groupby(['year', 'lp']):\n",
    "    print(year, lp)\n",
    "    \n",
    "    systems = list(group.system.unique())\n",
    "    pairs = list(itertools.combinations(systems, 2))\n",
    "    \n",
    "    for s1, s2 in tqdm(pairs, total=len(pairs)):\n",
    "        if s1 == s2:\n",
    "            continue\n",
    "            \n",
    "        subset = group[(group.system == s1) | (group.system == s2)].copy()\n",
    "        scores = subset.groupby('system').mean()\n",
    "        \n",
    "        if scores['score'][s2] > scores['score'][s1]:\n",
    "            # switch\n",
    "            temp = s1\n",
    "            s1 = s2\n",
    "            s2 = temp\n",
    "            \n",
    "        human_statistic = scores['score'][s1] - scores['score'][s2]\n",
    "        metric_statistic = scores['bleurt'][s1] - scores['bleurt'][s2]\n",
    "        \n",
    "        # pooled randomized approximation\n",
    "        results = pool.map(f, [(subset, s1, s2, human_statistic, metric_statistic)] * trials)\n",
    "        human_c, metric_c = sum(i[0] for i in results), sum(i[1] for i in results)\n",
    "        \n",
    "        randomized_approx.append((year, lp, s1, s2, human_statistic, metric_statistic, human_c, metric_c))"
   ]
  },
  {
   "cell_type": "code",
   "execution_count": 12,
   "metadata": {},
   "outputs": [],
   "source": [
    "randomized_approx = pd.DataFrame(randomized_approx)\n",
    "randomized_approx.columns = ['year', 'lp', 's1', 's2', 'human_statistic', 'metric_statistic', 'human_c', 'metric_c']"
   ]
  },
  {
   "cell_type": "code",
   "execution_count": 13,
   "metadata": {},
   "outputs": [
    {
     "data": {
      "text/html": [
       "<div>\n",
       "<style scoped>\n",
       "    .dataframe tbody tr th:only-of-type {\n",
       "        vertical-align: middle;\n",
       "    }\n",
       "\n",
       "    .dataframe tbody tr th {\n",
       "        vertical-align: top;\n",
       "    }\n",
       "\n",
       "    .dataframe thead th {\n",
       "        text-align: right;\n",
       "    }\n",
       "</style>\n",
       "<table border=\"1\" class=\"dataframe\">\n",
       "  <thead>\n",
       "    <tr style=\"text-align: right;\">\n",
       "      <th></th>\n",
       "      <th>year</th>\n",
       "      <th>lp</th>\n",
       "      <th>s1</th>\n",
       "      <th>s2</th>\n",
       "      <th>human_statistic</th>\n",
       "      <th>metric_statistic</th>\n",
       "      <th>human_c</th>\n",
       "      <th>metric_c</th>\n",
       "      <th>human_sig</th>\n",
       "      <th>metric_sig</th>\n",
       "      <th>human_decision</th>\n",
       "      <th>metric_decision</th>\n",
       "    </tr>\n",
       "  </thead>\n",
       "  <tbody>\n",
       "    <tr>\n",
       "      <th>11</th>\n",
       "      <td>2016</td>\n",
       "      <td>cs-en</td>\n",
       "      <td>online-A</td>\n",
       "      <td>PJATK</td>\n",
       "      <td>0.024639</td>\n",
       "      <td>-0.029466</td>\n",
       "      <td>336</td>\n",
       "      <td>45</td>\n",
       "      <td>False</td>\n",
       "      <td>True</td>\n",
       "      <td>NS</td>\n",
       "      <td>loss</td>\n",
       "    </tr>\n",
       "    <tr>\n",
       "      <th>21</th>\n",
       "      <td>2016</td>\n",
       "      <td>de-en</td>\n",
       "      <td>jhu-pbmt</td>\n",
       "      <td>online-G</td>\n",
       "      <td>0.010159</td>\n",
       "      <td>0.021342</td>\n",
       "      <td>657</td>\n",
       "      <td>94</td>\n",
       "      <td>False</td>\n",
       "      <td>False</td>\n",
       "      <td>NS</td>\n",
       "      <td>NS</td>\n",
       "    </tr>\n",
       "    <tr>\n",
       "      <th>29</th>\n",
       "      <td>2016</td>\n",
       "      <td>de-en</td>\n",
       "      <td>uedin-pbmt</td>\n",
       "      <td>jhu-pbmt</td>\n",
       "      <td>0.022356</td>\n",
       "      <td>0.001449</td>\n",
       "      <td>355</td>\n",
       "      <td>910</td>\n",
       "      <td>False</td>\n",
       "      <td>False</td>\n",
       "      <td>NS</td>\n",
       "      <td>NS</td>\n",
       "    </tr>\n",
       "    <tr>\n",
       "      <th>30</th>\n",
       "      <td>2016</td>\n",
       "      <td>de-en</td>\n",
       "      <td>uedin-syntax</td>\n",
       "      <td>uedin-pbmt</td>\n",
       "      <td>0.023633</td>\n",
       "      <td>0.029233</td>\n",
       "      <td>315</td>\n",
       "      <td>22</td>\n",
       "      <td>False</td>\n",
       "      <td>True</td>\n",
       "      <td>NS</td>\n",
       "      <td>gain</td>\n",
       "    </tr>\n",
       "    <tr>\n",
       "      <th>31</th>\n",
       "      <td>2016</td>\n",
       "      <td>de-en</td>\n",
       "      <td>KIT</td>\n",
       "      <td>uedin-pbmt</td>\n",
       "      <td>0.020672</td>\n",
       "      <td>0.051980</td>\n",
       "      <td>397</td>\n",
       "      <td>0</td>\n",
       "      <td>False</td>\n",
       "      <td>True</td>\n",
       "      <td>NS</td>\n",
       "      <td>gain</td>\n",
       "    </tr>\n",
       "  </tbody>\n",
       "</table>\n",
       "</div>"
      ],
      "text/plain": [
       "    year     lp            s1          s2  human_statistic  metric_statistic  \\\n",
       "11  2016  cs-en      online-A       PJATK         0.024639         -0.029466   \n",
       "21  2016  de-en      jhu-pbmt    online-G         0.010159          0.021342   \n",
       "29  2016  de-en    uedin-pbmt    jhu-pbmt         0.022356          0.001449   \n",
       "30  2016  de-en  uedin-syntax  uedin-pbmt         0.023633          0.029233   \n",
       "31  2016  de-en           KIT  uedin-pbmt         0.020672          0.051980   \n",
       "\n",
       "    human_c  metric_c  human_sig  metric_sig human_decision metric_decision  \n",
       "11      336        45      False        True             NS            loss  \n",
       "21      657        94      False       False             NS              NS  \n",
       "29      355       910      False       False             NS              NS  \n",
       "30      315        22      False        True             NS            gain  \n",
       "31      397         0      False        True             NS            gain  "
      ]
     },
     "execution_count": 13,
     "metadata": {},
     "output_type": "execute_result"
    }
   ],
   "source": [
    "alpha = 0.05\n",
    "randomized_approx['human_sig'] = randomized_approx.human_c / trials < alpha\n",
    "randomized_approx['metric_sig'] = randomized_approx.metric_c / trials < alpha\n",
    "\n",
    "def f(row, s = 'human'):\n",
    "    if row['%s_sig' % s]:\n",
    "        if row['%s_statistic' % s] > 0:\n",
    "            return 'gain'\n",
    "        else:\n",
    "            return 'loss'\n",
    "    else:\n",
    "        return 'NS'\n",
    "\n",
    "randomized_approx['human_decision'] = randomized_approx.apply(lambda x: f(x, s='human'), axis=1)\n",
    "randomized_approx['metric_decision'] = randomized_approx.apply(lambda x: f(x, s='metric'), axis=1)\n",
    "\n",
    "randomized_approx[randomized_approx.human_c > 300].head(5)"
   ]
  },
  {
   "cell_type": "markdown",
   "metadata": {},
   "source": [
    "##### Test set"
   ]
  },
  {
   "cell_type": "code",
   "execution_count": 22,
   "metadata": {},
   "outputs": [
    {
     "name": "stderr",
     "output_type": "stream",
     "text": [
      "Exception ignored in: <Finalize object, dead>\n",
      "Traceback (most recent call last):\n",
      "  File \"/nas/home/jwei/anaconda3/envs/notebook/lib/python3.8/multiprocessing/util.py\", line 201, in __call__\n",
      "    res = self._callback(*self._args, **self._kwargs)\n",
      "  File \"/nas/home/jwei/anaconda3/envs/notebook/lib/python3.8/multiprocessing/pool.py\", line 689, in _terminate_pool\n",
      "    cls._help_stuff_finish(inqueue, task_handler, len(pool))\n",
      "  File \"/nas/home/jwei/anaconda3/envs/notebook/lib/python3.8/multiprocessing/pool.py\", line 674, in _help_stuff_finish\n",
      "    inqueue._rlock.acquire()\n",
      "KeyboardInterrupt: \n"
     ]
    }
   ],
   "source": [
    "# we have to be careful in saying NS = 0...\n",
    "ra = randomized_approx[randomized_approx.year == 2019]\n",
    "\n",
    "labels = ['loss', 'NS', 'gain']\n",
    "confusion = []\n",
    "for i in labels:\n",
    "    confusion.append([])\n",
    "    for j in labels:\n",
    "        count = len(ra[(ra.human_decision == i) & (ra.metric_decision == j)])\n",
    "        confusion[-1].append(count)\n",
    "confusion = np.array(confusion)\n",
    "\n",
    "heatmap = [ [confusion[0,0]+confusion[2,2], confusion[0,1]+confusion[0,2]+confusion[2,0]+confusion[2,1]], [confusion[1,1], confusion[1,0]+confusion[1,2]] ]"
   ]
  },
  {
   "cell_type": "code",
   "execution_count": 25,
   "metadata": {},
   "outputs": [
    {
     "data": {
      "text/plain": [
       "Text(30.5, 0.5, 'human')"
      ]
     },
     "execution_count": 25,
     "metadata": {},
     "output_type": "execute_result"
    },
    {
     "data": {
      "image/png": "[encoded data removed]",
      "text/plain": [
       "<Figure size 432x288 with 2 Axes>"
      ]
     },
     "metadata": {},
     "output_type": "display_data"
    }
   ],
   "source": [
    "xlabels = ['Agree', 'Disagree' ]\n",
    "ylabels = ['S', 'NS']\n",
    "sns.heatmap(heatmap, cmap=\"YlGnBu\", annot=True, fmt=\"d\", xticklabels=xlabels, yticklabels=ylabels)\n",
    "plt.title('2019')\n",
    "plt.xlabel('metric')\n",
    "plt.ylabel('human')"
   ]
  },
  {
   "cell_type": "markdown",
   "metadata": {},
   "source": [
    "##### Train set"
   ]
  },
  {
   "cell_type": "code",
   "execution_count": 27,
   "metadata": {},
   "outputs": [],
   "source": [
    "# we have to be careful in saying NS = 0...\n",
    "ra = randomized_approx[randomized_approx.year != 2019]\n",
    "\n",
    "labels = ['loss', 'NS', 'gain']\n",
    "confusion = []\n",
    "for i in labels:\n",
    "    confusion.append([])\n",
    "    for j in labels:\n",
    "        count = len(ra[(ra.human_decision == i) & (ra.metric_decision == j)])\n",
    "        confusion[-1].append(count)\n",
    "confusion = np.array(confusion)\n",
    "\n",
    "heatmap = [ [confusion[0,0]+confusion[2,2], confusion[0,1]+confusion[0,2]+confusion[2,0]+confusion[2,1]], [confusion[1,1], confusion[1,0]+confusion[1,2]] ]"
   ]
  },
  {
   "cell_type": "code",
   "execution_count": 28,
   "metadata": {},
   "outputs": [
    {
     "data": {
      "text/plain": [
       "Text(30.5, 0.5, 'human')"
      ]
     },
     "execution_count": 28,
     "metadata": {},
     "output_type": "execute_result"
    },
    {
     "data": {
      "image/png": "[encoded data removed]",
      "text/plain": [
       "<Figure size 432x288 with 2 Axes>"
      ]
     },
     "metadata": {},
     "output_type": "display_data"
    }
   ],
   "source": [
    "xlabels = ['Agree', 'Disagree' ]\n",
    "ylabels = ['S', 'NS']\n",
    "sns.heatmap(heatmap, cmap=\"YlGnBu\", annot=True, fmt=\"d\", xticklabels=xlabels, yticklabels=ylabels)\n",
    "plt.title('2016-2018')\n",
    "plt.xlabel('metric')\n",
    "plt.ylabel('human')"
   ]
  },
  {
   "cell_type": "markdown",
   "metadata": {},
   "source": [
    "### Save results"
   ]
  },
  {
   "cell_type": "code",
   "execution_count": 29,
   "metadata": {},
   "outputs": [],
   "source": [
    "pickle.dump(randomized_approx, open('../pickles/randomized_approx_bleurt.pkl', 'wb'))"
   ]
  },
  {
   "cell_type": "markdown",
   "metadata": {},
   "source": [
    "# Pairwise judgments (pt. 2)"
   ]
  },
  {
   "cell_type": "code",
   "execution_count": 57,
   "metadata": {},
   "outputs": [
    {
     "data": {
      "text/html": [
       "<div>\n",
       "<style scoped>\n",
       "    .dataframe tbody tr th:only-of-type {\n",
       "        vertical-align: middle;\n",
       "    }\n",
       "\n",
       "    .dataframe tbody tr th {\n",
       "        vertical-align: top;\n",
       "    }\n",
       "\n",
       "    .dataframe thead th {\n",
       "        text-align: right;\n",
       "    }\n",
       "</style>\n",
       "<table border=\"1\" class=\"dataframe\">\n",
       "  <thead>\n",
       "    <tr style=\"text-align: right;\">\n",
       "      <th></th>\n",
       "      <th>year</th>\n",
       "      <th>lp</th>\n",
       "      <th>s1</th>\n",
       "      <th>s2</th>\n",
       "      <th>human_statistic</th>\n",
       "      <th>metric_statistic</th>\n",
       "      <th>human_c</th>\n",
       "      <th>metric_c</th>\n",
       "      <th>human_sig</th>\n",
       "      <th>metric_sig</th>\n",
       "      <th>human_decision</th>\n",
       "      <th>metric_decision</th>\n",
       "    </tr>\n",
       "  </thead>\n",
       "  <tbody>\n",
       "    <tr>\n",
       "      <th>0</th>\n",
       "      <td>2016</td>\n",
       "      <td>cs-en</td>\n",
       "      <td>uedin-nmt</td>\n",
       "      <td>online-B</td>\n",
       "      <td>0.156420</td>\n",
       "      <td>0.139296</td>\n",
       "      <td>0</td>\n",
       "      <td>0</td>\n",
       "      <td>True</td>\n",
       "      <td>True</td>\n",
       "      <td>gain</td>\n",
       "      <td>gain</td>\n",
       "    </tr>\n",
       "    <tr>\n",
       "      <th>1</th>\n",
       "      <td>2016</td>\n",
       "      <td>cs-en</td>\n",
       "      <td>online-B</td>\n",
       "      <td>PJATK</td>\n",
       "      <td>0.075290</td>\n",
       "      <td>0.077613</td>\n",
       "      <td>0</td>\n",
       "      <td>0</td>\n",
       "      <td>True</td>\n",
       "      <td>True</td>\n",
       "      <td>gain</td>\n",
       "      <td>gain</td>\n",
       "    </tr>\n",
       "    <tr>\n",
       "      <th>2</th>\n",
       "      <td>2016</td>\n",
       "      <td>cs-en</td>\n",
       "      <td>jhu-pbmt</td>\n",
       "      <td>online-B</td>\n",
       "      <td>0.050666</td>\n",
       "      <td>0.020081</td>\n",
       "      <td>61</td>\n",
       "      <td>189</td>\n",
       "      <td>False</td>\n",
       "      <td>False</td>\n",
       "      <td>NS</td>\n",
       "      <td>NS</td>\n",
       "    </tr>\n",
       "    <tr>\n",
       "      <th>3</th>\n",
       "      <td>2016</td>\n",
       "      <td>cs-en</td>\n",
       "      <td>online-B</td>\n",
       "      <td>cu-mergedtrees</td>\n",
       "      <td>0.553814</td>\n",
       "      <td>0.595821</td>\n",
       "      <td>0</td>\n",
       "      <td>0</td>\n",
       "      <td>True</td>\n",
       "      <td>True</td>\n",
       "      <td>gain</td>\n",
       "      <td>gain</td>\n",
       "    </tr>\n",
       "    <tr>\n",
       "      <th>4</th>\n",
       "      <td>2016</td>\n",
       "      <td>cs-en</td>\n",
       "      <td>online-B</td>\n",
       "      <td>online-A</td>\n",
       "      <td>0.050652</td>\n",
       "      <td>0.107079</td>\n",
       "      <td>49</td>\n",
       "      <td>0</td>\n",
       "      <td>True</td>\n",
       "      <td>True</td>\n",
       "      <td>gain</td>\n",
       "      <td>gain</td>\n",
       "    </tr>\n",
       "    <tr>\n",
       "      <th>...</th>\n",
       "      <td>...</td>\n",
       "      <td>...</td>\n",
       "      <td>...</td>\n",
       "      <td>...</td>\n",
       "      <td>...</td>\n",
       "      <td>...</td>\n",
       "      <td>...</td>\n",
       "      <td>...</td>\n",
       "      <td>...</td>\n",
       "      <td>...</td>\n",
       "      <td>...</td>\n",
       "      <td>...</td>\n",
       "    </tr>\n",
       "    <tr>\n",
       "      <th>1214</th>\n",
       "      <td>2019</td>\n",
       "      <td>ru-en</td>\n",
       "      <td>online-B.0</td>\n",
       "      <td>NICT.6561</td>\n",
       "      <td>0.424304</td>\n",
       "      <td>0.556571</td>\n",
       "      <td>0</td>\n",
       "      <td>0</td>\n",
       "      <td>True</td>\n",
       "      <td>True</td>\n",
       "      <td>gain</td>\n",
       "      <td>gain</td>\n",
       "    </tr>\n",
       "    <tr>\n",
       "      <th>1215</th>\n",
       "      <td>2019</td>\n",
       "      <td>ru-en</td>\n",
       "      <td>Facebook-FAIR.6937</td>\n",
       "      <td>NICT.6561</td>\n",
       "      <td>0.459444</td>\n",
       "      <td>0.597510</td>\n",
       "      <td>0</td>\n",
       "      <td>0</td>\n",
       "      <td>True</td>\n",
       "      <td>True</td>\n",
       "      <td>gain</td>\n",
       "      <td>gain</td>\n",
       "    </tr>\n",
       "    <tr>\n",
       "      <th>1216</th>\n",
       "      <td>2019</td>\n",
       "      <td>ru-en</td>\n",
       "      <td>online-B.0</td>\n",
       "      <td>online-A.0</td>\n",
       "      <td>0.091999</td>\n",
       "      <td>0.115051</td>\n",
       "      <td>3</td>\n",
       "      <td>0</td>\n",
       "      <td>True</td>\n",
       "      <td>True</td>\n",
       "      <td>gain</td>\n",
       "      <td>gain</td>\n",
       "    </tr>\n",
       "    <tr>\n",
       "      <th>1217</th>\n",
       "      <td>2019</td>\n",
       "      <td>ru-en</td>\n",
       "      <td>Facebook-FAIR.6937</td>\n",
       "      <td>online-A.0</td>\n",
       "      <td>0.127139</td>\n",
       "      <td>0.155990</td>\n",
       "      <td>0</td>\n",
       "      <td>0</td>\n",
       "      <td>True</td>\n",
       "      <td>True</td>\n",
       "      <td>gain</td>\n",
       "      <td>gain</td>\n",
       "    </tr>\n",
       "    <tr>\n",
       "      <th>1218</th>\n",
       "      <td>2019</td>\n",
       "      <td>ru-en</td>\n",
       "      <td>Facebook-FAIR.6937</td>\n",
       "      <td>online-B.0</td>\n",
       "      <td>0.035140</td>\n",
       "      <td>0.040939</td>\n",
       "      <td>242</td>\n",
       "      <td>2</td>\n",
       "      <td>False</td>\n",
       "      <td>True</td>\n",
       "      <td>NS</td>\n",
       "      <td>gain</td>\n",
       "    </tr>\n",
       "  </tbody>\n",
       "</table>\n",
       "<p>1219 rows × 12 columns</p>\n",
       "</div>"
      ],
      "text/plain": [
       "      year     lp                  s1              s2  human_statistic  \\\n",
       "0     2016  cs-en           uedin-nmt        online-B         0.156420   \n",
       "1     2016  cs-en            online-B           PJATK         0.075290   \n",
       "2     2016  cs-en            jhu-pbmt        online-B         0.050666   \n",
       "3     2016  cs-en            online-B  cu-mergedtrees         0.553814   \n",
       "4     2016  cs-en            online-B        online-A         0.050652   \n",
       "...    ...    ...                 ...             ...              ...   \n",
       "1214  2019  ru-en          online-B.0       NICT.6561         0.424304   \n",
       "1215  2019  ru-en  Facebook-FAIR.6937       NICT.6561         0.459444   \n",
       "1216  2019  ru-en          online-B.0      online-A.0         0.091999   \n",
       "1217  2019  ru-en  Facebook-FAIR.6937      online-A.0         0.127139   \n",
       "1218  2019  ru-en  Facebook-FAIR.6937      online-B.0         0.035140   \n",
       "\n",
       "      metric_statistic  human_c  metric_c  human_sig  metric_sig  \\\n",
       "0             0.139296        0         0       True        True   \n",
       "1             0.077613        0         0       True        True   \n",
       "2             0.020081       61       189      False       False   \n",
       "3             0.595821        0         0       True        True   \n",
       "4             0.107079       49         0       True        True   \n",
       "...                ...      ...       ...        ...         ...   \n",
       "1214          0.556571        0         0       True        True   \n",
       "1215          0.597510        0         0       True        True   \n",
       "1216          0.115051        3         0       True        True   \n",
       "1217          0.155990        0         0       True        True   \n",
       "1218          0.040939      242         2      False        True   \n",
       "\n",
       "     human_decision metric_decision  \n",
       "0              gain            gain  \n",
       "1              gain            gain  \n",
       "2                NS              NS  \n",
       "3              gain            gain  \n",
       "4              gain            gain  \n",
       "...             ...             ...  \n",
       "1214           gain            gain  \n",
       "1215           gain            gain  \n",
       "1216           gain            gain  \n",
       "1217           gain            gain  \n",
       "1218             NS            gain  \n",
       "\n",
       "[1219 rows x 12 columns]"
      ]
     },
     "execution_count": 57,
     "metadata": {},
     "output_type": "execute_result"
    }
   ],
   "source": [
    "randomized_approx"
   ]
  },
  {
   "cell_type": "markdown",
   "metadata": {},
   "source": [
    "### Pairs where metrics disagree with significant human judgment (about 2-3%)"
   ]
  },
  {
   "cell_type": "code",
   "execution_count": 31,
   "metadata": {
    "scrolled": true
   },
   "outputs": [
    {
     "data": {
      "text/html": [
       "<div>\n",
       "<style scoped>\n",
       "    .dataframe tbody tr th:only-of-type {\n",
       "        vertical-align: middle;\n",
       "    }\n",
       "\n",
       "    .dataframe tbody tr th {\n",
       "        vertical-align: top;\n",
       "    }\n",
       "\n",
       "    .dataframe thead th {\n",
       "        text-align: right;\n",
       "    }\n",
       "</style>\n",
       "<table border=\"1\" class=\"dataframe\">\n",
       "  <thead>\n",
       "    <tr style=\"text-align: right;\">\n",
       "      <th></th>\n",
       "      <th>year</th>\n",
       "      <th>lp</th>\n",
       "      <th>s1</th>\n",
       "      <th>s2</th>\n",
       "      <th>human_statistic</th>\n",
       "      <th>metric_statistic</th>\n",
       "      <th>human_c</th>\n",
       "      <th>metric_c</th>\n",
       "      <th>human_sig</th>\n",
       "      <th>metric_sig</th>\n",
       "      <th>human_decision</th>\n",
       "      <th>metric_decision</th>\n",
       "    </tr>\n",
       "  </thead>\n",
       "  <tbody>\n",
       "    <tr>\n",
       "      <th>78</th>\n",
       "      <td>2016</td>\n",
       "      <td>fi-en</td>\n",
       "      <td>PROMT-SMT</td>\n",
       "      <td>UH-factored</td>\n",
       "      <td>0.060931</td>\n",
       "      <td>0.025232</td>\n",
       "      <td>13</td>\n",
       "      <td>58</td>\n",
       "      <td>True</td>\n",
       "      <td>False</td>\n",
       "      <td>gain</td>\n",
       "      <td>NS</td>\n",
       "    </tr>\n",
       "    <tr>\n",
       "      <th>127</th>\n",
       "      <td>2016</td>\n",
       "      <td>ru-en</td>\n",
       "      <td>PROMT-Rule-based</td>\n",
       "      <td>AFRL-MITLL-Phrase</td>\n",
       "      <td>0.084057</td>\n",
       "      <td>-0.015295</td>\n",
       "      <td>0</td>\n",
       "      <td>188</td>\n",
       "      <td>True</td>\n",
       "      <td>False</td>\n",
       "      <td>gain</td>\n",
       "      <td>NS</td>\n",
       "    </tr>\n",
       "    <tr>\n",
       "      <th>144</th>\n",
       "      <td>2016</td>\n",
       "      <td>ru-en</td>\n",
       "      <td>PROMT-Rule-based</td>\n",
       "      <td>online-A</td>\n",
       "      <td>0.050976</td>\n",
       "      <td>-0.001628</td>\n",
       "      <td>10</td>\n",
       "      <td>884</td>\n",
       "      <td>True</td>\n",
       "      <td>False</td>\n",
       "      <td>gain</td>\n",
       "      <td>NS</td>\n",
       "    </tr>\n",
       "    <tr>\n",
       "      <th>150</th>\n",
       "      <td>2016</td>\n",
       "      <td>ru-en</td>\n",
       "      <td>online-B</td>\n",
       "      <td>uedin-nmt</td>\n",
       "      <td>0.072248</td>\n",
       "      <td>-0.013872</td>\n",
       "      <td>1</td>\n",
       "      <td>216</td>\n",
       "      <td>True</td>\n",
       "      <td>False</td>\n",
       "      <td>gain</td>\n",
       "      <td>NS</td>\n",
       "    </tr>\n",
       "    <tr>\n",
       "      <th>157</th>\n",
       "      <td>2016</td>\n",
       "      <td>ru-en</td>\n",
       "      <td>NRC</td>\n",
       "      <td>uedin-nmt</td>\n",
       "      <td>0.049014</td>\n",
       "      <td>0.001126</td>\n",
       "      <td>37</td>\n",
       "      <td>919</td>\n",
       "      <td>True</td>\n",
       "      <td>False</td>\n",
       "      <td>gain</td>\n",
       "      <td>NS</td>\n",
       "    </tr>\n",
       "    <tr>\n",
       "      <th>161</th>\n",
       "      <td>2016</td>\n",
       "      <td>ru-en</td>\n",
       "      <td>AMU-UEDIN</td>\n",
       "      <td>uedin-nmt</td>\n",
       "      <td>0.092034</td>\n",
       "      <td>0.017381</td>\n",
       "      <td>0</td>\n",
       "      <td>144</td>\n",
       "      <td>True</td>\n",
       "      <td>False</td>\n",
       "      <td>gain</td>\n",
       "      <td>NS</td>\n",
       "    </tr>\n",
       "    <tr>\n",
       "      <th>252</th>\n",
       "      <td>2017</td>\n",
       "      <td>de-en</td>\n",
       "      <td>online-B</td>\n",
       "      <td>uedin-nmt</td>\n",
       "      <td>0.050512</td>\n",
       "      <td>0.017374</td>\n",
       "      <td>47</td>\n",
       "      <td>176</td>\n",
       "      <td>True</td>\n",
       "      <td>False</td>\n",
       "      <td>gain</td>\n",
       "      <td>NS</td>\n",
       "    </tr>\n",
       "    <tr>\n",
       "      <th>326</th>\n",
       "      <td>2017</td>\n",
       "      <td>ru-en</td>\n",
       "      <td>online-G</td>\n",
       "      <td>afrl-mitll-syscomb</td>\n",
       "      <td>0.108819</td>\n",
       "      <td>0.000803</td>\n",
       "      <td>0</td>\n",
       "      <td>947</td>\n",
       "      <td>True</td>\n",
       "      <td>False</td>\n",
       "      <td>gain</td>\n",
       "      <td>NS</td>\n",
       "    </tr>\n",
       "    <tr>\n",
       "      <th>327</th>\n",
       "      <td>2017</td>\n",
       "      <td>ru-en</td>\n",
       "      <td>NRC</td>\n",
       "      <td>afrl-mitll-syscomb</td>\n",
       "      <td>0.063851</td>\n",
       "      <td>0.001509</td>\n",
       "      <td>14</td>\n",
       "      <td>900</td>\n",
       "      <td>True</td>\n",
       "      <td>False</td>\n",
       "      <td>gain</td>\n",
       "      <td>NS</td>\n",
       "    </tr>\n",
       "    <tr>\n",
       "      <th>338</th>\n",
       "      <td>2017</td>\n",
       "      <td>ru-en</td>\n",
       "      <td>online-G</td>\n",
       "      <td>afrl-mitll-opennmt</td>\n",
       "      <td>0.121112</td>\n",
       "      <td>-0.011279</td>\n",
       "      <td>0</td>\n",
       "      <td>372</td>\n",
       "      <td>True</td>\n",
       "      <td>False</td>\n",
       "      <td>gain</td>\n",
       "      <td>NS</td>\n",
       "    </tr>\n",
       "    <tr>\n",
       "      <th>339</th>\n",
       "      <td>2017</td>\n",
       "      <td>ru-en</td>\n",
       "      <td>online-G</td>\n",
       "      <td>online-A</td>\n",
       "      <td>0.069201</td>\n",
       "      <td>0.006171</td>\n",
       "      <td>9</td>\n",
       "      <td>635</td>\n",
       "      <td>True</td>\n",
       "      <td>False</td>\n",
       "      <td>gain</td>\n",
       "      <td>NS</td>\n",
       "    </tr>\n",
       "    <tr>\n",
       "      <th>341</th>\n",
       "      <td>2017</td>\n",
       "      <td>ru-en</td>\n",
       "      <td>NRC</td>\n",
       "      <td>afrl-mitll-opennmt</td>\n",
       "      <td>0.076145</td>\n",
       "      <td>-0.010572</td>\n",
       "      <td>6</td>\n",
       "      <td>414</td>\n",
       "      <td>True</td>\n",
       "      <td>False</td>\n",
       "      <td>gain</td>\n",
       "      <td>NS</td>\n",
       "    </tr>\n",
       "    <tr>\n",
       "      <th>345</th>\n",
       "      <td>2017</td>\n",
       "      <td>ru-en</td>\n",
       "      <td>online-A</td>\n",
       "      <td>afrl-mitll-opennmt</td>\n",
       "      <td>0.051911</td>\n",
       "      <td>-0.017450</td>\n",
       "      <td>49</td>\n",
       "      <td>181</td>\n",
       "      <td>True</td>\n",
       "      <td>False</td>\n",
       "      <td>gain</td>\n",
       "      <td>NS</td>\n",
       "    </tr>\n",
       "    <tr>\n",
       "      <th>371</th>\n",
       "      <td>2017</td>\n",
       "      <td>tr-en</td>\n",
       "      <td>online-G</td>\n",
       "      <td>LIUM-NMT</td>\n",
       "      <td>0.068518</td>\n",
       "      <td>0.013428</td>\n",
       "      <td>22</td>\n",
       "      <td>429</td>\n",
       "      <td>True</td>\n",
       "      <td>False</td>\n",
       "      <td>gain</td>\n",
       "      <td>NS</td>\n",
       "    </tr>\n",
       "    <tr>\n",
       "      <th>376</th>\n",
       "      <td>2017</td>\n",
       "      <td>tr-en</td>\n",
       "      <td>online-G</td>\n",
       "      <td>afrl-mitll-syscomb</td>\n",
       "      <td>0.064203</td>\n",
       "      <td>0.001875</td>\n",
       "      <td>17</td>\n",
       "      <td>910</td>\n",
       "      <td>True</td>\n",
       "      <td>False</td>\n",
       "      <td>gain</td>\n",
       "      <td>NS</td>\n",
       "    </tr>\n",
       "    <tr>\n",
       "      <th>402</th>\n",
       "      <td>2017</td>\n",
       "      <td>zh-en</td>\n",
       "      <td>online-B</td>\n",
       "      <td>CASICT-cons</td>\n",
       "      <td>0.138769</td>\n",
       "      <td>0.026566</td>\n",
       "      <td>0</td>\n",
       "      <td>73</td>\n",
       "      <td>True</td>\n",
       "      <td>False</td>\n",
       "      <td>gain</td>\n",
       "      <td>NS</td>\n",
       "    </tr>\n",
       "    <tr>\n",
       "      <th>406</th>\n",
       "      <td>2017</td>\n",
       "      <td>zh-en</td>\n",
       "      <td>jhu-nmt</td>\n",
       "      <td>ROCMT</td>\n",
       "      <td>0.081058</td>\n",
       "      <td>-0.004626</td>\n",
       "      <td>8</td>\n",
       "      <td>740</td>\n",
       "      <td>True</td>\n",
       "      <td>False</td>\n",
       "      <td>gain</td>\n",
       "      <td>NS</td>\n",
       "    </tr>\n",
       "    <tr>\n",
       "      <th>416</th>\n",
       "      <td>2017</td>\n",
       "      <td>zh-en</td>\n",
       "      <td>online-B</td>\n",
       "      <td>ROCMT</td>\n",
       "      <td>0.170593</td>\n",
       "      <td>-0.005170</td>\n",
       "      <td>0</td>\n",
       "      <td>732</td>\n",
       "      <td>True</td>\n",
       "      <td>False</td>\n",
       "      <td>gain</td>\n",
       "      <td>NS</td>\n",
       "    </tr>\n",
       "    <tr>\n",
       "      <th>429</th>\n",
       "      <td>2017</td>\n",
       "      <td>zh-en</td>\n",
       "      <td>online-B</td>\n",
       "      <td>jhu-nmt</td>\n",
       "      <td>0.089535</td>\n",
       "      <td>-0.000544</td>\n",
       "      <td>2</td>\n",
       "      <td>974</td>\n",
       "      <td>True</td>\n",
       "      <td>False</td>\n",
       "      <td>gain</td>\n",
       "      <td>NS</td>\n",
       "    </tr>\n",
       "    <tr>\n",
       "      <th>497</th>\n",
       "      <td>2017</td>\n",
       "      <td>zh-en</td>\n",
       "      <td>online-B</td>\n",
       "      <td>afrl-mitll-opennmt</td>\n",
       "      <td>0.129208</td>\n",
       "      <td>0.020810</td>\n",
       "      <td>0</td>\n",
       "      <td>163</td>\n",
       "      <td>True</td>\n",
       "      <td>False</td>\n",
       "      <td>gain</td>\n",
       "      <td>NS</td>\n",
       "    </tr>\n",
       "    <tr>\n",
       "      <th>510</th>\n",
       "      <td>2017</td>\n",
       "      <td>zh-en</td>\n",
       "      <td>PROMT-SMT</td>\n",
       "      <td>UU-HNMT</td>\n",
       "      <td>0.066812</td>\n",
       "      <td>-0.067248</td>\n",
       "      <td>24</td>\n",
       "      <td>0</td>\n",
       "      <td>True</td>\n",
       "      <td>True</td>\n",
       "      <td>gain</td>\n",
       "      <td>loss</td>\n",
       "    </tr>\n",
       "    <tr>\n",
       "      <th>526</th>\n",
       "      <td>2018</td>\n",
       "      <td>de-en</td>\n",
       "      <td>online-Y.0</td>\n",
       "      <td>uedin.5766</td>\n",
       "      <td>0.049064</td>\n",
       "      <td>0.024471</td>\n",
       "      <td>45</td>\n",
       "      <td>57</td>\n",
       "      <td>True</td>\n",
       "      <td>False</td>\n",
       "      <td>gain</td>\n",
       "      <td>NS</td>\n",
       "    </tr>\n",
       "    <tr>\n",
       "      <th>527</th>\n",
       "      <td>2018</td>\n",
       "      <td>de-en</td>\n",
       "      <td>Ubiqus-NMT.5635</td>\n",
       "      <td>uedin.5766</td>\n",
       "      <td>0.054076</td>\n",
       "      <td>0.021691</td>\n",
       "      <td>20</td>\n",
       "      <td>78</td>\n",
       "      <td>True</td>\n",
       "      <td>False</td>\n",
       "      <td>gain</td>\n",
       "      <td>NS</td>\n",
       "    </tr>\n",
       "    <tr>\n",
       "      <th>691</th>\n",
       "      <td>2018</td>\n",
       "      <td>et-en</td>\n",
       "      <td>M4t1ss.5692</td>\n",
       "      <td>online-B.0</td>\n",
       "      <td>0.070163</td>\n",
       "      <td>-0.008374</td>\n",
       "      <td>14</td>\n",
       "      <td>580</td>\n",
       "      <td>True</td>\n",
       "      <td>False</td>\n",
       "      <td>gain</td>\n",
       "      <td>NS</td>\n",
       "    </tr>\n",
       "    <tr>\n",
       "      <th>717</th>\n",
       "      <td>2018</td>\n",
       "      <td>et-en</td>\n",
       "      <td>tilde-c-nmt.5715</td>\n",
       "      <td>online-B.0</td>\n",
       "      <td>0.098422</td>\n",
       "      <td>0.014961</td>\n",
       "      <td>0</td>\n",
       "      <td>359</td>\n",
       "      <td>True</td>\n",
       "      <td>False</td>\n",
       "      <td>gain</td>\n",
       "      <td>NS</td>\n",
       "    </tr>\n",
       "    <tr>\n",
       "      <th>723</th>\n",
       "      <td>2018</td>\n",
       "      <td>et-en</td>\n",
       "      <td>uedin.5562</td>\n",
       "      <td>online-B.0</td>\n",
       "      <td>0.069435</td>\n",
       "      <td>0.011052</td>\n",
       "      <td>21</td>\n",
       "      <td>501</td>\n",
       "      <td>True</td>\n",
       "      <td>False</td>\n",
       "      <td>gain</td>\n",
       "      <td>NS</td>\n",
       "    </tr>\n",
       "    <tr>\n",
       "      <th>871</th>\n",
       "      <td>2018</td>\n",
       "      <td>zh-en</td>\n",
       "      <td>UMD.5681</td>\n",
       "      <td>online-Y.0</td>\n",
       "      <td>0.083174</td>\n",
       "      <td>0.015411</td>\n",
       "      <td>6</td>\n",
       "      <td>211</td>\n",
       "      <td>True</td>\n",
       "      <td>False</td>\n",
       "      <td>gain</td>\n",
       "      <td>NS</td>\n",
       "    </tr>\n",
       "    <tr>\n",
       "      <th>968</th>\n",
       "      <td>2019</td>\n",
       "      <td>gu-en</td>\n",
       "      <td>UdS-DFKI.6861</td>\n",
       "      <td>Ju-Saarland.6525</td>\n",
       "      <td>0.320439</td>\n",
       "      <td>-0.130972</td>\n",
       "      <td>0</td>\n",
       "      <td>0</td>\n",
       "      <td>True</td>\n",
       "      <td>True</td>\n",
       "      <td>gain</td>\n",
       "      <td>loss</td>\n",
       "    </tr>\n",
       "    <tr>\n",
       "      <th>1003</th>\n",
       "      <td>2019</td>\n",
       "      <td>gu-en</td>\n",
       "      <td>online-G.0</td>\n",
       "      <td>Ju-Saarland.6525</td>\n",
       "      <td>0.408526</td>\n",
       "      <td>-0.067033</td>\n",
       "      <td>0</td>\n",
       "      <td>2</td>\n",
       "      <td>True</td>\n",
       "      <td>True</td>\n",
       "      <td>gain</td>\n",
       "      <td>loss</td>\n",
       "    </tr>\n",
       "    <tr>\n",
       "      <th>1010</th>\n",
       "      <td>2019</td>\n",
       "      <td>gu-en</td>\n",
       "      <td>IIITH-MT.6688</td>\n",
       "      <td>Ju-Saarland.6525</td>\n",
       "      <td>0.301276</td>\n",
       "      <td>-0.121203</td>\n",
       "      <td>0</td>\n",
       "      <td>0</td>\n",
       "      <td>True</td>\n",
       "      <td>True</td>\n",
       "      <td>gain</td>\n",
       "      <td>loss</td>\n",
       "    </tr>\n",
       "    <tr>\n",
       "      <th>1036</th>\n",
       "      <td>2019</td>\n",
       "      <td>kk-en</td>\n",
       "      <td>NRC-CNRC.6895</td>\n",
       "      <td>CUNI-T2T-transfer-kken.6436</td>\n",
       "      <td>0.089137</td>\n",
       "      <td>0.031291</td>\n",
       "      <td>14</td>\n",
       "      <td>163</td>\n",
       "      <td>True</td>\n",
       "      <td>False</td>\n",
       "      <td>gain</td>\n",
       "      <td>NS</td>\n",
       "    </tr>\n",
       "    <tr>\n",
       "      <th>1103</th>\n",
       "      <td>2019</td>\n",
       "      <td>lt-en</td>\n",
       "      <td>online-G.0</td>\n",
       "      <td>online-X.0</td>\n",
       "      <td>0.111993</td>\n",
       "      <td>-0.022735</td>\n",
       "      <td>5</td>\n",
       "      <td>320</td>\n",
       "      <td>True</td>\n",
       "      <td>False</td>\n",
       "      <td>gain</td>\n",
       "      <td>NS</td>\n",
       "    </tr>\n",
       "  </tbody>\n",
       "</table>\n",
       "</div>"
      ],
      "text/plain": [
       "      year     lp                s1                           s2  \\\n",
       "78    2016  fi-en         PROMT-SMT                  UH-factored   \n",
       "127   2016  ru-en  PROMT-Rule-based            AFRL-MITLL-Phrase   \n",
       "144   2016  ru-en  PROMT-Rule-based                     online-A   \n",
       "150   2016  ru-en          online-B                    uedin-nmt   \n",
       "157   2016  ru-en               NRC                    uedin-nmt   \n",
       "161   2016  ru-en         AMU-UEDIN                    uedin-nmt   \n",
       "252   2017  de-en          online-B                    uedin-nmt   \n",
       "326   2017  ru-en          online-G           afrl-mitll-syscomb   \n",
       "327   2017  ru-en               NRC           afrl-mitll-syscomb   \n",
       "338   2017  ru-en          online-G           afrl-mitll-opennmt   \n",
       "339   2017  ru-en          online-G                     online-A   \n",
       "341   2017  ru-en               NRC           afrl-mitll-opennmt   \n",
       "345   2017  ru-en          online-A           afrl-mitll-opennmt   \n",
       "371   2017  tr-en          online-G                     LIUM-NMT   \n",
       "376   2017  tr-en          online-G           afrl-mitll-syscomb   \n",
       "402   2017  zh-en          online-B                  CASICT-cons   \n",
       "406   2017  zh-en           jhu-nmt                        ROCMT   \n",
       "416   2017  zh-en          online-B                        ROCMT   \n",
       "429   2017  zh-en          online-B                      jhu-nmt   \n",
       "497   2017  zh-en          online-B           afrl-mitll-opennmt   \n",
       "510   2017  zh-en         PROMT-SMT                      UU-HNMT   \n",
       "526   2018  de-en        online-Y.0                   uedin.5766   \n",
       "527   2018  de-en   Ubiqus-NMT.5635                   uedin.5766   \n",
       "691   2018  et-en       M4t1ss.5692                   online-B.0   \n",
       "717   2018  et-en  tilde-c-nmt.5715                   online-B.0   \n",
       "723   2018  et-en        uedin.5562                   online-B.0   \n",
       "871   2018  zh-en          UMD.5681                   online-Y.0   \n",
       "968   2019  gu-en     UdS-DFKI.6861             Ju-Saarland.6525   \n",
       "1003  2019  gu-en        online-G.0             Ju-Saarland.6525   \n",
       "1010  2019  gu-en     IIITH-MT.6688             Ju-Saarland.6525   \n",
       "1036  2019  kk-en     NRC-CNRC.6895  CUNI-T2T-transfer-kken.6436   \n",
       "1103  2019  lt-en        online-G.0                   online-X.0   \n",
       "\n",
       "      human_statistic  metric_statistic  human_c  metric_c  human_sig  \\\n",
       "78           0.060931          0.025232       13        58       True   \n",
       "127          0.084057         -0.015295        0       188       True   \n",
       "144          0.050976         -0.001628       10       884       True   \n",
       "150          0.072248         -0.013872        1       216       True   \n",
       "157          0.049014          0.001126       37       919       True   \n",
       "161          0.092034          0.017381        0       144       True   \n",
       "252          0.050512          0.017374       47       176       True   \n",
       "326          0.108819          0.000803        0       947       True   \n",
       "327          0.063851          0.001509       14       900       True   \n",
       "338          0.121112         -0.011279        0       372       True   \n",
       "339          0.069201          0.006171        9       635       True   \n",
       "341          0.076145         -0.010572        6       414       True   \n",
       "345          0.051911         -0.017450       49       181       True   \n",
       "371          0.068518          0.013428       22       429       True   \n",
       "376          0.064203          0.001875       17       910       True   \n",
       "402          0.138769          0.026566        0        73       True   \n",
       "406          0.081058         -0.004626        8       740       True   \n",
       "416          0.170593         -0.005170        0       732       True   \n",
       "429          0.089535         -0.000544        2       974       True   \n",
       "497          0.129208          0.020810        0       163       True   \n",
       "510          0.066812         -0.067248       24         0       True   \n",
       "526          0.049064          0.024471       45        57       True   \n",
       "527          0.054076          0.021691       20        78       True   \n",
       "691          0.070163         -0.008374       14       580       True   \n",
       "717          0.098422          0.014961        0       359       True   \n",
       "723          0.069435          0.011052       21       501       True   \n",
       "871          0.083174          0.015411        6       211       True   \n",
       "968          0.320439         -0.130972        0         0       True   \n",
       "1003         0.408526         -0.067033        0         2       True   \n",
       "1010         0.301276         -0.121203        0         0       True   \n",
       "1036         0.089137          0.031291       14       163       True   \n",
       "1103         0.111993         -0.022735        5       320       True   \n",
       "\n",
       "      metric_sig human_decision metric_decision  \n",
       "78         False           gain              NS  \n",
       "127        False           gain              NS  \n",
       "144        False           gain              NS  \n",
       "150        False           gain              NS  \n",
       "157        False           gain              NS  \n",
       "161        False           gain              NS  \n",
       "252        False           gain              NS  \n",
       "326        False           gain              NS  \n",
       "327        False           gain              NS  \n",
       "338        False           gain              NS  \n",
       "339        False           gain              NS  \n",
       "341        False           gain              NS  \n",
       "345        False           gain              NS  \n",
       "371        False           gain              NS  \n",
       "376        False           gain              NS  \n",
       "402        False           gain              NS  \n",
       "406        False           gain              NS  \n",
       "416        False           gain              NS  \n",
       "429        False           gain              NS  \n",
       "497        False           gain              NS  \n",
       "510         True           gain            loss  \n",
       "526        False           gain              NS  \n",
       "527        False           gain              NS  \n",
       "691        False           gain              NS  \n",
       "717        False           gain              NS  \n",
       "723        False           gain              NS  \n",
       "871        False           gain              NS  \n",
       "968         True           gain            loss  \n",
       "1003        True           gain            loss  \n",
       "1010        True           gain            loss  \n",
       "1036       False           gain              NS  \n",
       "1103       False           gain              NS  "
      ]
     },
     "execution_count": 31,
     "metadata": {},
     "output_type": "execute_result"
    }
   ],
   "source": [
    "randomized_approx[(randomized_approx.human_decision != 'NS') & (randomized_approx.human_decision != randomized_approx.metric_decision)]"
   ]
  },
  {
   "cell_type": "markdown",
   "metadata": {},
   "source": [
    "### Visualize a pairwise judgment"
   ]
  },
  {
   "cell_type": "code",
   "execution_count": 67,
   "metadata": {},
   "outputs": [],
   "source": [
    "def visualize_pairwise(year, lp, s1_name, s2_name):\n",
    "    s1 = wmt_toen[(wmt_toen.year == year) & (wmt_toen.lp == lp) & (wmt_toen.system == s1_name)]\n",
    "    s2 = wmt_toen[(wmt_toen.year == year) & (wmt_toen.lp == lp) & (wmt_toen.system == s2_name)]\n",
    "\n",
    "    print(len(s1), len(s2))\n",
    "    merged = s1.merge(s2, on=['sid'])\n",
    "    print(len(merged))\n",
    "\n",
    "    merged['h_diff'] = merged['score_x'] - merged['score_y']\n",
    "    merged['m_diff'] = merged['bleurt_x'] - merged['bleurt_y']\n",
    "    \n",
    "    agree = 0\n",
    "    for i, row in merged.iterrows():\n",
    "        if np.sign(row['h_diff']) == np.sign(row['m_diff']):\n",
    "            agree += 1\n",
    "    print(agree/len(merged))\n",
    "    \n",
    "    sns.jointplot(x='h_diff', y='m_diff', data=merged, kind='scatter')"
   ]
  },
  {
   "cell_type": "code",
   "execution_count": 69,
   "metadata": {},
   "outputs": [
    {
     "name": "stdout",
     "output_type": "stream",
     "text": [
      "1016 1016\n",
      "1016\n",
      "0.5492125984251969\n"
     ]
    },
    {
     "data": {
      "image/png": "[encoded data removed]",
      "text/plain": [
       "<Figure size 432x432 with 3 Axes>"
      ]
     },
     "metadata": {},
     "output_type": "display_data"
    }
   ],
   "source": [
    "# metric judged incorrectly\n",
    "visualize_pairwise(year = 2019,\n",
    "                   lp = 'gu-en',\n",
    "                   s1_name = 'Ju-Saarland.6525',\n",
    "                   s2_name = 'online-G.0'\n",
    "                  )"
   ]
  },
  {
   "cell_type": "code",
   "execution_count": 70,
   "metadata": {},
   "outputs": [
    {
     "name": "stdout",
     "output_type": "stream",
     "text": [
      "1692 1699\n",
      "1447\n",
      "0.590186592950933\n"
     ]
    },
    {
     "data": {
      "image/png": "[encoded data removed]",
      "text/plain": [
       "<Figure size 432x432 with 3 Axes>"
      ]
     },
     "metadata": {},
     "output_type": "display_data"
    }
   ],
   "source": [
    "# metric judged correctly\n",
    "visualize_pairwise(year = 2019,\n",
    "                   lp = 'ru-en',\n",
    "                   s1_name = 'Facebook-FAIR.6937',\n",
    "                   s2_name = 'online-A.0'\n",
    "                  )"
   ]
  }
 ],
 "metadata": {
  "kernelspec": {
   "display_name": "Python 3",
   "language": "python",
   "name": "python3"
  },
  "language_info": {
   "codemirror_mode": {
    "name": "ipython",
    "version": 3
   },
   "file_extension": ".py",
   "mimetype": "text/x-python",
   "name": "python",
   "nbconvert_exporter": "python",
   "pygments_lexer": "ipython3",
   "version": "3.8.1"
  }
 },
 "nbformat": 4,
 "nbformat_minor": 4
}
