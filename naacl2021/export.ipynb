{
 "cells": [
  {
   "cell_type": "code",
   "execution_count": 29,
   "metadata": {},
   "outputs": [],
   "source": [
    "import pandas as pd\n",
    "import pickle"
   ]
  },
  {
   "cell_type": "code",
   "execution_count": 30,
   "metadata": {},
   "outputs": [],
   "source": [
    "wmt19 = pickle.load(open('../wmt16-19-metrics-shared-task/wmt_metadata/pickles/wmt19_sys_metadata.pkl', 'rb'))"
   ]
  },
  {
   "cell_type": "code",
   "execution_count": 31,
   "metadata": {},
   "outputs": [],
   "source": [
    "wmt_toen = wmt19[wmt19.lp.str.endswith('en')]"
   ]
  },
  {
   "cell_type": "markdown",
   "metadata": {},
   "source": [
    "### Export"
   ]
  },
  {
   "cell_type": "code",
   "execution_count": 32,
   "metadata": {},
   "outputs": [
    {
     "name": "stdout",
     "output_type": "stream",
     "text": [
      "151919\n",
      "96087\n"
     ]
    }
   ],
   "source": [
    "export = wmt_toen[['lp', 'sid', 'system', 'source', 'reference', 'output']].copy()\n",
    "print(len(export))\n",
    "export.drop_duplicates(inplace=True)\n",
    "export.dropna(inplace=True)\n",
    "print(len(export))"
   ]
  },
  {
   "cell_type": "code",
   "execution_count": 33,
   "metadata": {},
   "outputs": [],
   "source": [
    "references = open('references.txt', 'wt')\n",
    "outputs = open('outputs.txt', 'wt')\n",
    "\n",
    "for i, row in export.iterrows():\n",
    "    references.write(row['reference'].strip() + '\\n')\n",
    "    outputs.write(row['output'].strip() + '\\n')\n",
    "    \n",
    "references.close()\n",
    "outputs.close()"
   ]
  },
  {
   "cell_type": "code",
   "execution_count": 34,
   "metadata": {},
   "outputs": [],
   "source": [
    "export[['lp', 'sid', 'system']].to_csv('indexes.tsv', sep='\\t')"
   ]
  }
 ],
 "metadata": {
  "kernelspec": {
   "display_name": "Python 3",
   "language": "python",
   "name": "python3"
  },
  "language_info": {
   "codemirror_mode": {
    "name": "ipython",
    "version": 3
   },
   "file_extension": ".py",
   "mimetype": "text/x-python",
   "name": "python",
   "nbconvert_exporter": "python",
   "pygments_lexer": "ipython3",
   "version": "3.8.1"
  }
 },
 "nbformat": 4,
 "nbformat_minor": 4
}
