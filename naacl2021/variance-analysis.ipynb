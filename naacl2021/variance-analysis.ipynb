{
 "cells": [
  {
   "cell_type": "code",
   "execution_count": 100,
   "metadata": {},
   "outputs": [],
   "source": [
    "import pickle\n",
    "import pandas as pd\n",
    "from tqdm import tqdm\n",
    "import json"
   ]
  },
  {
   "cell_type": "markdown",
   "metadata": {},
   "source": [
    "### Data"
   ]
  },
  {
   "cell_type": "code",
   "execution_count": 86,
   "metadata": {},
   "outputs": [],
   "source": [
    "wmt16 = pickle.load(open('../wmt16-19-metrics-shared-task/wmt_metadata/pickles/wmt16_sys_metadata.pkl', 'rb'))\n",
    "wmt17 = pickle.load(open('../wmt16-19-metrics-shared-task/wmt_metadata/pickles/wmt17_sys_metadata.pkl', 'rb'))\n",
    "wmt18 = pickle.load(open('../wmt16-19-metrics-shared-task/wmt_metadata/pickles/wmt18_sys_metadata.pkl', 'rb'))\n",
    "wmt19 = pickle.load(open('../wmt16-19-metrics-shared-task/wmt_metadata/pickles/wmt19_sys_metadata.pkl', 'rb'))"
   ]
  },
  {
   "cell_type": "code",
   "execution_count": 87,
   "metadata": {},
   "outputs": [],
   "source": [
    "wmt19.drop('sys_id', axis=1, inplace=True)\n",
    "wmt18.columns = [ i if i != 'sys_id' else 'system' for i in wmt18.columns ]\n",
    "wmt17.columns = [ i if i != 'sys_id' else 'system' for i in wmt17.columns ]\n",
    "wmt16.columns = [ i if i != 'sys_id' else 'system' for i in wmt16.columns ]"
   ]
  },
  {
   "cell_type": "code",
   "execution_count": 88,
   "metadata": {},
   "outputs": [
    {
     "data": {
      "text/plain": [
       "SYSTEM     147000\n",
       "REPEAT      21000\n",
       "REF         21000\n",
       "BAD_REF     21000\n",
       "Name: type, dtype: int64"
      ]
     },
     "execution_count": 88,
     "metadata": {},
     "output_type": "execute_result"
    }
   ],
   "source": [
    "wmt16.type.value_counts()"
   ]
  },
  {
   "cell_type": "code",
   "execution_count": 89,
   "metadata": {},
   "outputs": [
    {
     "data": {
      "text/plain": [
       "SYSTEM     273822\n",
       "REPEAT      33885\n",
       "REF         33835\n",
       "BAD_REF     33783\n",
       "Name: type, dtype: int64"
      ]
     },
     "execution_count": 89,
     "metadata": {},
     "output_type": "execute_result"
    }
   ],
   "source": [
    "wmt17.type.value_counts()"
   ]
  },
  {
   "cell_type": "code",
   "execution_count": 90,
   "metadata": {},
   "outputs": [
    {
     "data": {
      "text/plain": [
       "SYSTEM     265387\n",
       "BAD_REF     36924\n",
       "REPEAT      26489\n",
       "REF         26003\n",
       "Name: type, dtype: int64"
      ]
     },
     "execution_count": 90,
     "metadata": {},
     "output_type": "execute_result"
    }
   ],
   "source": [
    "wmt18.type.value_counts()"
   ]
  },
  {
   "cell_type": "code",
   "execution_count": 91,
   "metadata": {},
   "outputs": [
    {
     "data": {
      "text/plain": [
       "SYSTEM     139963\n",
       "REPEAT      13266\n",
       "REF         13177\n",
       "BAD_REF     13113\n",
       "Name: type, dtype: int64"
      ]
     },
     "execution_count": 91,
     "metadata": {},
     "output_type": "execute_result"
    }
   ],
   "source": [
    "wmt19.type.value_counts()"
   ]
  },
  {
   "cell_type": "markdown",
   "metadata": {},
   "source": [
    "### Pooled variances"
   ]
  },
  {
   "cell_type": "code",
   "execution_count": 92,
   "metadata": {},
   "outputs": [],
   "source": [
    "def pooled_variance(groups, variable='score'):\n",
    "    stds = []\n",
    "    for i, group in groups:\n",
    "        if len(group) < 2:\n",
    "            continue   \n",
    "        stds.append((len(group), group.std()[variable]))\n",
    "        \n",
    "    num = 0\n",
    "    denom = 0\n",
    "\n",
    "    for n, sigma in stds:\n",
    "        denom += (n-1)\n",
    "        num += (n-1) * sigma * sigma\n",
    "\n",
    "    pooled_var = num / denom\n",
    "    return pooled_var"
   ]
  },
  {
   "cell_type": "code",
   "execution_count": 96,
   "metadata": {},
   "outputs": [],
   "source": [
    "pooled_vars = {}\n",
    "for i, dataset in [('wmt16', wmt16), ('wmt17', wmt17), ('wmt18', wmt18), ('wmt19', wmt19)]:\n",
    "    dataset = dataset[dataset.type.isin(['SYSTEM', 'REPEAT'])]\n",
    "    pooled_vars[i] = pooled_variance(dataset.groupby(['lp', 'system', 'sid']))"
   ]
  },
  {
   "cell_type": "code",
   "execution_count": 97,
   "metadata": {},
   "outputs": [
    {
     "data": {
      "text/plain": [
       "{'wmt16': 315.5297343041444,\n",
       " 'wmt17': 466.68479168155824,\n",
       " 'wmt18': 429.7394795720775,\n",
       " 'wmt19': 458.6292985991144}"
      ]
     },
     "execution_count": 97,
     "metadata": {},
     "output_type": "execute_result"
    }
   ],
   "source": [
    "pooled_vars"
   ]
  },
  {
   "cell_type": "code",
   "execution_count": 106,
   "metadata": {},
   "outputs": [],
   "source": [
    "pooled_vars_toen = {}\n",
    "for i, dataset in [('wmt16', wmt16), ('wmt17', wmt17), ('wmt18', wmt18), ('wmt19', wmt19)]:\n",
    "    dataset = dataset[dataset.type.isin(['SYSTEM', 'REPEAT']) & \\\n",
    "                      dataset.lp.str.endswith('en')]\n",
    "    pooled_vars_toen[i] = pooled_variance(dataset.groupby(['lp', 'system', 'sid']))"
   ]
  },
  {
   "cell_type": "code",
   "execution_count": 107,
   "metadata": {},
   "outputs": [
    {
     "data": {
      "text/plain": [
       "{'wmt16': 307.17626731473774,\n",
       " 'wmt17': 527.2973972404222,\n",
       " 'wmt18': 382.8504227475613,\n",
       " 'wmt19': 458.6292985991144}"
      ]
     },
     "execution_count": 107,
     "metadata": {},
     "output_type": "execute_result"
    }
   ],
   "source": [
    "pooled_vars_toen"
   ]
  },
  {
   "cell_type": "markdown",
   "metadata": {},
   "source": [
    "### Total variances"
   ]
  },
  {
   "cell_type": "code",
   "execution_count": 98,
   "metadata": {},
   "outputs": [],
   "source": [
    "total_vars = {}\n",
    "for i, dataset in [('wmt16', wmt16), ('wmt17', wmt17), ('wmt18', wmt18), ('wmt19', wmt19)]:\n",
    "    dataset = dataset[dataset.type.isin(['SYSTEM', 'REPEAT'])]\n",
    "    total_vars[i] = dataset.var()['score']"
   ]
  },
  {
   "cell_type": "code",
   "execution_count": 99,
   "metadata": {},
   "outputs": [
    {
     "data": {
      "text/plain": [
       "{'wmt16': 929.3833283786197,\n",
       " 'wmt17': 941.6081748841809,\n",
       " 'wmt18': 860.2982230631335,\n",
       " 'wmt19': 888.5818433621715}"
      ]
     },
     "execution_count": 99,
     "metadata": {},
     "output_type": "execute_result"
    }
   ],
   "source": [
    "total_vars"
   ]
  },
  {
   "cell_type": "code",
   "execution_count": 108,
   "metadata": {},
   "outputs": [],
   "source": [
    "total_vars_toen = {}\n",
    "for i, dataset in [('wmt16', wmt16), ('wmt17', wmt17), ('wmt18', wmt18), ('wmt19', wmt19)]:\n",
    "    dataset = dataset[dataset.type.isin(['SYSTEM', 'REPEAT']) & \\\n",
    "                      dataset.lp.str.endswith('en')]\n",
    "    total_vars_toen[i] = dataset.var()['score']"
   ]
  },
  {
   "cell_type": "code",
   "execution_count": 109,
   "metadata": {},
   "outputs": [
    {
     "data": {
      "text/plain": [
       "{'wmt16': 900.345673312272,\n",
       " 'wmt17': 879.1690392977753,\n",
       " 'wmt18': 795.9652837203586,\n",
       " 'wmt19': 829.7852689294594}"
      ]
     },
     "execution_count": 109,
     "metadata": {},
     "output_type": "execute_result"
    }
   ],
   "source": [
    "total_vars_toen"
   ]
  },
  {
   "cell_type": "markdown",
   "metadata": {},
   "source": [
    "### Export"
   ]
  },
  {
   "cell_type": "code",
   "execution_count": 105,
   "metadata": {},
   "outputs": [],
   "source": [
    "json.dump(pooled_vars, open('./data/pooled_vars.json', 'wt'))\n",
    "json.dump(total_vars, open('./data/total_vars.json', 'wt'))"
   ]
  },
  {
   "cell_type": "code",
   "execution_count": 110,
   "metadata": {},
   "outputs": [],
   "source": [
    "json.dump(pooled_vars_toen, open('./data/pooled_vars_toen.json', 'wt'))\n",
    "json.dump(total_vars_toen, open('./data/total_vars_toen.json', 'wt'))"
   ]
  }
 ],
 "metadata": {
  "kernelspec": {
   "display_name": "Python 3",
   "language": "python",
   "name": "python3"
  },
  "language_info": {
   "codemirror_mode": {
    "name": "ipython",
    "version": 3
   },
   "file_extension": ".py",
   "mimetype": "text/x-python",
   "name": "python",
   "nbconvert_exporter": "python",
   "pygments_lexer": "ipython3",
   "version": "3.8.1"
  }
 },
 "nbformat": 4,
 "nbformat_minor": 4
}
